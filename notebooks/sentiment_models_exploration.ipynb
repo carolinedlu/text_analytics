{
 "cells": [
  {
   "cell_type": "markdown",
   "metadata": {},
   "source": [
    "# ISSS609 Text Analytics and Applications\n",
    "## IMBD Movie Review - Sentiment Analysis\n",
    "### G1 - Group 4"
   ]
  },
  {
   "cell_type": "code",
   "execution_count": 2,
   "metadata": {},
   "outputs": [],
   "source": [
    "import pandas as pd\n",
    "import numpy as np\n",
    "import matplotlib.pyplot as plt\n",
    "import seaborn as sns\n",
    "from wordcloud import WordCloud\n",
    "\n",
    "#Text cleaning\n",
    "import re, string\n",
    "import nltk\n",
    "from nltk.stem import WordNetLemmatizer,PorterStemmer\n",
    "from nltk.corpus import stopwords, wordnet\n",
    "pd.set_option('display.max_colwidth', None)\n",
    "import warnings\n",
    "warnings.filterwarnings('ignore')\n",
    "# Modelling\n",
    "import pickle\n",
    "from nltk.sentiment.vader import SentimentIntensityAnalyzer\n",
    "from sklearn.feature_extraction.text import CountVectorizer, TfidfVectorizer\n",
    "from sklearn.model_selection import train_test_split\n",
    "from sklearn import metrics\n",
    "from sklearn.metrics import confusion_matrix, classification_report\n",
    "from sklearn.naive_bayes import MultinomialNB\n",
    "from sklearn.ensemble import RandomForestClassifier\n",
    "from sklearn.linear_model import LogisticRegression\n",
    "from sklearn.model_selection import RandomizedSearchCV, GridSearchCV, StratifiedKFold\n",
    "from text_analytics.config import RAW_DATA_PATH, SENTIMENT_CLEANED_DATA_PATH"
   ]
  },
  {
   "cell_type": "code",
   "execution_count": 3,
   "metadata": {},
   "outputs": [
    {
     "data": {
      "text/html": [
       "<div>\n",
       "<style scoped>\n",
       "    .dataframe tbody tr th:only-of-type {\n",
       "        vertical-align: middle;\n",
       "    }\n",
       "\n",
       "    .dataframe tbody tr th {\n",
       "        vertical-align: top;\n",
       "    }\n",
       "\n",
       "    .dataframe thead th {\n",
       "        text-align: right;\n",
       "    }\n",
       "</style>\n",
       "<table border=\"1\" class=\"dataframe\">\n",
       "  <thead>\n",
       "    <tr style=\"text-align: right;\">\n",
       "      <th></th>\n",
       "      <th>review</th>\n",
       "      <th>sentiment</th>\n",
       "    </tr>\n",
       "  </thead>\n",
       "  <tbody>\n",
       "    <tr>\n",
       "      <th>0</th>\n",
       "      <td>One of the other reviewers has mentioned that after watching just 1 Oz episode you'll be hooked. They are right, as this is exactly what happened with me.&lt;br /&gt;&lt;br /&gt;The first thing that struck me about Oz was its brutality and unflinching scenes of violence, which set in right from the word GO. Trust me, this is not a show for the faint hearted or timid. This show pulls no punches with regards to drugs, sex or violence. Its is hardcore, in the classic use of the word.&lt;br /&gt;&lt;br /&gt;It is called OZ as that is the nickname given to the Oswald Maximum Security State Penitentary. It focuses mainly on Emerald City, an experimental section of the prison where all the cells have glass fronts and face inwards, so privacy is not high on the agenda. Em City is home to many..Aryans, Muslims, gangstas, Latinos, Christians, Italians, Irish and more....so scuffles, death stares, dodgy dealings and shady agreements are never far away.&lt;br /&gt;&lt;br /&gt;I would say the main appeal of the show is due to the fact that it goes where other shows wouldn't dare. Forget pretty pictures painted for mainstream audiences, forget charm, forget romance...OZ doesn't mess around. The first episode I ever saw struck me as so nasty it was surreal, I couldn't say I was ready for it, but as I watched more, I developed a taste for Oz, and got accustomed to the high levels of graphic violence. Not just violence, but injustice (crooked guards who'll be sold out for a nickel, inmates who'll kill on order and get away with it, well mannered, middle class inmates being turned into prison bitches due to their lack of street skills or prison experience) Watching Oz, you may become comfortable with what is uncomfortable viewing....thats if you can get in touch with your darker side.</td>\n",
       "      <td>positive</td>\n",
       "    </tr>\n",
       "    <tr>\n",
       "      <th>1</th>\n",
       "      <td>A wonderful little production. &lt;br /&gt;&lt;br /&gt;The filming technique is very unassuming- very old-time-BBC fashion and gives a comforting, and sometimes discomforting, sense of realism to the entire piece. &lt;br /&gt;&lt;br /&gt;The actors are extremely well chosen- Michael Sheen not only \"has got all the polari\" but he has all the voices down pat too! You can truly see the seamless editing guided by the references to Williams' diary entries, not only is it well worth the watching but it is a terrificly written and performed piece. A masterful production about one of the great master's of comedy and his life. &lt;br /&gt;&lt;br /&gt;The realism really comes home with the little things: the fantasy of the guard which, rather than use the traditional 'dream' techniques remains solid then disappears. It plays on our knowledge and our senses, particularly with the scenes concerning Orton and Halliwell and the sets (particularly of their flat with Halliwell's murals decorating every surface) are terribly well done.</td>\n",
       "      <td>positive</td>\n",
       "    </tr>\n",
       "    <tr>\n",
       "      <th>2</th>\n",
       "      <td>I thought this was a wonderful way to spend time on a too hot summer weekend, sitting in the air conditioned theater and watching a light-hearted comedy. The plot is simplistic, but the dialogue is witty and the characters are likable (even the well bread suspected serial killer). While some may be disappointed when they realize this is not Match Point 2: Risk Addiction, I thought it was proof that Woody Allen is still fully in control of the style many of us have grown to love.&lt;br /&gt;&lt;br /&gt;This was the most I'd laughed at one of Woody's comedies in years (dare I say a decade?). While I've never been impressed with Scarlet Johanson, in this she managed to tone down her \"sexy\" image and jumped right into a average, but spirited young woman.&lt;br /&gt;&lt;br /&gt;This may not be the crown jewel of his career, but it was wittier than \"Devil Wears Prada\" and more interesting than \"Superman\" a great comedy to go see with friends.</td>\n",
       "      <td>positive</td>\n",
       "    </tr>\n",
       "  </tbody>\n",
       "</table>\n",
       "</div>"
      ],
      "text/plain": [
       "                                                                                                                                                                                                                                                                                                                                                                                                                                                                                                                                                                                                                                                                                                                                                                                                                                                                                                                                                                                                                                                                                                                                                                                                                                                                                                                                                                                                                                                                                                                                                                                                                                                                                                                                                                                                                              review  \\\n",
       "0  One of the other reviewers has mentioned that after watching just 1 Oz episode you'll be hooked. They are right, as this is exactly what happened with me.<br /><br />The first thing that struck me about Oz was its brutality and unflinching scenes of violence, which set in right from the word GO. Trust me, this is not a show for the faint hearted or timid. This show pulls no punches with regards to drugs, sex or violence. Its is hardcore, in the classic use of the word.<br /><br />It is called OZ as that is the nickname given to the Oswald Maximum Security State Penitentary. It focuses mainly on Emerald City, an experimental section of the prison where all the cells have glass fronts and face inwards, so privacy is not high on the agenda. Em City is home to many..Aryans, Muslims, gangstas, Latinos, Christians, Italians, Irish and more....so scuffles, death stares, dodgy dealings and shady agreements are never far away.<br /><br />I would say the main appeal of the show is due to the fact that it goes where other shows wouldn't dare. Forget pretty pictures painted for mainstream audiences, forget charm, forget romance...OZ doesn't mess around. The first episode I ever saw struck me as so nasty it was surreal, I couldn't say I was ready for it, but as I watched more, I developed a taste for Oz, and got accustomed to the high levels of graphic violence. Not just violence, but injustice (crooked guards who'll be sold out for a nickel, inmates who'll kill on order and get away with it, well mannered, middle class inmates being turned into prison bitches due to their lack of street skills or prison experience) Watching Oz, you may become comfortable with what is uncomfortable viewing....thats if you can get in touch with your darker side.   \n",
       "1                                                                                                                                                                                                                                                                                                                                                                                                                                                                                                                                                                                                                                                                                                                                                                                             A wonderful little production. <br /><br />The filming technique is very unassuming- very old-time-BBC fashion and gives a comforting, and sometimes discomforting, sense of realism to the entire piece. <br /><br />The actors are extremely well chosen- Michael Sheen not only \"has got all the polari\" but he has all the voices down pat too! You can truly see the seamless editing guided by the references to Williams' diary entries, not only is it well worth the watching but it is a terrificly written and performed piece. A masterful production about one of the great master's of comedy and his life. <br /><br />The realism really comes home with the little things: the fantasy of the guard which, rather than use the traditional 'dream' techniques remains solid then disappears. It plays on our knowledge and our senses, particularly with the scenes concerning Orton and Halliwell and the sets (particularly of their flat with Halliwell's murals decorating every surface) are terribly well done.   \n",
       "2                                                                                                                                                                                                                                                                                                                                                                                                                                                                                                                                                                                                                                                                                                                                                                                                                                                                     I thought this was a wonderful way to spend time on a too hot summer weekend, sitting in the air conditioned theater and watching a light-hearted comedy. The plot is simplistic, but the dialogue is witty and the characters are likable (even the well bread suspected serial killer). While some may be disappointed when they realize this is not Match Point 2: Risk Addiction, I thought it was proof that Woody Allen is still fully in control of the style many of us have grown to love.<br /><br />This was the most I'd laughed at one of Woody's comedies in years (dare I say a decade?). While I've never been impressed with Scarlet Johanson, in this she managed to tone down her \"sexy\" image and jumped right into a average, but spirited young woman.<br /><br />This may not be the crown jewel of his career, but it was wittier than \"Devil Wears Prada\" and more interesting than \"Superman\" a great comedy to go see with friends.   \n",
       "\n",
       "  sentiment  \n",
       "0  positive  \n",
       "1  positive  \n",
       "2  positive  "
      ]
     },
     "execution_count": 3,
     "metadata": {},
     "output_type": "execute_result"
    }
   ],
   "source": [
    "df  = pd.read_parquet(RAW_DATA_PATH)\n",
    "df.head(3)"
   ]
  },
  {
   "cell_type": "code",
   "execution_count": 4,
   "metadata": {},
   "outputs": [
    {
     "name": "stdout",
     "output_type": "stream",
     "text": [
      "<class 'pandas.core.frame.DataFrame'>\n",
      "RangeIndex: 50000 entries, 0 to 49999\n",
      "Data columns (total 2 columns):\n",
      " #   Column     Non-Null Count  Dtype \n",
      "---  ------     --------------  ----- \n",
      " 0   review     50000 non-null  object\n",
      " 1   sentiment  50000 non-null  object\n",
      "dtypes: object(2)\n",
      "memory usage: 781.4+ KB\n"
     ]
    }
   ],
   "source": [
    "df.info()"
   ]
  },
  {
   "cell_type": "code",
   "execution_count": 5,
   "metadata": {},
   "outputs": [
    {
     "data": {
      "text/html": [
       "<div>\n",
       "<style scoped>\n",
       "    .dataframe tbody tr th:only-of-type {\n",
       "        vertical-align: middle;\n",
       "    }\n",
       "\n",
       "    .dataframe tbody tr th {\n",
       "        vertical-align: top;\n",
       "    }\n",
       "\n",
       "    .dataframe thead th {\n",
       "        text-align: right;\n",
       "    }\n",
       "</style>\n",
       "<table border=\"1\" class=\"dataframe\">\n",
       "  <thead>\n",
       "    <tr style=\"text-align: right;\">\n",
       "      <th></th>\n",
       "      <th>review</th>\n",
       "      <th>sentiment</th>\n",
       "    </tr>\n",
       "  </thead>\n",
       "  <tbody>\n",
       "    <tr>\n",
       "      <th>count</th>\n",
       "      <td>50000</td>\n",
       "      <td>50000</td>\n",
       "    </tr>\n",
       "    <tr>\n",
       "      <th>unique</th>\n",
       "      <td>49582</td>\n",
       "      <td>2</td>\n",
       "    </tr>\n",
       "    <tr>\n",
       "      <th>top</th>\n",
       "      <td>Loved today's show!!! It was a variety and not solely cooking (which would have been great too). Very stimulating and captivating, always keeping the viewer peeking around the corner to see what was coming up next. She is as down to earth and as personable as you get, like one of us which made the show all the more enjoyable. Special guests, who are friends as well made for a nice surprise too. Loved the 'first' theme and that the audience was invited to play along too. I must admit I was shocked to see her come in under her time limits on a few things, but she did it and by golly I'll be writing those recipes down. Saving time in the kitchen means more time with family. Those who haven't tuned in yet, find out what channel and the time, I assure you that you won't be disappointed.</td>\n",
       "      <td>positive</td>\n",
       "    </tr>\n",
       "    <tr>\n",
       "      <th>freq</th>\n",
       "      <td>5</td>\n",
       "      <td>25000</td>\n",
       "    </tr>\n",
       "  </tbody>\n",
       "</table>\n",
       "</div>"
      ],
      "text/plain": [
       "                                                                                                                                                                                                                                                                                                                                                                                                                                                                                                                                                                                                                                                                                                                                                                                                                          review  \\\n",
       "count                                                                                                                                                                                                                                                                                                                                                                                                                                                                                                                                                                                                                                                                                                                                                                                                                      50000   \n",
       "unique                                                                                                                                                                                                                                                                                                                                                                                                                                                                                                                                                                                                                                                                                                                                                                                                                     49582   \n",
       "top     Loved today's show!!! It was a variety and not solely cooking (which would have been great too). Very stimulating and captivating, always keeping the viewer peeking around the corner to see what was coming up next. She is as down to earth and as personable as you get, like one of us which made the show all the more enjoyable. Special guests, who are friends as well made for a nice surprise too. Loved the 'first' theme and that the audience was invited to play along too. I must admit I was shocked to see her come in under her time limits on a few things, but she did it and by golly I'll be writing those recipes down. Saving time in the kitchen means more time with family. Those who haven't tuned in yet, find out what channel and the time, I assure you that you won't be disappointed.   \n",
       "freq                                                                                                                                                                                                                                                                                                                                                                                                                                                                                                                                                                                                                                                                                                                                                                                                                           5   \n",
       "\n",
       "       sentiment  \n",
       "count      50000  \n",
       "unique         2  \n",
       "top     positive  \n",
       "freq       25000  "
      ]
     },
     "execution_count": 5,
     "metadata": {},
     "output_type": "execute_result"
    }
   ],
   "source": [
    "df.describe()"
   ]
  },
  {
   "cell_type": "code",
   "execution_count": 6,
   "metadata": {},
   "outputs": [
    {
     "data": {
      "text/plain": [
       "review       0\n",
       "sentiment    0\n",
       "dtype: int64"
      ]
     },
     "execution_count": 6,
     "metadata": {},
     "output_type": "execute_result"
    }
   ],
   "source": [
    "df.isna().sum()"
   ]
  },
  {
   "cell_type": "code",
   "execution_count": 7,
   "metadata": {},
   "outputs": [
    {
     "data": {
      "text/plain": [
       "418"
      ]
     },
     "execution_count": 7,
     "metadata": {},
     "output_type": "execute_result"
    }
   ],
   "source": [
    "df.duplicated().sum()"
   ]
  },
  {
   "cell_type": "code",
   "execution_count": 8,
   "metadata": {},
   "outputs": [
    {
     "data": {
      "text/plain": [
       "(49582, 2)"
      ]
     },
     "execution_count": 8,
     "metadata": {},
     "output_type": "execute_result"
    }
   ],
   "source": [
    "df = df[~df.duplicated()]\n",
    "df.shape"
   ]
  },
  {
   "cell_type": "code",
   "execution_count": 9,
   "metadata": {},
   "outputs": [
    {
     "data": {
      "text/html": [
       "<div>\n",
       "<style scoped>\n",
       "    .dataframe tbody tr th:only-of-type {\n",
       "        vertical-align: middle;\n",
       "    }\n",
       "\n",
       "    .dataframe tbody tr th {\n",
       "        vertical-align: top;\n",
       "    }\n",
       "\n",
       "    .dataframe thead th {\n",
       "        text-align: right;\n",
       "    }\n",
       "</style>\n",
       "<table border=\"1\" class=\"dataframe\">\n",
       "  <thead>\n",
       "    <tr style=\"text-align: right;\">\n",
       "      <th></th>\n",
       "      <th>review</th>\n",
       "      <th>sentiment</th>\n",
       "    </tr>\n",
       "  </thead>\n",
       "  <tbody>\n",
       "    <tr>\n",
       "      <th>0</th>\n",
       "      <td>One of the other reviewers has mentioned that after watching just 1 Oz episode you'll be hooked. They are right, as this is exactly what happened with me.  The first thing that struck me about Oz was its brutality and unflinching scenes of violence, which set in right from the word GO. Trust me, this is not a show for the faint hearted or timid. This show pulls no punches with regards to drugs, sex or violence. Its is hardcore, in the classic use of the word.  It is called OZ as that is the nickname given to the Oswald Maximum Security State Penitentary. It focuses mainly on Emerald City, an experimental section of the prison where all the cells have glass fronts and face inwards, so privacy is not high on the agenda. Em City is home to many..Aryans, Muslims, gangstas, Latinos, Christians, Italians, Irish and more....so scuffles, death stares, dodgy dealings and shady agreements are never far away.  I would say the main appeal of the show is due to the fact that it goes where other shows wouldn't dare. Forget pretty pictures painted for mainstream audiences, forget charm, forget romance...OZ doesn't mess around. The first episode I ever saw struck me as so nasty it was surreal, I couldn't say I was ready for it, but as I watched more, I developed a taste for Oz, and got accustomed to the high levels of graphic violence. Not just violence, but injustice (crooked guards who'll be sold out for a nickel, inmates who'll kill on order and get away with it, well mannered, middle class inmates being turned into prison bitches due to their lack of street skills or prison experience) Watching Oz, you may become comfortable with what is uncomfortable viewing....thats if you can get in touch with your darker side.</td>\n",
       "      <td>positive</td>\n",
       "    </tr>\n",
       "  </tbody>\n",
       "</table>\n",
       "</div>"
      ],
      "text/plain": [
       "                                                                                                                                                                                                                                                                                                                                                                                                                                                                                                                                                                                                                                                                                                                                                                                                                                                                                                                                                                                                                                                                                                                                                                                                                                                                                                                                                                                                                                                                                                                                                                                                                                                                                                                                                                                                review  \\\n",
       "0  One of the other reviewers has mentioned that after watching just 1 Oz episode you'll be hooked. They are right, as this is exactly what happened with me.  The first thing that struck me about Oz was its brutality and unflinching scenes of violence, which set in right from the word GO. Trust me, this is not a show for the faint hearted or timid. This show pulls no punches with regards to drugs, sex or violence. Its is hardcore, in the classic use of the word.  It is called OZ as that is the nickname given to the Oswald Maximum Security State Penitentary. It focuses mainly on Emerald City, an experimental section of the prison where all the cells have glass fronts and face inwards, so privacy is not high on the agenda. Em City is home to many..Aryans, Muslims, gangstas, Latinos, Christians, Italians, Irish and more....so scuffles, death stares, dodgy dealings and shady agreements are never far away.  I would say the main appeal of the show is due to the fact that it goes where other shows wouldn't dare. Forget pretty pictures painted for mainstream audiences, forget charm, forget romance...OZ doesn't mess around. The first episode I ever saw struck me as so nasty it was surreal, I couldn't say I was ready for it, but as I watched more, I developed a taste for Oz, and got accustomed to the high levels of graphic violence. Not just violence, but injustice (crooked guards who'll be sold out for a nickel, inmates who'll kill on order and get away with it, well mannered, middle class inmates being turned into prison bitches due to their lack of street skills or prison experience) Watching Oz, you may become comfortable with what is uncomfortable viewing....thats if you can get in touch with your darker side.   \n",
       "\n",
       "  sentiment  \n",
       "0  positive  "
      ]
     },
     "execution_count": 9,
     "metadata": {},
     "output_type": "execute_result"
    }
   ],
   "source": [
    "df.review = df.review.replace(r\"<.*?>\",\" \", regex=True)\n",
    "df.head(1)"
   ]
  },
  {
   "cell_type": "code",
   "execution_count": 10,
   "metadata": {},
   "outputs": [
    {
     "data": {
      "text/plain": [
       "positive    24884\n",
       "negative    24698\n",
       "Name: sentiment, dtype: int64"
      ]
     },
     "execution_count": 10,
     "metadata": {},
     "output_type": "execute_result"
    }
   ],
   "source": [
    "df['sentiment'].value_counts()"
   ]
  },
  {
   "cell_type": "markdown",
   "metadata": {},
   "source": [
    "## 1. VADER"
   ]
  },
  {
   "cell_type": "markdown",
   "metadata": {},
   "source": [
    "### 1.1. Apply Vader "
   ]
  },
  {
   "cell_type": "code",
   "execution_count": 11,
   "metadata": {},
   "outputs": [],
   "source": [
    "try: \n",
    "    SIA = SentimentIntensityAnalyzer()\n",
    "except: \n",
    "    nltk.download(\"vader_lexicon\") \n",
    "    SIA = SentimentIntensityAnalyzer()\n",
    "\n",
    "def mapper(data):\n",
    "    if data > 0:\n",
    "        return \"positive\"\n",
    "    else:\n",
    "        return \"negative\"\n",
    "\n",
    "def sentiment_analysis(df, colm_name):\n",
    "    df_out = df.copy()\n",
    "    df_out['polarity_scores'] = df_out[colm_name].apply(lambda w: SIA.polarity_scores(w))\n",
    "    # picking only compound score(combined score)\n",
    "    df_out['compound_score'] = df_out['polarity_scores'].apply(lambda x: x['compound'])\n",
    "    # mapping the compound score to positive, negative\n",
    "    df_out['vader_sentiment'] = df_out['compound_score'].apply(mapper)\n",
    "    \n",
    "    return df_out"
   ]
  },
  {
   "cell_type": "code",
   "execution_count": 12,
   "metadata": {},
   "outputs": [
    {
     "data": {
      "text/html": [
       "<div>\n",
       "<style scoped>\n",
       "    .dataframe tbody tr th:only-of-type {\n",
       "        vertical-align: middle;\n",
       "    }\n",
       "\n",
       "    .dataframe tbody tr th {\n",
       "        vertical-align: top;\n",
       "    }\n",
       "\n",
       "    .dataframe thead th {\n",
       "        text-align: right;\n",
       "    }\n",
       "</style>\n",
       "<table border=\"1\" class=\"dataframe\">\n",
       "  <thead>\n",
       "    <tr style=\"text-align: right;\">\n",
       "      <th></th>\n",
       "      <th>review</th>\n",
       "      <th>sentiment</th>\n",
       "      <th>polarity_scores</th>\n",
       "      <th>compound_score</th>\n",
       "      <th>vader_sentiment</th>\n",
       "    </tr>\n",
       "  </thead>\n",
       "  <tbody>\n",
       "    <tr>\n",
       "      <th>0</th>\n",
       "      <td>One of the other reviewers has mentioned that after watching just 1 Oz episode you'll be hooked. They are right, as this is exactly what happened with me.  The first thing that struck me about Oz was its brutality and unflinching scenes of violence, which set in right from the word GO. Trust me, this is not a show for the faint hearted or timid. This show pulls no punches with regards to drugs, sex or violence. Its is hardcore, in the classic use of the word.  It is called OZ as that is the nickname given to the Oswald Maximum Security State Penitentary. It focuses mainly on Emerald City, an experimental section of the prison where all the cells have glass fronts and face inwards, so privacy is not high on the agenda. Em City is home to many..Aryans, Muslims, gangstas, Latinos, Christians, Italians, Irish and more....so scuffles, death stares, dodgy dealings and shady agreements are never far away.  I would say the main appeal of the show is due to the fact that it goes where other shows wouldn't dare. Forget pretty pictures painted for mainstream audiences, forget charm, forget romance...OZ doesn't mess around. The first episode I ever saw struck me as so nasty it was surreal, I couldn't say I was ready for it, but as I watched more, I developed a taste for Oz, and got accustomed to the high levels of graphic violence. Not just violence, but injustice (crooked guards who'll be sold out for a nickel, inmates who'll kill on order and get away with it, well mannered, middle class inmates being turned into prison bitches due to their lack of street skills or prison experience) Watching Oz, you may become comfortable with what is uncomfortable viewing....thats if you can get in touch with your darker side.</td>\n",
       "      <td>positive</td>\n",
       "      <td>{'neg': 0.206, 'neu': 0.745, 'pos': 0.049, 'compound': -0.9951}</td>\n",
       "      <td>-0.9951</td>\n",
       "      <td>negative</td>\n",
       "    </tr>\n",
       "    <tr>\n",
       "      <th>1</th>\n",
       "      <td>A wonderful little production.   The filming technique is very unassuming- very old-time-BBC fashion and gives a comforting, and sometimes discomforting, sense of realism to the entire piece.   The actors are extremely well chosen- Michael Sheen not only \"has got all the polari\" but he has all the voices down pat too! You can truly see the seamless editing guided by the references to Williams' diary entries, not only is it well worth the watching but it is a terrificly written and performed piece. A masterful production about one of the great master's of comedy and his life.   The realism really comes home with the little things: the fantasy of the guard which, rather than use the traditional 'dream' techniques remains solid then disappears. It plays on our knowledge and our senses, particularly with the scenes concerning Orton and Halliwell and the sets (particularly of their flat with Halliwell's murals decorating every surface) are terribly well done.</td>\n",
       "      <td>positive</td>\n",
       "      <td>{'neg': 0.055, 'neu': 0.768, 'pos': 0.177, 'compound': 0.9641}</td>\n",
       "      <td>0.9641</td>\n",
       "      <td>positive</td>\n",
       "    </tr>\n",
       "    <tr>\n",
       "      <th>2</th>\n",
       "      <td>I thought this was a wonderful way to spend time on a too hot summer weekend, sitting in the air conditioned theater and watching a light-hearted comedy. The plot is simplistic, but the dialogue is witty and the characters are likable (even the well bread suspected serial killer). While some may be disappointed when they realize this is not Match Point 2: Risk Addiction, I thought it was proof that Woody Allen is still fully in control of the style many of us have grown to love.  This was the most I'd laughed at one of Woody's comedies in years (dare I say a decade?). While I've never been impressed with Scarlet Johanson, in this she managed to tone down her \"sexy\" image and jumped right into a average, but spirited young woman.  This may not be the crown jewel of his career, but it was wittier than \"Devil Wears Prada\" and more interesting than \"Superman\" a great comedy to go see with friends.</td>\n",
       "      <td>positive</td>\n",
       "      <td>{'neg': 0.093, 'neu': 0.689, 'pos': 0.218, 'compound': 0.978}</td>\n",
       "      <td>0.9780</td>\n",
       "      <td>positive</td>\n",
       "    </tr>\n",
       "  </tbody>\n",
       "</table>\n",
       "</div>"
      ],
      "text/plain": [
       "                                                                                                                                                                                                                                                                                                                                                                                                                                                                                                                                                                                                                                                                                                                                                                                                                                                                                                                                                                                                                                                                                                                                                                                                                                                                                                                                                                                                                                                                                                                                                                                                                                                                                                                                                                                                review  \\\n",
       "0  One of the other reviewers has mentioned that after watching just 1 Oz episode you'll be hooked. They are right, as this is exactly what happened with me.  The first thing that struck me about Oz was its brutality and unflinching scenes of violence, which set in right from the word GO. Trust me, this is not a show for the faint hearted or timid. This show pulls no punches with regards to drugs, sex or violence. Its is hardcore, in the classic use of the word.  It is called OZ as that is the nickname given to the Oswald Maximum Security State Penitentary. It focuses mainly on Emerald City, an experimental section of the prison where all the cells have glass fronts and face inwards, so privacy is not high on the agenda. Em City is home to many..Aryans, Muslims, gangstas, Latinos, Christians, Italians, Irish and more....so scuffles, death stares, dodgy dealings and shady agreements are never far away.  I would say the main appeal of the show is due to the fact that it goes where other shows wouldn't dare. Forget pretty pictures painted for mainstream audiences, forget charm, forget romance...OZ doesn't mess around. The first episode I ever saw struck me as so nasty it was surreal, I couldn't say I was ready for it, but as I watched more, I developed a taste for Oz, and got accustomed to the high levels of graphic violence. Not just violence, but injustice (crooked guards who'll be sold out for a nickel, inmates who'll kill on order and get away with it, well mannered, middle class inmates being turned into prison bitches due to their lack of street skills or prison experience) Watching Oz, you may become comfortable with what is uncomfortable viewing....thats if you can get in touch with your darker side.   \n",
       "1                                                                                                                                                                                                                                                                                                                                                                                                                                                                                                                                                                                                                                                                                                                                                                                             A wonderful little production.   The filming technique is very unassuming- very old-time-BBC fashion and gives a comforting, and sometimes discomforting, sense of realism to the entire piece.   The actors are extremely well chosen- Michael Sheen not only \"has got all the polari\" but he has all the voices down pat too! You can truly see the seamless editing guided by the references to Williams' diary entries, not only is it well worth the watching but it is a terrificly written and performed piece. A masterful production about one of the great master's of comedy and his life.   The realism really comes home with the little things: the fantasy of the guard which, rather than use the traditional 'dream' techniques remains solid then disappears. It plays on our knowledge and our senses, particularly with the scenes concerning Orton and Halliwell and the sets (particularly of their flat with Halliwell's murals decorating every surface) are terribly well done.   \n",
       "2                                                                                                                                                                                                                                                                                                                                                                                                                                                                                                                                                                                                                                                                                                                                                                                                                                                           I thought this was a wonderful way to spend time on a too hot summer weekend, sitting in the air conditioned theater and watching a light-hearted comedy. The plot is simplistic, but the dialogue is witty and the characters are likable (even the well bread suspected serial killer). While some may be disappointed when they realize this is not Match Point 2: Risk Addiction, I thought it was proof that Woody Allen is still fully in control of the style many of us have grown to love.  This was the most I'd laughed at one of Woody's comedies in years (dare I say a decade?). While I've never been impressed with Scarlet Johanson, in this she managed to tone down her \"sexy\" image and jumped right into a average, but spirited young woman.  This may not be the crown jewel of his career, but it was wittier than \"Devil Wears Prada\" and more interesting than \"Superman\" a great comedy to go see with friends.   \n",
       "\n",
       "  sentiment                                                  polarity_scores  \\\n",
       "0  positive  {'neg': 0.206, 'neu': 0.745, 'pos': 0.049, 'compound': -0.9951}   \n",
       "1  positive   {'neg': 0.055, 'neu': 0.768, 'pos': 0.177, 'compound': 0.9641}   \n",
       "2  positive    {'neg': 0.093, 'neu': 0.689, 'pos': 0.218, 'compound': 0.978}   \n",
       "\n",
       "   compound_score vader_sentiment  \n",
       "0         -0.9951        negative  \n",
       "1          0.9641        positive  \n",
       "2          0.9780        positive  "
      ]
     },
     "execution_count": 12,
     "metadata": {},
     "output_type": "execute_result"
    }
   ],
   "source": [
    "df_vader = sentiment_analysis(df, 'review')\n",
    "df_vader.head(3)"
   ]
  },
  {
   "cell_type": "code",
   "execution_count": 13,
   "metadata": {},
   "outputs": [
    {
     "name": "stdout",
     "output_type": "stream",
     "text": [
      "[[13289 11409]\n",
      " [ 3552 21332]]\n",
      "              precision    recall  f1-score   support\n",
      "\n",
      "    negative      0.789     0.538     0.640     24698\n",
      "    positive      0.652     0.857     0.740     24884\n",
      "\n",
      "    accuracy                          0.698     49582\n",
      "   macro avg      0.720     0.698     0.690     49582\n",
      "weighted avg      0.720     0.698     0.690     49582\n",
      "\n"
     ]
    }
   ],
   "source": [
    "print(confusion_matrix(df_vader['sentiment'],df_vader['vader_sentiment']))\n",
    "print(classification_report(df_vader['sentiment'],df_vader['vader_sentiment'], digits = 3))"
   ]
  },
  {
   "cell_type": "markdown",
   "metadata": {},
   "source": [
    "### 1.2. VADER Error Analysis"
   ]
  },
  {
   "cell_type": "code",
   "execution_count": 14,
   "metadata": {},
   "outputs": [
    {
     "name": "stdout",
     "output_type": "stream",
     "text": [
      "FP cases\n"
     ]
    },
    {
     "data": {
      "text/html": [
       "<div>\n",
       "<style scoped>\n",
       "    .dataframe tbody tr th:only-of-type {\n",
       "        vertical-align: middle;\n",
       "    }\n",
       "\n",
       "    .dataframe tbody tr th {\n",
       "        vertical-align: top;\n",
       "    }\n",
       "\n",
       "    .dataframe thead th {\n",
       "        text-align: right;\n",
       "    }\n",
       "</style>\n",
       "<table border=\"1\" class=\"dataframe\">\n",
       "  <thead>\n",
       "    <tr style=\"text-align: right;\">\n",
       "      <th></th>\n",
       "      <th>review</th>\n",
       "      <th>sentiment</th>\n",
       "      <th>polarity_scores</th>\n",
       "      <th>compound_score</th>\n",
       "      <th>vader_sentiment</th>\n",
       "    </tr>\n",
       "  </thead>\n",
       "  <tbody>\n",
       "    <tr>\n",
       "      <th>410</th>\n",
       "      <td>I firmly believe that the best Oscar ceremony in recent years was in 2003 for two reasons:   1 ) Host Steve Martin was at his most wittiest: \" I saw the teamsters help Michael Moore into the trunk of his limo \" and \" I'll better not mention the gay mafia in case I wake up with a poodle's head in my bed \"   2 ) Surprise winners: No one had Adrien Brody down for best actor ( Genuine applause ) or Roman Polanski for best director ( Genuine jeers and boos ) but they won   Last year's award ceremony wasn't too bad but there was little in the way of surprises and I was happy to see RETURN OF THE KING sweep the awards even if it wasn't the best in the trilogy ( FELLOWSHIP was much better )but what let the BBC coverage down was Jonathan Ross getting a few of his sycophantic mates round and pretending they were hilarious when they were anything but . So when I heard Sky were doing the coverage for British TV I was expecting Barry Norman and Mark Kermode to be doing the links , but instead we ended up with Jamie Theakston and Sharon Osbourne ! Oh gawd if British TV are desperate for film critics ( Obviously they are ) I'm sure both Bob The Moo and Theo Robertson will happily fly over to LA to give their honest opinions on the winners and losers   Chris Rock wasn't too bad , but he's no Steve Martin while the location seemed to resemble a sports hall with seats put in ! Not much of a glitzy arena in my opinion . The main problem I had with the ceremony was the format with the \" minor \" Oscars handed out to the winners who were sitting in their seats ! There's no such thing as a \" minor \" Oscar and just because the award is for Best Animated Short or Best Costume Design they're as well deserved as Best Picture or Best Director . All the winners should be allowed to march up to the podium . What a bunch of arrogant snobs the Academy are becoming and I quite agree with the comments that this format is disgraceful and if it wasn't for the surprises this could possibly have been the worst ceremony in history . As for the awards themselves   Best Supporting Actress - Cate Blanchett . No great surprise for a competitive category   Best Supporting Actor - Morgan Freeman . No real complaints since Freeman is one of America's greatest living character actors   Best Actor - Jamie Foxx . Most predictable award of the night . Yawn   Best Actress - Hilary Swank . Major surprise since everyone thought Annette Benning was going to win simply down to academy politics but Swank did deserve it and gave the best speech of the night   Best Director - Clint Eastwood . Major surprise since everyone thought Scorsese was going to get the award simply because he'd never won one . Actually I'm glad about this because if he didn't deserve it for TAXI DRIVER , RAGING BULL or GOODFELLAS he didn't deserve it for THE AVIATOR   Best Film - MILLION DOLLAR BABY . Again another major surprise since everyone thought the academy would split the awards for best director and best picture while I thought the Hollywood friendly plot of THE AVIATOR would have made it a dead cert for Best Picture while MDB's controversial subject matter would have turned a lot of voters off   What these awards perhaps illustrate is that this year the voters have decided to ignore Oscar politics and genuinely give out awards to people who deserve it something they haven't done in the past , I mean A BEAUTIFUL MIND beating THE FELLOWSHIP OF THE RING for gawd's sake ! And long may the academy vote with their heads instead of their hearts</td>\n",
       "      <td>negative</td>\n",
       "      <td>{'neg': 0.076, 'neu': 0.602, 'pos': 0.322, 'compound': 0.9997}</td>\n",
       "      <td>0.9997</td>\n",
       "      <td>positive</td>\n",
       "    </tr>\n",
       "    <tr>\n",
       "      <th>4220</th>\n",
       "      <td>\"Happy Days\" was produced and broadcast from the mid-1970's to the early 1980's and seems to get more ridiculous with age. At the time of its broadcast, most viewers who grew up in the 1950's were in middle age with families, and the scenes at Mel's Diner probably brought an artificial nostalgia to them. The Fonz was of course the coolest of the cool (although the actor Henry Wrinkler to this day has never learned how to ride a motorcycle). Richie Cunningham was the all-American blond-haired kid who would probably be elected student body president. Potsie was Richie's best friend--the star of the show has to have a best friend, I guess. And Ralph Malph was the bumbling sidekick to the Fonz, if not the entire group. I loved it when the Fonz would beat up on poor Ralph Malph. And there was Mel, the middle-aged lug who ran Mel's Diner. And of course who could forget the appearance of Mork? Was this really the 1950's? Ironically, films produced during the 1950's, such as \"Rebel Without a Cause\" and \"The Wild One\" have gotten better with age and portray the period more honestly than this show which was produced 20 years after the period it portrays.  Unfortunately, the TV show \"Happy Days\" is not in the same league as \"Rebel Without a Cause\" or \"American Graffitti\" for that matter. \"Happy Days\" may have captured some aspects of the 1950's with its burger diner, juke boxes, cool cars, and tacky plaid shirts, but it is more a nostalgic idealism done strictly for laughs rather than an honest portrayal. \"American Graffitti\" had something to say about young Americans in the 1950's whereas \"Happy Days\" seemed more about what middle-aged people of the 1970's wished the 1950's had been like. The result was a kind of watered down fabrication that really has nothing to do with the 1950's. \"Happy Days\" is, at best, a comedy-fantasy with some of the artificial culture of the 1950's as its backdrop. As pointed out by another reviewer, the all-American kid Richie Cunningham would probably have been chastised for befriending the likes of a drop-out like Fonzie. And Mel would probably forbid Fonzie from entering his Diner.  A quick history: \"Happy Days\" was originally a pilot called \"Love in the Happy Days\" that was rejected for broadcast. Comedy pilots that had themes concerning sex and romance that did not make it to pilot airing sometimes appeared on the infrequently broadcast show \"Love American Style\" which was often aired in place of baseball games that had rained out or other unexpected programming cancellations and/or alterations. In short, \"Love American Style\" was a throw-away show that contained all these one-episode comedy pilots that never made it to a slotted debut. \"Love in the Happy Days\" did appear as a \"Love American Style\" show sometime in the early 1970's, but at the time TV executives could not foresee how a show about 1950's young people would be popular, particularly during the hey-day of comedy shows centering around middle-aged people, such as The \"Mary Tyler Moore Show\" (and its subsequent spin-offs such \"Rhoda\"), \"The Bob Newhart Show\", and \"All in the Family\". (How things have changed since now most TV sitcoms are about young people and the industry avoids most shows about middle-aged people like the plague!)   Subsequently, one of the young stars of \"Love in the Happy Days\", a child actor from \"The Andy Griffith Show\" named Ron Howard, got the chance to star in a film about young people taking place in 1959 called \"American Graffitti\" directed by the relatively unknown George Lucas whose previous \"THX 1138\" had bombed miserably at the box office. Even when it was premiered to movie executives, again the studios could not see how a movie about young people in the 1950's could become popular because it didn't \"fit\" with what had been popular in the past, although they didn't realize that much of the movie-going audience had been young in the 1950's. As everyone knows, the movie was a huge hit, and studio executives recognized that they had completely misjudged their audience. Somewhere during the theatrical run of \"American Graffitti\", TV executives realized they had a comedy pilot in their vault that was a lot like \"American Graffitti\". They brought it back with the original cast, plus Henry Wrinkler as \"The Fonz\", re-titled it \"Happy Days\" and the rest is TV history as it became one of the most popular shows of the 1970's.  \"Happy Days\" now seems ridiculous. The characters are flat and cardboard, never being more or less than what they superficially are. The issues they deal with are trivial. And their reactions appear mindless and even silly. Nowadays, the character of the Fonz seems to be a caricature of, well, The Fonz. Was the idea to be a kind of parody of Marlon Brando's character in \"The Wild One\"? Looking on the show with fresh eyes, I feel the producers really missed out on a great opportunity to present the 1950's with depth and realism that still could be fun and entertaining. Instead the producers decided on cheap laughs for quick bucks. This is definitely a show that has not withstood the test of time. \"American Graffitti\" has many of the outward appearances of \"Happy Days\" but it had an edge. It had an honesty about the characters and their issues. \"Happy Days\" took the look of \"American Graffitti\" but failed to take its heart.</td>\n",
       "      <td>negative</td>\n",
       "      <td>{'neg': 0.041, 'neu': 0.748, 'pos': 0.211, 'compound': 0.9996}</td>\n",
       "      <td>0.9996</td>\n",
       "      <td>positive</td>\n",
       "    </tr>\n",
       "    <tr>\n",
       "      <th>24590</th>\n",
       "      <td>\"It's like hard to like describe just how like exciting it is like to make a relationship like drama like with all the like pornographic scenes thrown like in for like good measure like, and to stir up like contro- like -versy and make us more like money and like stuff.\" - Ellen, the lost quote.  \"Kissing, Like, On the, Like, Mouth And Stuff\" is like the best like artistic endeavor like ever made. Watching like Ellen's hairy arms and like Chris masturbating was like the height of my years-long movie-viewing experience and stuff. But before I like begin like breaking new U.S.-20-something-airhead records with the my \"likes\", let me like just briefly list like the high- like -lights of this visual like feast:   1. Chris doing the deed with his genitals. And not just that: the way the camera (guided so elegantly by Ellen and Patrick) rewards the viewer with a full-screen shot of Chris's fat white-trash stomach after he finishes the un-Catholic deed - that was truly thrilling. I can in all honesty say that I've never seen such grace. Chris, you should do more such scenes in your next movies, because that is exactly what we needed as a continuation of what that brilliant, brilliant man, Lars von Trier and his \"Idiots 95\", started. A quick w*** and then a hairy, fat, white belly: what more can any movie-goer ask for?! Needless to say, I can sit all day and watch Chris ejaculate (in spite of the fact that I'm straight)... Such poetry in motion. Such elegance, such style. No less than total, divine inspiration went into filming that sequence - plus a solid amount of Zen philosophy. Even Barbra Streisand could not get any more spiritual than this.  2. Ellen's hairy, thick arms. The wobbly-camera close-ups, so skillfully photographed by our two directors of photography (I can't emphasize this enough), Ellen and Patrick, often caused confusion regarding the proper identification of the sex in question. There were several scenes when we would see a part of a body (a leg, arm or foot), yet it was often a guessing game: does that body-part belong to a man or a woman? Naturally, Chris and his fellow artists, Ellen, Patrick and whatsername, cast themselves on purpose, because their bodies were ideal for creating this gender-based confusion. It was at times hard to guess whether one is seeing a female or male leg. Patrick is so very thin and effeminate in his movements, so hairless and pristine, whereas Ellen and the other girl are so very butch, what with their thick legs and arms. Brilliant.   3. Brilliant - especially the way that neatly ties in with the theme of role reversal between the sexes: so utterly original and mind-blowing. Ellen behaves like a man, wants sex all the time, while her ex Patrick wants to talk - like a girl. Spiffing.  4. Ellen's search for a Leftist mate. \"He must love 'The Simpsons', which is quite Leftist.\" I am glad that the makers of this movie decided to break the long tradition of offering us intelligent Leftists. Ellen is such a refreshing - and realistic - change. The number of \"likes\" that she and her liberal friends manage to utter in less than 80 minutes is truly phenomenal (3,849, to be exact). They have managed to realistically transfer their real-life ineptness onto the big screen with a minimum of effort, and I applaud them for that.  5. The close-ups of toes. Plenty of stuff here for foot-fetishists, which I think is a very liberal, highly commendable way of reaching out to sexual minorities. After all, shoe- and foot- fetishists are offered so little in modern cinema, so it's nice to see that someone out there CARES.  KOTM, or rather, KLOTLMAS, offers more than meets the eye. It is not just a modest little film about shallow people engaging in hollow relationships while indulging in meaningless conversations. No, it's much more than that. It's about the light that guides all silly creatures; the guiding light that dominates the futile lives of various pseudo-artistic wannabes who just dropped out of film school, and plan to assault our senses with dim-witted drivel that will hopefully play well at pretentious festivals like Sundance and Cannes, enabling them to gain the necessary exposure hence some real cash for a change, with which they will later hire the likes of Sean Penn and George Clooney in promoting the saving of this planet and the resolving of ALL political problems this world faces. What better way to do that than by making porn at the very start?   If Chris and Ellen did the camera here, as is clearly stated in the end-credits, then who held the camera while the two of them were in front of it? They probably hired some passers-by and shoved the camera into their hands...  Go to http://rateyourmusic.com/~Fedor8, and check out my \"TV &amp; Cinema: 150 Worst Cases Of Nepotism\" list.</td>\n",
       "      <td>negative</td>\n",
       "      <td>{'neg': 0.046, 'neu': 0.722, 'pos': 0.232, 'compound': 0.9995}</td>\n",
       "      <td>0.9995</td>\n",
       "      <td>positive</td>\n",
       "    </tr>\n",
       "  </tbody>\n",
       "</table>\n",
       "</div>"
      ],
      "text/plain": [
       "                                                                                                                                                                                                                                                                                                                                                                                                                                                                                                                                                                                                                                                                                                                                                                                                                                                                                                                                                                                                                                                                                                                                                                                                                                                                                                                                                                                                                                                                                                                                                                                                                                                                                                                                                                                                                                                                                                                                                                                                                                                                                                                                                                                                                                                                                                                                                                                                                                                                                                                                                                                                                                                                                                                                                                                                                                                                                                                                                                                                                                                                                                                                                                                                                                                                                                                                                                                                                                                                                                                                                                                                                                                                                                                                                                                                                                                                                                                                                                                                                                                                                                                                                                                                                                                                                                                                                                                                                                                                                                                                                                                                                                                                                                                                                                                                                                                                                                                                                                                                                                                                                                                                                                                                                                                                                                                                                                                                                                                                                                                                                                      review  \\\n",
       "410                                                                                                                                                                                                                                                                                                                                                                                                                                                                                                                                                                                                                                                                                                                                                                                                                                                                                                                                                                                                                                                                                                                                                                                                                                                                                                                                                                                                                                                                                                                                                                                                                                                                                                                                                                                                                                                                                                 I firmly believe that the best Oscar ceremony in recent years was in 2003 for two reasons:   1 ) Host Steve Martin was at his most wittiest: \" I saw the teamsters help Michael Moore into the trunk of his limo \" and \" I'll better not mention the gay mafia in case I wake up with a poodle's head in my bed \"   2 ) Surprise winners: No one had Adrien Brody down for best actor ( Genuine applause ) or Roman Polanski for best director ( Genuine jeers and boos ) but they won   Last year's award ceremony wasn't too bad but there was little in the way of surprises and I was happy to see RETURN OF THE KING sweep the awards even if it wasn't the best in the trilogy ( FELLOWSHIP was much better )but what let the BBC coverage down was Jonathan Ross getting a few of his sycophantic mates round and pretending they were hilarious when they were anything but . So when I heard Sky were doing the coverage for British TV I was expecting Barry Norman and Mark Kermode to be doing the links , but instead we ended up with Jamie Theakston and Sharon Osbourne ! Oh gawd if British TV are desperate for film critics ( Obviously they are ) I'm sure both Bob The Moo and Theo Robertson will happily fly over to LA to give their honest opinions on the winners and losers   Chris Rock wasn't too bad , but he's no Steve Martin while the location seemed to resemble a sports hall with seats put in ! Not much of a glitzy arena in my opinion . The main problem I had with the ceremony was the format with the \" minor \" Oscars handed out to the winners who were sitting in their seats ! There's no such thing as a \" minor \" Oscar and just because the award is for Best Animated Short or Best Costume Design they're as well deserved as Best Picture or Best Director . All the winners should be allowed to march up to the podium . What a bunch of arrogant snobs the Academy are becoming and I quite agree with the comments that this format is disgraceful and if it wasn't for the surprises this could possibly have been the worst ceremony in history . As for the awards themselves   Best Supporting Actress - Cate Blanchett . No great surprise for a competitive category   Best Supporting Actor - Morgan Freeman . No real complaints since Freeman is one of America's greatest living character actors   Best Actor - Jamie Foxx . Most predictable award of the night . Yawn   Best Actress - Hilary Swank . Major surprise since everyone thought Annette Benning was going to win simply down to academy politics but Swank did deserve it and gave the best speech of the night   Best Director - Clint Eastwood . Major surprise since everyone thought Scorsese was going to get the award simply because he'd never won one . Actually I'm glad about this because if he didn't deserve it for TAXI DRIVER , RAGING BULL or GOODFELLAS he didn't deserve it for THE AVIATOR   Best Film - MILLION DOLLAR BABY . Again another major surprise since everyone thought the academy would split the awards for best director and best picture while I thought the Hollywood friendly plot of THE AVIATOR would have made it a dead cert for Best Picture while MDB's controversial subject matter would have turned a lot of voters off   What these awards perhaps illustrate is that this year the voters have decided to ignore Oscar politics and genuinely give out awards to people who deserve it something they haven't done in the past , I mean A BEAUTIFUL MIND beating THE FELLOWSHIP OF THE RING for gawd's sake ! And long may the academy vote with their heads instead of their hearts   \n",
       "4220   \"Happy Days\" was produced and broadcast from the mid-1970's to the early 1980's and seems to get more ridiculous with age. At the time of its broadcast, most viewers who grew up in the 1950's were in middle age with families, and the scenes at Mel's Diner probably brought an artificial nostalgia to them. The Fonz was of course the coolest of the cool (although the actor Henry Wrinkler to this day has never learned how to ride a motorcycle). Richie Cunningham was the all-American blond-haired kid who would probably be elected student body president. Potsie was Richie's best friend--the star of the show has to have a best friend, I guess. And Ralph Malph was the bumbling sidekick to the Fonz, if not the entire group. I loved it when the Fonz would beat up on poor Ralph Malph. And there was Mel, the middle-aged lug who ran Mel's Diner. And of course who could forget the appearance of Mork? Was this really the 1950's? Ironically, films produced during the 1950's, such as \"Rebel Without a Cause\" and \"The Wild One\" have gotten better with age and portray the period more honestly than this show which was produced 20 years after the period it portrays.  Unfortunately, the TV show \"Happy Days\" is not in the same league as \"Rebel Without a Cause\" or \"American Graffitti\" for that matter. \"Happy Days\" may have captured some aspects of the 1950's with its burger diner, juke boxes, cool cars, and tacky plaid shirts, but it is more a nostalgic idealism done strictly for laughs rather than an honest portrayal. \"American Graffitti\" had something to say about young Americans in the 1950's whereas \"Happy Days\" seemed more about what middle-aged people of the 1970's wished the 1950's had been like. The result was a kind of watered down fabrication that really has nothing to do with the 1950's. \"Happy Days\" is, at best, a comedy-fantasy with some of the artificial culture of the 1950's as its backdrop. As pointed out by another reviewer, the all-American kid Richie Cunningham would probably have been chastised for befriending the likes of a drop-out like Fonzie. And Mel would probably forbid Fonzie from entering his Diner.  A quick history: \"Happy Days\" was originally a pilot called \"Love in the Happy Days\" that was rejected for broadcast. Comedy pilots that had themes concerning sex and romance that did not make it to pilot airing sometimes appeared on the infrequently broadcast show \"Love American Style\" which was often aired in place of baseball games that had rained out or other unexpected programming cancellations and/or alterations. In short, \"Love American Style\" was a throw-away show that contained all these one-episode comedy pilots that never made it to a slotted debut. \"Love in the Happy Days\" did appear as a \"Love American Style\" show sometime in the early 1970's, but at the time TV executives could not foresee how a show about 1950's young people would be popular, particularly during the hey-day of comedy shows centering around middle-aged people, such as The \"Mary Tyler Moore Show\" (and its subsequent spin-offs such \"Rhoda\"), \"The Bob Newhart Show\", and \"All in the Family\". (How things have changed since now most TV sitcoms are about young people and the industry avoids most shows about middle-aged people like the plague!)   Subsequently, one of the young stars of \"Love in the Happy Days\", a child actor from \"The Andy Griffith Show\" named Ron Howard, got the chance to star in a film about young people taking place in 1959 called \"American Graffitti\" directed by the relatively unknown George Lucas whose previous \"THX 1138\" had bombed miserably at the box office. Even when it was premiered to movie executives, again the studios could not see how a movie about young people in the 1950's could become popular because it didn't \"fit\" with what had been popular in the past, although they didn't realize that much of the movie-going audience had been young in the 1950's. As everyone knows, the movie was a huge hit, and studio executives recognized that they had completely misjudged their audience. Somewhere during the theatrical run of \"American Graffitti\", TV executives realized they had a comedy pilot in their vault that was a lot like \"American Graffitti\". They brought it back with the original cast, plus Henry Wrinkler as \"The Fonz\", re-titled it \"Happy Days\" and the rest is TV history as it became one of the most popular shows of the 1970's.  \"Happy Days\" now seems ridiculous. The characters are flat and cardboard, never being more or less than what they superficially are. The issues they deal with are trivial. And their reactions appear mindless and even silly. Nowadays, the character of the Fonz seems to be a caricature of, well, The Fonz. Was the idea to be a kind of parody of Marlon Brando's character in \"The Wild One\"? Looking on the show with fresh eyes, I feel the producers really missed out on a great opportunity to present the 1950's with depth and realism that still could be fun and entertaining. Instead the producers decided on cheap laughs for quick bucks. This is definitely a show that has not withstood the test of time. \"American Graffitti\" has many of the outward appearances of \"Happy Days\" but it had an edge. It had an honesty about the characters and their issues. \"Happy Days\" took the look of \"American Graffitti\" but failed to take its heart.   \n",
       "24590                                                                                                                                                                                                                                                                                                                                                                                                                                                                                                                                                                   \"It's like hard to like describe just how like exciting it is like to make a relationship like drama like with all the like pornographic scenes thrown like in for like good measure like, and to stir up like contro- like -versy and make us more like money and like stuff.\" - Ellen, the lost quote.  \"Kissing, Like, On the, Like, Mouth And Stuff\" is like the best like artistic endeavor like ever made. Watching like Ellen's hairy arms and like Chris masturbating was like the height of my years-long movie-viewing experience and stuff. But before I like begin like breaking new U.S.-20-something-airhead records with the my \"likes\", let me like just briefly list like the high- like -lights of this visual like feast:   1. Chris doing the deed with his genitals. And not just that: the way the camera (guided so elegantly by Ellen and Patrick) rewards the viewer with a full-screen shot of Chris's fat white-trash stomach after he finishes the un-Catholic deed - that was truly thrilling. I can in all honesty say that I've never seen such grace. Chris, you should do more such scenes in your next movies, because that is exactly what we needed as a continuation of what that brilliant, brilliant man, Lars von Trier and his \"Idiots 95\", started. A quick w*** and then a hairy, fat, white belly: what more can any movie-goer ask for?! Needless to say, I can sit all day and watch Chris ejaculate (in spite of the fact that I'm straight)... Such poetry in motion. Such elegance, such style. No less than total, divine inspiration went into filming that sequence - plus a solid amount of Zen philosophy. Even Barbra Streisand could not get any more spiritual than this.  2. Ellen's hairy, thick arms. The wobbly-camera close-ups, so skillfully photographed by our two directors of photography (I can't emphasize this enough), Ellen and Patrick, often caused confusion regarding the proper identification of the sex in question. There were several scenes when we would see a part of a body (a leg, arm or foot), yet it was often a guessing game: does that body-part belong to a man or a woman? Naturally, Chris and his fellow artists, Ellen, Patrick and whatsername, cast themselves on purpose, because their bodies were ideal for creating this gender-based confusion. It was at times hard to guess whether one is seeing a female or male leg. Patrick is so very thin and effeminate in his movements, so hairless and pristine, whereas Ellen and the other girl are so very butch, what with their thick legs and arms. Brilliant.   3. Brilliant - especially the way that neatly ties in with the theme of role reversal between the sexes: so utterly original and mind-blowing. Ellen behaves like a man, wants sex all the time, while her ex Patrick wants to talk - like a girl. Spiffing.  4. Ellen's search for a Leftist mate. \"He must love 'The Simpsons', which is quite Leftist.\" I am glad that the makers of this movie decided to break the long tradition of offering us intelligent Leftists. Ellen is such a refreshing - and realistic - change. The number of \"likes\" that she and her liberal friends manage to utter in less than 80 minutes is truly phenomenal (3,849, to be exact). They have managed to realistically transfer their real-life ineptness onto the big screen with a minimum of effort, and I applaud them for that.  5. The close-ups of toes. Plenty of stuff here for foot-fetishists, which I think is a very liberal, highly commendable way of reaching out to sexual minorities. After all, shoe- and foot- fetishists are offered so little in modern cinema, so it's nice to see that someone out there CARES.  KOTM, or rather, KLOTLMAS, offers more than meets the eye. It is not just a modest little film about shallow people engaging in hollow relationships while indulging in meaningless conversations. No, it's much more than that. It's about the light that guides all silly creatures; the guiding light that dominates the futile lives of various pseudo-artistic wannabes who just dropped out of film school, and plan to assault our senses with dim-witted drivel that will hopefully play well at pretentious festivals like Sundance and Cannes, enabling them to gain the necessary exposure hence some real cash for a change, with which they will later hire the likes of Sean Penn and George Clooney in promoting the saving of this planet and the resolving of ALL political problems this world faces. What better way to do that than by making porn at the very start?   If Chris and Ellen did the camera here, as is clearly stated in the end-credits, then who held the camera while the two of them were in front of it? They probably hired some passers-by and shoved the camera into their hands...  Go to http://rateyourmusic.com/~Fedor8, and check out my \"TV & Cinema: 150 Worst Cases Of Nepotism\" list.   \n",
       "\n",
       "      sentiment  \\\n",
       "410    negative   \n",
       "4220   negative   \n",
       "24590  negative   \n",
       "\n",
       "                                                      polarity_scores  \\\n",
       "410    {'neg': 0.076, 'neu': 0.602, 'pos': 0.322, 'compound': 0.9997}   \n",
       "4220   {'neg': 0.041, 'neu': 0.748, 'pos': 0.211, 'compound': 0.9996}   \n",
       "24590  {'neg': 0.046, 'neu': 0.722, 'pos': 0.232, 'compound': 0.9995}   \n",
       "\n",
       "       compound_score vader_sentiment  \n",
       "410            0.9997        positive  \n",
       "4220           0.9996        positive  \n",
       "24590          0.9995        positive  "
      ]
     },
     "metadata": {},
     "output_type": "display_data"
    },
    {
     "name": "stdout",
     "output_type": "stream",
     "text": [
      "FN cases\n"
     ]
    },
    {
     "data": {
      "text/html": [
       "<div>\n",
       "<style scoped>\n",
       "    .dataframe tbody tr th:only-of-type {\n",
       "        vertical-align: middle;\n",
       "    }\n",
       "\n",
       "    .dataframe tbody tr th {\n",
       "        vertical-align: top;\n",
       "    }\n",
       "\n",
       "    .dataframe thead th {\n",
       "        text-align: right;\n",
       "    }\n",
       "</style>\n",
       "<table border=\"1\" class=\"dataframe\">\n",
       "  <thead>\n",
       "    <tr style=\"text-align: right;\">\n",
       "      <th></th>\n",
       "      <th>review</th>\n",
       "      <th>sentiment</th>\n",
       "      <th>polarity_scores</th>\n",
       "      <th>compound_score</th>\n",
       "      <th>vader_sentiment</th>\n",
       "    </tr>\n",
       "  </thead>\n",
       "  <tbody>\n",
       "    <tr>\n",
       "      <th>45221</th>\n",
       "      <td>\"Nobi\" or \"Fires On the Plain\" is a film that is so excellent on so many levels, that not enough good things can be said about it. My only regret is that I was not able to see this 1959 film sooner.  Being something of a film purist, I tend to look at films for their artistic merits based upon dialog, acting, photography and even the efforts to remain true to the period in terms of costume. Ultimately, I want to know if the film is \"truthful\" enough in revealing the human condition to make me think without oppressing me with what the director wants me to think.  \"Fires on the Plain\" is a great film because it crafts a portrait filled with realistic human reactions to the dying fires of a great historical catastrophe.  Ichikawa's film is a condemnation of war on all levels -- as any good war film should be. War is horrifying, bloody, destructive. It is also murderous on the psyche. However, what is fundamental about \"Fires on the Plain\" is its unapologetic look at the Japanese soldiers. It shows them slowly collapsing under the weight of superior American firepower and their nation's inability to wage a war of its own making. A fatalistic code encouraging death before surrender is at the heart of this madness.  I was astonished to see such an honest and brutally close look at the bitter fruits of Japan's military misadventure made just 14 years after the end of what the Japanese call the \"Great Pacific War.\" Ichikawa, reveals what the Germans called the \"war life,\" the plight of the common soldier.  Ichikawa's film is interesting, since even today Japan is having a hard time fully coming to terms with its wartime fanaticism, its subjugation of conquered peoples, the racism of its war against the Chinese and war crimes which included cannibalism by soldiers and officers practiced not only against one another, but against Allied prisoners of war.  Ichikawa produces a stark representation of the victimization of soldiers by a confluence of bad political decisions and cultural pressures.  This stark examination is skillfully done by portraying the doomed soldiers as human beings who exhibit, at various times, fear, brilliantly laconic humor, dialog enriched by its sparseness, and a plot whose complexity is belied by the grim, wilderness setting.  Ichikawa's portrait is a ragged and painful tapestry of defeated men. The tubercular Tamura, played as a woebegone and gentle soul by Eiji Funakoshi, is a good soldier who can't abandon his humanity, though he is as frightened and lost as his comrades. Before he departs for a hospital that will reject him as too healthy, Tamura is given a hand grenade by a superior who, recognizing the hopelessness of their situation, advises Tamura to kill himself.  Why Tamura's hopelessly ill-supplied and militarily incapable unit was not ordered to surrender at the start of the film is telling. Ichikawa makes it plain that the war is over and everyone is merely waiting to die. As Tamura leaves his unit for his hopeless search for physical and spiritual salvation, he sees his comrades pointlessly digging an air raid shelter. They appear like corpses looking up from their own mass grave.  We later watch as the overworked hospital's medical staff abandons the dying patients to an all-consuming American artillery barrage. The pathetic patients, who crawl from their huts in a vain attempt to survive, appear like pathetic, serpentine creatures dragging themselves from an omnipotent force. You know they won't survive.  Ichikawa makes it plain that the only thing worse than a defeated army is one that has lost its honor by abandoning its humanity and its comrades. As Tamura staggers through the jungles of Leyte we encounter the noble, the dying and the exploitive. Cannibalism rears its ugly head as soldiers begin to eat one another rather than surrender to American \"corned beef.\"  When the men do talk of surrender, the propaganda of how Americans kills prisoners is countered by a worldly-wise soldier who reveals that the approaching Americans feed and care for prisoners of war because they, unlike the Japanese, respect brave soldiers who are forced to give up.  It is the Japanese who intend to die fighting for the Emperor long after resistance has lost all meaning. Those willing to fight to the death will be killed. It is the calculus of war.  After shooting a murderous and cannibalistic comrade, whom he earlier offered his own body to as food, the fatalistic Tamura's careless surrender also seems to be an intentional form of suicide. His death is a lonely image. Was Ichikawa trying to tell us of the internal conflict of the ordinary soldier who wants to live, but who is still trapped by his nation's suicidal cultural codes?  If someone watches this film carefully, he or she will see that absolutism and fanaticism is the enemy. The Americans are portrayed as a technologically advanced people willing to employ that technology in the form of inexorable military power -- a lesson that transformed Japanese postwar society. Ichikawa's film isn't so shallow that it indicts America. Ichikawa indicts the sedimentary layers of Japan's destructive policies that created the war and then to continue it when all was lost.  Ichikawa does not mention the nuclear weapons dropped upon Nagasaki and Hiroshima. He doesn't have to. The slow-motion destruction of the Imperial Japanese Army in the Philippines reveals the seeds of Japan's immolation.</td>\n",
       "      <td>positive</td>\n",
       "      <td>{'neg': 0.271, 'neu': 0.652, 'pos': 0.078, 'compound': -0.9997}</td>\n",
       "      <td>-0.9997</td>\n",
       "      <td>negative</td>\n",
       "    </tr>\n",
       "    <tr>\n",
       "      <th>4864</th>\n",
       "      <td>**SPOILERS**Actually based on the novel \"The Brick Foxhole\" about a gay man who was murdered by a GI on leave because of his sexual orientation. The movie \"Crossfire\" is about a violently anti-Semitic GI who because of his own failures and frustrations in life takes it out on those of the Jewish persuasion. Whom he obviously feels threatened by.  Getting himself tanked up at a local ginmill in D.C barley sober US serviceman Montgomrey, Robert Ryan, spots Joseph Samuel, Sam Leven, and starts to get a bit overly, yet sarcastically, friendly with him. It seems that Montgomery is a bit ticked off at Samuels because he's talking to his best friend and GI buddy Arthur Mitchell, George Cooper. Samuel is also getting through, which the Neanderthal Montgomery can't, to the sensitive young GI who's into the arts, he's an artist and painter on the outside, about war, WWII the war that just ended. As well as the shaky peace, if that's what it is with the dawn of atomic bomb, that's now following it in this very dangerous and unstable world. What really outrages Montgomery more then anything else about Samuels is that he's obviously Jewish. That more then anything else is enough reason for the racist Montgomery to want to do Samuels in.   Samules Inviting Mitchell to join him and his lady friend Miss. Lewis, Marlow Dwyer, at his apartment to have a couple of drinks and continue the very deep and stimulating conversation that they started at the bar. This has a, what seems like, very jealous and feeling hurt and rejected Montgomery together with his also inebriated but somewhat clueless, in what Montgomery's plans for Samuels are, friend and fellow GI Floyd Bowers ,Steve Brodie, later that night go uninvited to Samuels' place.   With the party already ended, with Mitchell and Miss Lewis gone, the two very drunk GI's unceremoniously crash the place. The fact that Samuels, in Montgomery's sick and anti-semitic mind, stole Mitchell away from him had him whip himself up into a white hot frenzy. Montgomery and Bowers break into Samuel's home raiding his well stacked liquor cabinet with Montgomery taking a couple of swigs, against Samuels' strong objections, of Samuels' very expansive and refined wines and spirits which is very unlike the watered down and cheap booze that the uncouth Montgomery is used to guzzling. This all soon lead to a violent and brutal assault on Samuels by the angry psychotic and drunk Montgomery, with Bowers out cold on the sofa from all the liquor he consumed, who beats the poor and innocent man to death.  The movie \"Crossfire\" then goes into a long and tedious, since it's obvious from the start who Samuels' killer is, investigation into why Samuels a wounded and decorated WWII veteran, who got the purple heart in the battle of Okinawa, was murdered with Montgomery acting like he's really interested, yeah sure, in finding Samuels' killer, which in reality is himself. This so-called voluntarily action on Montgomery's part in order to throw off suspicion on himself that he may be the man who killed him.   Montgomery is so ridicules and even, for someone who smugly considers himself to be very smart, stupid in him constantly opening up his big yap and spewing out anti-semitic and racist epitaphs and slurs about the murdered Samuels! That only throws suspicion on himself and no one else. I guess that guy just couldn't help it.  It's not enough that Montgomery murdered Samuels who in his sick mind was one of \"them\" he even murders his friend the scared to death, in being implicated in Samuels' murder, Bowers! Who in Montgomery racist way of thinking is one of \"us\"! Just because he was afraid Bowers would talk to the police in order to save his own sorry neck and thus have the spotlight put on Montgomey in Samuels' death.   It doesn't take that long for the detective on the case Capt. Finlay, Robert Young, to see through Montgomerys obvious lies and deceptions and then has him set up by having another GI \"friend\" of his Leroy (William Phipps), who was the butt of all his dumb and racist hillbilly jokes, set the arrogant creep up. This has Montgomery coming back to the scene of his crime, where he murdered Bowers, where a trap has been set up for him. That was all Capt. Finlay needed to get Montgomery to panic, when Montgomery saw that the jig was up, and make a run for it straight into the crossfire of a police ambush.  Dated a bit now but very hard-hitting back in 1947 when it was released. \"Crossfire\" addressed the horrors of anti-Semitism when it at the time was kept under the covers, and out of sight, in almost every post-WWII Hollywood movie about the evils of racism in the US, and in Europe. Even after the Second World War and with what happened to the Jews in it. When it should have been given the very full and honest exposer, to the movie going public, that it so rightfully deserved.</td>\n",
       "      <td>positive</td>\n",
       "      <td>{'neg': 0.241, 'neu': 0.685, 'pos': 0.074, 'compound': -0.9996}</td>\n",
       "      <td>-0.9996</td>\n",
       "      <td>negative</td>\n",
       "    </tr>\n",
       "    <tr>\n",
       "      <th>21342</th>\n",
       "      <td>The main achievement of this film is that though racially unipolar, the film still manages to carve out a tableaux of war portrayals that leave a lasting identification with whoever may view it, and whoever was present at this time. Though good films may have the ability of universalizing their subjects, which is often a hard thing to do; great films have the ability of universalizing their unipolar subjects, which is what this film does.  Instead of carving a context of unity, the film depicts the Japanese in the sick finality of the Phillipines war-front in February, 1945, making signs for pacifism or war, but rather making signs of the feelings, death, destruction, victory and sickness of war with the bloody hands of the defeated.Far different, and superior, to films such as Apocalypse Now and Full Metal Jacket, both which needed a satirical methodology of trivializing and depersonalizing the American troupes, and using all races as one struggle, which is fine, yet not as grand as a film that uses one race and view, which would look fascist if created in America, to convey the horror of war and show what it is really like.  The only way the main character makes it through this movie to the end, is by being sick, thence inedible; hence through this character, through his sickness, his saving face, we see the end of WWII in the Phillipines in February of 1945, and the way in which the Americans, Japanese and Phillipinians came together in bloody acts of warfare where you live to die.  The film is patently influenced by a neorealist way of filmic portrayal, which is original and beneficial to a viewer, whether then or now, for the neorealist techniques it employs conveys all the horrors of war in pictorial form, whether a showcase for pacifism or 'militaristic responsibility'. Like Germania Anno Zero, by Roberto Rossellini, a story emerges from the environment and the conditions associated with it.  The film's opening, with the two-way discussion between the two Japanese soldiers, prefigures and reechoes the events. Through this opening we feel that the struggle is human against human, and human with human; it shows that they relied on each other to face the enemy in the past battles, but now, in this opening, or 'pivot' of the experiences of the Japanese in the Phillipines, new information is relayed to the main character Tamura, giving a presentiment of a cannibal reliance on one another if they wish to survive.  The jungle is gritty, wet and thick, and the sky is not infrequently cloudy and pouring. We wade with the stragglers though puddles and marshes, as sick as the land around them. Nameless cadavers are strewn everywhere. Every now and then one can not tell if they are bodies, rocks or corn. Apparently there is no difference here, all is dead and sick. All is dying. All they have lest to feed upon are rare monkeys and dead bodies of fallen comrades and/or nameless enemies.  Often Tamura meets a fallen other near death. Though crushed in spirit, and crushing his, some offer up their bodies for him to eat, but he refuses; he still, like Hiroshi Kawaguchi as Nishi in Giants and Toys, will not droop into the death of dignity and Japanese morals; for this is all he really has to hold up for his survival, a dignity of self. Hence, when Nagamatsu is dissecting a soldier for consumption, he shoots him because of it. Tamura may be used to the killing, but to the sickness of killing and pillaging he can't decipher. He is neither a good man or a bad man. He wishes to survive, but will not go the extra mile beyond simple straight-war-killing. His self belonged dead on the battlefield, he isn't happy here to wade and wipe the weak for his survival.  The sickness he carrys he sees everywhere, in everyone; and sadly he lacks the ethical rationale of thinking either thinking entirely about others, since he can't give up his body for them since of his contagious malady, or thinking entirely about himself, since he sees the sickness in everyone, though still killing them even if they do no harm. Seen in his attack on the two Philippians's in the hut. He can't see anyone. No one can see anyone. The only see an aversion from malady and an adversion to health, the heart of survival instincts.  Often, an arm appears pointing to the left of the screen, towards what must be hope, for there, in that far Thule lies their freedom. Yet it is blocked by American soldiers, leaving the Japanese stragglers to slowly die in this disconsolate dirt. Even a church tower appears, reflecting the light off an unseen sun. But on closer inspection crows flutter wildly about it; religion too is an air of poison.  Nobi, the Japanese title of the film, gives more evidence to the themes, or feelings of the film: the servitude to fate, the heaviness of existence under leaders and lives controlled by others. Its proper Anglophone translation has a subject of heavy debate among historians, as non-Koreans translate it as \"slave\" and \"slavery\", while many Koreans argue that nobi was not a slave system, but a servant class system that does not meet the criteria for slavery. A way to typically to escape wrenching poverty. This improves upon the war theme, and symbolism of soldiery.  Isn't it important at the time period to ask ourselves what the purpose is of what will become our won history? Should we be comfortable of letting it unroll without conscious effort for change? Is it not who we are fighting, that age old history question, but rather why are we fighting? Fires on the Plain is with Eiji Funakoshi, Osamu Takizawa, and Mickey Curtis; based on a novel by Shohei Ooka. In Japanese with subtitles.</td>\n",
       "      <td>positive</td>\n",
       "      <td>{'neg': 0.212, 'neu': 0.713, 'pos': 0.075, 'compound': -0.9996}</td>\n",
       "      <td>-0.9996</td>\n",
       "      <td>negative</td>\n",
       "    </tr>\n",
       "  </tbody>\n",
       "</table>\n",
       "</div>"
      ],
      "text/plain": [
       "                                                                                                                                                                                                                                                                                                                                                                                                                                                                                                                                                                                                                                                                                                                                                                                                                                                                                                                                                                                                                                                                                                                                                                                                                                                                                                                                                                                                                                                                                                                                                                                                                                                                                                                                                                                                                                                                                                                                                                                                                                                                                                                                                                                                                                                                                                                                                                                                                                                                                                                                                                                                                                                                                                                                                                                                                                                                                                                                                                                                                                                                                                                                                                                                                                                                                                                                                                                                                                                                                                                                                                                                                                                                                                                                                                                                                                                                                                                                                                                                                                                                                                                                                                                                                                                                                                                                                                                                                                                                                                                                                                                                                                                                                                                                                                                                                                                                                                                                                                                                                                                                                                                                                                                                                                                                                                                                                                                                                                                                                                                                                                                                                                                                                                                                                                                                                                                                                                  review  \\\n",
       "45221                                                                                                                                                                                                                               \"Nobi\" or \"Fires On the Plain\" is a film that is so excellent on so many levels, that not enough good things can be said about it. My only regret is that I was not able to see this 1959 film sooner.  Being something of a film purist, I tend to look at films for their artistic merits based upon dialog, acting, photography and even the efforts to remain true to the period in terms of costume. Ultimately, I want to know if the film is \"truthful\" enough in revealing the human condition to make me think without oppressing me with what the director wants me to think.  \"Fires on the Plain\" is a great film because it crafts a portrait filled with realistic human reactions to the dying fires of a great historical catastrophe.  Ichikawa's film is a condemnation of war on all levels -- as any good war film should be. War is horrifying, bloody, destructive. It is also murderous on the psyche. However, what is fundamental about \"Fires on the Plain\" is its unapologetic look at the Japanese soldiers. It shows them slowly collapsing under the weight of superior American firepower and their nation's inability to wage a war of its own making. A fatalistic code encouraging death before surrender is at the heart of this madness.  I was astonished to see such an honest and brutally close look at the bitter fruits of Japan's military misadventure made just 14 years after the end of what the Japanese call the \"Great Pacific War.\" Ichikawa, reveals what the Germans called the \"war life,\" the plight of the common soldier.  Ichikawa's film is interesting, since even today Japan is having a hard time fully coming to terms with its wartime fanaticism, its subjugation of conquered peoples, the racism of its war against the Chinese and war crimes which included cannibalism by soldiers and officers practiced not only against one another, but against Allied prisoners of war.  Ichikawa produces a stark representation of the victimization of soldiers by a confluence of bad political decisions and cultural pressures.  This stark examination is skillfully done by portraying the doomed soldiers as human beings who exhibit, at various times, fear, brilliantly laconic humor, dialog enriched by its sparseness, and a plot whose complexity is belied by the grim, wilderness setting.  Ichikawa's portrait is a ragged and painful tapestry of defeated men. The tubercular Tamura, played as a woebegone and gentle soul by Eiji Funakoshi, is a good soldier who can't abandon his humanity, though he is as frightened and lost as his comrades. Before he departs for a hospital that will reject him as too healthy, Tamura is given a hand grenade by a superior who, recognizing the hopelessness of their situation, advises Tamura to kill himself.  Why Tamura's hopelessly ill-supplied and militarily incapable unit was not ordered to surrender at the start of the film is telling. Ichikawa makes it plain that the war is over and everyone is merely waiting to die. As Tamura leaves his unit for his hopeless search for physical and spiritual salvation, he sees his comrades pointlessly digging an air raid shelter. They appear like corpses looking up from their own mass grave.  We later watch as the overworked hospital's medical staff abandons the dying patients to an all-consuming American artillery barrage. The pathetic patients, who crawl from their huts in a vain attempt to survive, appear like pathetic, serpentine creatures dragging themselves from an omnipotent force. You know they won't survive.  Ichikawa makes it plain that the only thing worse than a defeated army is one that has lost its honor by abandoning its humanity and its comrades. As Tamura staggers through the jungles of Leyte we encounter the noble, the dying and the exploitive. Cannibalism rears its ugly head as soldiers begin to eat one another rather than surrender to American \"corned beef.\"  When the men do talk of surrender, the propaganda of how Americans kills prisoners is countered by a worldly-wise soldier who reveals that the approaching Americans feed and care for prisoners of war because they, unlike the Japanese, respect brave soldiers who are forced to give up.  It is the Japanese who intend to die fighting for the Emperor long after resistance has lost all meaning. Those willing to fight to the death will be killed. It is the calculus of war.  After shooting a murderous and cannibalistic comrade, whom he earlier offered his own body to as food, the fatalistic Tamura's careless surrender also seems to be an intentional form of suicide. His death is a lonely image. Was Ichikawa trying to tell us of the internal conflict of the ordinary soldier who wants to live, but who is still trapped by his nation's suicidal cultural codes?  If someone watches this film carefully, he or she will see that absolutism and fanaticism is the enemy. The Americans are portrayed as a technologically advanced people willing to employ that technology in the form of inexorable military power -- a lesson that transformed Japanese postwar society. Ichikawa's film isn't so shallow that it indicts America. Ichikawa indicts the sedimentary layers of Japan's destructive policies that created the war and then to continue it when all was lost.  Ichikawa does not mention the nuclear weapons dropped upon Nagasaki and Hiroshima. He doesn't have to. The slow-motion destruction of the Imperial Japanese Army in the Philippines reveals the seeds of Japan's immolation.   \n",
       "4864                                                                                                                                                                                                                                                                                                                                                                                                                                                                                                                                                                                                                                                                                                                                                                                                                   **SPOILERS**Actually based on the novel \"The Brick Foxhole\" about a gay man who was murdered by a GI on leave because of his sexual orientation. The movie \"Crossfire\" is about a violently anti-Semitic GI who because of his own failures and frustrations in life takes it out on those of the Jewish persuasion. Whom he obviously feels threatened by.  Getting himself tanked up at a local ginmill in D.C barley sober US serviceman Montgomrey, Robert Ryan, spots Joseph Samuel, Sam Leven, and starts to get a bit overly, yet sarcastically, friendly with him. It seems that Montgomery is a bit ticked off at Samuels because he's talking to his best friend and GI buddy Arthur Mitchell, George Cooper. Samuel is also getting through, which the Neanderthal Montgomery can't, to the sensitive young GI who's into the arts, he's an artist and painter on the outside, about war, WWII the war that just ended. As well as the shaky peace, if that's what it is with the dawn of atomic bomb, that's now following it in this very dangerous and unstable world. What really outrages Montgomery more then anything else about Samuels is that he's obviously Jewish. That more then anything else is enough reason for the racist Montgomery to want to do Samuels in.   Samules Inviting Mitchell to join him and his lady friend Miss. Lewis, Marlow Dwyer, at his apartment to have a couple of drinks and continue the very deep and stimulating conversation that they started at the bar. This has a, what seems like, very jealous and feeling hurt and rejected Montgomery together with his also inebriated but somewhat clueless, in what Montgomery's plans for Samuels are, friend and fellow GI Floyd Bowers ,Steve Brodie, later that night go uninvited to Samuels' place.   With the party already ended, with Mitchell and Miss Lewis gone, the two very drunk GI's unceremoniously crash the place. The fact that Samuels, in Montgomery's sick and anti-semitic mind, stole Mitchell away from him had him whip himself up into a white hot frenzy. Montgomery and Bowers break into Samuel's home raiding his well stacked liquor cabinet with Montgomery taking a couple of swigs, against Samuels' strong objections, of Samuels' very expansive and refined wines and spirits which is very unlike the watered down and cheap booze that the uncouth Montgomery is used to guzzling. This all soon lead to a violent and brutal assault on Samuels by the angry psychotic and drunk Montgomery, with Bowers out cold on the sofa from all the liquor he consumed, who beats the poor and innocent man to death.  The movie \"Crossfire\" then goes into a long and tedious, since it's obvious from the start who Samuels' killer is, investigation into why Samuels a wounded and decorated WWII veteran, who got the purple heart in the battle of Okinawa, was murdered with Montgomery acting like he's really interested, yeah sure, in finding Samuels' killer, which in reality is himself. This so-called voluntarily action on Montgomery's part in order to throw off suspicion on himself that he may be the man who killed him.   Montgomery is so ridicules and even, for someone who smugly considers himself to be very smart, stupid in him constantly opening up his big yap and spewing out anti-semitic and racist epitaphs and slurs about the murdered Samuels! That only throws suspicion on himself and no one else. I guess that guy just couldn't help it.  It's not enough that Montgomery murdered Samuels who in his sick mind was one of \"them\" he even murders his friend the scared to death, in being implicated in Samuels' murder, Bowers! Who in Montgomery racist way of thinking is one of \"us\"! Just because he was afraid Bowers would talk to the police in order to save his own sorry neck and thus have the spotlight put on Montgomey in Samuels' death.   It doesn't take that long for the detective on the case Capt. Finlay, Robert Young, to see through Montgomerys obvious lies and deceptions and then has him set up by having another GI \"friend\" of his Leroy (William Phipps), who was the butt of all his dumb and racist hillbilly jokes, set the arrogant creep up. This has Montgomery coming back to the scene of his crime, where he murdered Bowers, where a trap has been set up for him. That was all Capt. Finlay needed to get Montgomery to panic, when Montgomery saw that the jig was up, and make a run for it straight into the crossfire of a police ambush.  Dated a bit now but very hard-hitting back in 1947 when it was released. \"Crossfire\" addressed the horrors of anti-Semitism when it at the time was kept under the covers, and out of sight, in almost every post-WWII Hollywood movie about the evils of racism in the US, and in Europe. Even after the Second World War and with what happened to the Jews in it. When it should have been given the very full and honest exposer, to the movie going public, that it so rightfully deserved.   \n",
       "21342  The main achievement of this film is that though racially unipolar, the film still manages to carve out a tableaux of war portrayals that leave a lasting identification with whoever may view it, and whoever was present at this time. Though good films may have the ability of universalizing their subjects, which is often a hard thing to do; great films have the ability of universalizing their unipolar subjects, which is what this film does.  Instead of carving a context of unity, the film depicts the Japanese in the sick finality of the Phillipines war-front in February, 1945, making signs for pacifism or war, but rather making signs of the feelings, death, destruction, victory and sickness of war with the bloody hands of the defeated.Far different, and superior, to films such as Apocalypse Now and Full Metal Jacket, both which needed a satirical methodology of trivializing and depersonalizing the American troupes, and using all races as one struggle, which is fine, yet not as grand as a film that uses one race and view, which would look fascist if created in America, to convey the horror of war and show what it is really like.  The only way the main character makes it through this movie to the end, is by being sick, thence inedible; hence through this character, through his sickness, his saving face, we see the end of WWII in the Phillipines in February of 1945, and the way in which the Americans, Japanese and Phillipinians came together in bloody acts of warfare where you live to die.  The film is patently influenced by a neorealist way of filmic portrayal, which is original and beneficial to a viewer, whether then or now, for the neorealist techniques it employs conveys all the horrors of war in pictorial form, whether a showcase for pacifism or 'militaristic responsibility'. Like Germania Anno Zero, by Roberto Rossellini, a story emerges from the environment and the conditions associated with it.  The film's opening, with the two-way discussion between the two Japanese soldiers, prefigures and reechoes the events. Through this opening we feel that the struggle is human against human, and human with human; it shows that they relied on each other to face the enemy in the past battles, but now, in this opening, or 'pivot' of the experiences of the Japanese in the Phillipines, new information is relayed to the main character Tamura, giving a presentiment of a cannibal reliance on one another if they wish to survive.  The jungle is gritty, wet and thick, and the sky is not infrequently cloudy and pouring. We wade with the stragglers though puddles and marshes, as sick as the land around them. Nameless cadavers are strewn everywhere. Every now and then one can not tell if they are bodies, rocks or corn. Apparently there is no difference here, all is dead and sick. All is dying. All they have lest to feed upon are rare monkeys and dead bodies of fallen comrades and/or nameless enemies.  Often Tamura meets a fallen other near death. Though crushed in spirit, and crushing his, some offer up their bodies for him to eat, but he refuses; he still, like Hiroshi Kawaguchi as Nishi in Giants and Toys, will not droop into the death of dignity and Japanese morals; for this is all he really has to hold up for his survival, a dignity of self. Hence, when Nagamatsu is dissecting a soldier for consumption, he shoots him because of it. Tamura may be used to the killing, but to the sickness of killing and pillaging he can't decipher. He is neither a good man or a bad man. He wishes to survive, but will not go the extra mile beyond simple straight-war-killing. His self belonged dead on the battlefield, he isn't happy here to wade and wipe the weak for his survival.  The sickness he carrys he sees everywhere, in everyone; and sadly he lacks the ethical rationale of thinking either thinking entirely about others, since he can't give up his body for them since of his contagious malady, or thinking entirely about himself, since he sees the sickness in everyone, though still killing them even if they do no harm. Seen in his attack on the two Philippians's in the hut. He can't see anyone. No one can see anyone. The only see an aversion from malady and an adversion to health, the heart of survival instincts.  Often, an arm appears pointing to the left of the screen, towards what must be hope, for there, in that far Thule lies their freedom. Yet it is blocked by American soldiers, leaving the Japanese stragglers to slowly die in this disconsolate dirt. Even a church tower appears, reflecting the light off an unseen sun. But on closer inspection crows flutter wildly about it; religion too is an air of poison.  Nobi, the Japanese title of the film, gives more evidence to the themes, or feelings of the film: the servitude to fate, the heaviness of existence under leaders and lives controlled by others. Its proper Anglophone translation has a subject of heavy debate among historians, as non-Koreans translate it as \"slave\" and \"slavery\", while many Koreans argue that nobi was not a slave system, but a servant class system that does not meet the criteria for slavery. A way to typically to escape wrenching poverty. This improves upon the war theme, and symbolism of soldiery.  Isn't it important at the time period to ask ourselves what the purpose is of what will become our won history? Should we be comfortable of letting it unroll without conscious effort for change? Is it not who we are fighting, that age old history question, but rather why are we fighting? Fires on the Plain is with Eiji Funakoshi, Osamu Takizawa, and Mickey Curtis; based on a novel by Shohei Ooka. In Japanese with subtitles.   \n",
       "\n",
       "      sentiment  \\\n",
       "45221  positive   \n",
       "4864   positive   \n",
       "21342  positive   \n",
       "\n",
       "                                                       polarity_scores  \\\n",
       "45221  {'neg': 0.271, 'neu': 0.652, 'pos': 0.078, 'compound': -0.9997}   \n",
       "4864   {'neg': 0.241, 'neu': 0.685, 'pos': 0.074, 'compound': -0.9996}   \n",
       "21342  {'neg': 0.212, 'neu': 0.713, 'pos': 0.075, 'compound': -0.9996}   \n",
       "\n",
       "       compound_score vader_sentiment  \n",
       "45221         -0.9997        negative  \n",
       "4864          -0.9996        negative  \n",
       "21342         -0.9996        negative  "
      ]
     },
     "metadata": {},
     "output_type": "display_data"
    }
   ],
   "source": [
    "print('FP cases')\n",
    "# get FP cases (predicted as positve but actually negative) and sort the predicted compound score in descending order\n",
    "FP = df_vader[(df_vader['vader_sentiment']=='positive') & (df_vader['sentiment']=='negative')].sort_values('compound_score', ascending=False)\n",
    "display(FP[:3])\n",
    "print('FN cases')\n",
    "# get FN cases (predicted as 1 star but actually 5 stars) and sort the predicted compound in ascending order\n",
    "FN = df_vader[(df_vader['vader_sentiment']=='negative') & (df_vader['sentiment']=='positive')].sort_values('compound_score')\n",
    "display(FN[:3])"
   ]
  },
  {
   "cell_type": "markdown",
   "metadata": {},
   "source": [
    "## 2. Count Vectorizer"
   ]
  },
  {
   "cell_type": "code",
   "execution_count": 15,
   "metadata": {},
   "outputs": [],
   "source": [
    "def get_wordnet_pos(word):\n",
    "    \"\"\"Map POS tag to first character lemmatize() accepts\"\"\"\n",
    "    tag = nltk.pos_tag([word])[0][1][0].upper()\n",
    "    tag_dict = {\"J\": wordnet.ADJ,\n",
    "                \"N\": wordnet.NOUN,\n",
    "                \"V\": wordnet.VERB,\n",
    "                \"R\": wordnet.ADV}\n",
    "\n",
    "    return tag_dict.get(tag, wordnet.NOUN)\n",
    "\n",
    "def text_process(text):\n",
    "    \"\"\"\n",
    "    Takes in a string of text, then performs the following:\n",
    "    - remove html tags\n",
    "    - Lowercase\n",
    "    - remove film, movie, numbers\n",
    "    - remove punctuation\n",
    "    - Remove stopwords\n",
    "    - Stemming (stemming performs better than lemmatizing for this dataset)\n",
    "    Returns a list of the cleaned text\n",
    "    \"\"\"\n",
    "    text = re.sub(r\"<.*?>\",\" \", text)\n",
    "    text = text.lower()\n",
    "    text = re.sub(r\"film|movie|[0-9]+\",\"\", text)\n",
    "\n",
    "    temp = [char for char in text if char not in string.punctuation]\n",
    "    text= ''.join(temp)\n",
    "    temp=[word for word in text.split() if word not in stopwords.words('english')]\n",
    "    text= ' '.join(temp)\n",
    "        \n",
    "    tokenized = nltk.word_tokenize(text)\n",
    "    ps = PorterStemmer()\n",
    "    return ' '.join([ps.stem(words) for words in tokenized])\n",
    "    # lm = WordNetLemmatizer()\n",
    "    # return ' '.join([lm.lemmatize(w, get_wordnet_pos(w)) for w in tokenized])"
   ]
  },
  {
   "cell_type": "code",
   "execution_count": 16,
   "metadata": {},
   "outputs": [],
   "source": [
    "# only run this for the first time for pre-processing\n",
    "# df['clean']= df['review'].apply(text_process)\n",
    "# df[\"length\"] = df[\"clean\"].apply(len)\n",
    "# df[\"class\"] = np.where(df[\"sentiment\"] == \"positive\", 1, 0)\n",
    "# df.to_parquet(SENTIMENT_CLEANED_DATA_PATH)\n",
    "# df.tail(1)"
   ]
  },
  {
   "cell_type": "code",
   "execution_count": 17,
   "metadata": {},
   "outputs": [
    {
     "data": {
      "text/html": [
       "<div>\n",
       "<style scoped>\n",
       "    .dataframe tbody tr th:only-of-type {\n",
       "        vertical-align: middle;\n",
       "    }\n",
       "\n",
       "    .dataframe tbody tr th {\n",
       "        vertical-align: top;\n",
       "    }\n",
       "\n",
       "    .dataframe thead th {\n",
       "        text-align: right;\n",
       "    }\n",
       "</style>\n",
       "<table border=\"1\" class=\"dataframe\">\n",
       "  <thead>\n",
       "    <tr style=\"text-align: right;\">\n",
       "      <th></th>\n",
       "      <th>review</th>\n",
       "      <th>sentiment</th>\n",
       "      <th>clean</th>\n",
       "      <th>length</th>\n",
       "      <th>class</th>\n",
       "    </tr>\n",
       "  </thead>\n",
       "  <tbody>\n",
       "    <tr>\n",
       "      <th>0</th>\n",
       "      <td>One of the other reviewers has mentioned that after watching just 1 Oz episode you'll be hooked. They are right, as this is exactly what happened with me.  The first thing that struck me about Oz was its brutality and unflinching scenes of violence, which set in right from the word GO. Trust me, this is not a show for the faint hearted or timid. This show pulls no punches with regards to drugs, sex or violence. Its is hardcore, in the classic use of the word.  It is called OZ as that is the nickname given to the Oswald Maximum Security State Penitentary. It focuses mainly on Emerald City, an experimental section of the prison where all the cells have glass fronts and face inwards, so privacy is not high on the agenda. Em City is home to many..Aryans, Muslims, gangstas, Latinos, Christians, Italians, Irish and more....so scuffles, death stares, dodgy dealings and shady agreements are never far away.  I would say the main appeal of the show is due to the fact that it goes where other shows wouldn't dare. Forget pretty pictures painted for mainstream audiences, forget charm, forget romance...OZ doesn't mess around. The first episode I ever saw struck me as so nasty it was surreal, I couldn't say I was ready for it, but as I watched more, I developed a taste for Oz, and got accustomed to the high levels of graphic violence. Not just violence, but injustice (crooked guards who'll be sold out for a nickel, inmates who'll kill on order and get away with it, well mannered, middle class inmates being turned into prison bitches due to their lack of street skills or prison experience) Watching Oz, you may become comfortable with what is uncomfortable viewing....thats if you can get in touch with your darker side.</td>\n",
       "      <td>positive</td>\n",
       "      <td>one review mention watch oz episod youll hook right exactli happen first thing struck oz brutal unflinch scene violenc set right word go trust show faint heart timid show pull punch regard drug sex violenc hardcor classic use word call oz nicknam given oswald maximum secur state penitentari focus mainli emerald citi experiment section prison cell glass front face inward privaci high agenda em citi home manyaryan muslim gangsta latino christian italian irish moreso scuffl death stare dodgi deal shadi agreement never far away would say main appeal show due fact goe show wouldnt dare forget pretti pictur paint mainstream audienc forget charm forget romanceoz doesnt mess around first episod ever saw struck nasti surreal couldnt say readi watch develop tast oz got accustom high level graphic violenc violenc injustic crook guard wholl sold nickel inmat wholl kill order get away well manner middl class inmat turn prison bitch due lack street skill prison experi watch oz may becom comfort uncomfort viewingthat get touch darker side</td>\n",
       "      <td>1039</td>\n",
       "      <td>1</td>\n",
       "    </tr>\n",
       "  </tbody>\n",
       "</table>\n",
       "</div>"
      ],
      "text/plain": [
       "                                                                                                                                                                                                                                                                                                                                                                                                                                                                                                                                                                                                                                                                                                                                                                                                                                                                                                                                                                                                                                                                                                                                                                                                                                                                                                                                                                                                                                                                                                                                                                                                                                                                                                                                                                                                review  \\\n",
       "0  One of the other reviewers has mentioned that after watching just 1 Oz episode you'll be hooked. They are right, as this is exactly what happened with me.  The first thing that struck me about Oz was its brutality and unflinching scenes of violence, which set in right from the word GO. Trust me, this is not a show for the faint hearted or timid. This show pulls no punches with regards to drugs, sex or violence. Its is hardcore, in the classic use of the word.  It is called OZ as that is the nickname given to the Oswald Maximum Security State Penitentary. It focuses mainly on Emerald City, an experimental section of the prison where all the cells have glass fronts and face inwards, so privacy is not high on the agenda. Em City is home to many..Aryans, Muslims, gangstas, Latinos, Christians, Italians, Irish and more....so scuffles, death stares, dodgy dealings and shady agreements are never far away.  I would say the main appeal of the show is due to the fact that it goes where other shows wouldn't dare. Forget pretty pictures painted for mainstream audiences, forget charm, forget romance...OZ doesn't mess around. The first episode I ever saw struck me as so nasty it was surreal, I couldn't say I was ready for it, but as I watched more, I developed a taste for Oz, and got accustomed to the high levels of graphic violence. Not just violence, but injustice (crooked guards who'll be sold out for a nickel, inmates who'll kill on order and get away with it, well mannered, middle class inmates being turned into prison bitches due to their lack of street skills or prison experience) Watching Oz, you may become comfortable with what is uncomfortable viewing....thats if you can get in touch with your darker side.   \n",
       "\n",
       "  sentiment  \\\n",
       "0  positive   \n",
       "\n",
       "                                                                                                                                                                                                                                                                                                                                                                                                                                                                                                                                                                                                                                                                                                                                                                                                                                                                                                                                                                                                                                                                             clean  \\\n",
       "0  one review mention watch oz episod youll hook right exactli happen first thing struck oz brutal unflinch scene violenc set right word go trust show faint heart timid show pull punch regard drug sex violenc hardcor classic use word call oz nicknam given oswald maximum secur state penitentari focus mainli emerald citi experiment section prison cell glass front face inward privaci high agenda em citi home manyaryan muslim gangsta latino christian italian irish moreso scuffl death stare dodgi deal shadi agreement never far away would say main appeal show due fact goe show wouldnt dare forget pretti pictur paint mainstream audienc forget charm forget romanceoz doesnt mess around first episod ever saw struck nasti surreal couldnt say readi watch develop tast oz got accustom high level graphic violenc violenc injustic crook guard wholl sold nickel inmat wholl kill order get away well manner middl class inmat turn prison bitch due lack street skill prison experi watch oz may becom comfort uncomfort viewingthat get touch darker side   \n",
       "\n",
       "   length  class  \n",
       "0    1039      1  "
      ]
     },
     "execution_count": 17,
     "metadata": {},
     "output_type": "execute_result"
    }
   ],
   "source": [
    "df = pd.read_parquet(SENTIMENT_CLEANED_DATA_PATH)\n",
    "df.head(1)"
   ]
  },
  {
   "cell_type": "code",
   "execution_count": 18,
   "metadata": {},
   "outputs": [
    {
     "data": {
      "text/plain": [
       "0.5018756806905732"
      ]
     },
     "execution_count": 18,
     "metadata": {},
     "output_type": "execute_result"
    }
   ],
   "source": [
    "x = df['clean']\n",
    "y = df['class']\n",
    "sum(y==1)/len(y)  #class balanced"
   ]
  },
  {
   "cell_type": "code",
   "execution_count": 19,
   "metadata": {},
   "outputs": [],
   "source": [
    "x_train_orig, x_test_orig, y_train, y_test = train_test_split(x, y, test_size=0.2, stratify = y, random_state = 2022)"
   ]
  },
  {
   "cell_type": "markdown",
   "metadata": {},
   "source": [
    "### Prepare functions"
   ]
  },
  {
   "cell_type": "code",
   "execution_count": 20,
   "metadata": {},
   "outputs": [],
   "source": [
    "def tabulate_perf(model_list,x_train,y_train,x_test,y_test):\n",
    "    name_list=[]\n",
    "    train_accuracy, test_accuracy = [], []\n",
    "    train_precision, test_precision = [], []\n",
    "    train_recall, test_recall = [], []\n",
    "    train_f1, test_f1 = [], []\n",
    "    train_auc, test_auc = [], []\n",
    "\n",
    "    for name, model in model_list.items():\n",
    "        # get predictions\n",
    "        y_train_pred = model.predict(x_train)\n",
    "        y_test_pred = model.predict(x_test)\n",
    "        y_train_prob = model.predict_proba(x_train)[:,1]  \n",
    "        y_test_prob = model.predict_proba(x_test)[:,1]  \n",
    "        # records the results\n",
    "        name_list.append(name)\n",
    "        train_accuracy.append(metrics.accuracy_score(y_train, y_train_pred))\n",
    "        test_accuracy.append(metrics.accuracy_score(y_test, y_test_pred))\n",
    "        train_precision.append(metrics.precision_score(y_train, y_train_pred))\n",
    "        test_precision.append(metrics.precision_score(y_test, y_test_pred))\n",
    "        train_recall.append(metrics.recall_score(y_train, y_train_pred))\n",
    "        test_recall.append(metrics.recall_score(y_test, y_test_pred))\n",
    "        train_f1.append(metrics.f1_score(y_train, y_train_pred))\n",
    "        test_f1.append(metrics.f1_score(y_test, y_test_pred))\n",
    "        train_auc.append(metrics.roc_auc_score(y_train, y_train_prob))\n",
    "        test_auc.append(metrics.roc_auc_score(y_test, y_test_prob))\n",
    "    # compile into a single dataframe\n",
    "    model_perform =pd.DataFrame({'model': name_list,\n",
    "                                 'train_accuracy':train_accuracy, 'test_accuracy':test_accuracy, \n",
    "                                 'train_precision':train_precision, 'test_precision':test_precision, \n",
    "                                 'train_recall':train_recall, 'test_recall':test_recall,\n",
    "                                 'train_f1':train_f1, 'test_f1':test_f1,\n",
    "                                 'train_auc':train_auc, 'test_auc':test_auc})\n",
    "    return model_perform"
   ]
  },
  {
   "cell_type": "code",
   "execution_count": 21,
   "metadata": {},
   "outputs": [],
   "source": [
    "def plot_roc(model_list,x_test,y_test):\n",
    "    # set the plot size\n",
    "    plt.figure(figsize=(8, 6))\n",
    "\n",
    "    for name, model in model_list.items():\n",
    "        y_test_prob = model.predict_proba(x_test)[:,1]     # get the predicted probability\n",
    "        auc = round(metrics.roc_auc_score(y_test, y_test_prob), 4) # calculate AUC\n",
    "        fpr, tpr, thresholds = metrics.roc_curve(y_test, y_test_prob) # calculate fpr and tpr for ROC curve\n",
    "        plt.plot(fpr,tpr,label=\"ROC for \"+str(name)+\" AUC=\"+str(auc))\n",
    "\n",
    "    # plot random classifier line\n",
    "    plt.plot([0, 1], [0, 1], ls = '--',color='k' )             \n",
    "    plt.legend()\n",
    "    plt.xlabel('False Positive Rate')\n",
    "    plt.ylabel('True Positive Rate')\n",
    "    plt.title('Testing ROC Curve for all models')"
   ]
  },
  {
   "cell_type": "markdown",
   "metadata": {},
   "source": [
    "### 2.1. Fit models "
   ]
  },
  {
   "cell_type": "code",
   "execution_count": 22,
   "metadata": {},
   "outputs": [],
   "source": [
    "#CountVectorizer converts a collection of text documents to a matrix of token counts\n",
    "cv = CountVectorizer(ngram_range=(1,2), min_df = 0.005)\n",
    "x_train = cv.fit_transform(x_train_orig)\n",
    "x_test = cv.transform(x_test_orig)"
   ]
  },
  {
   "cell_type": "code",
   "execution_count": 23,
   "metadata": {},
   "outputs": [
    {
     "name": "stdout",
     "output_type": "stream",
     "text": [
      "---Logistic Regression---\n",
      "[[4223  717]\n",
      " [ 575 4402]]\n",
      "              precision    recall  f1-score   support\n",
      "\n",
      "           0       0.88      0.85      0.87      4940\n",
      "           1       0.86      0.88      0.87      4977\n",
      "\n",
      "    accuracy                           0.87      9917\n",
      "   macro avg       0.87      0.87      0.87      9917\n",
      "weighted avg       0.87      0.87      0.87      9917\n",
      "\n",
      "---Random Forest---\n",
      "[[4162  778]\n",
      " [ 750 4227]]\n",
      "              precision    recall  f1-score   support\n",
      "\n",
      "           0       0.85      0.84      0.84      4940\n",
      "           1       0.84      0.85      0.85      4977\n",
      "\n",
      "    accuracy                           0.85      9917\n",
      "   macro avg       0.85      0.85      0.85      9917\n",
      "weighted avg       0.85      0.85      0.85      9917\n",
      "\n",
      "---Naive Bayes---\n",
      "[[4135  805]\n",
      " [ 702 4275]]\n",
      "              precision    recall  f1-score   support\n",
      "\n",
      "           0       0.85      0.84      0.85      4940\n",
      "           1       0.84      0.86      0.85      4977\n",
      "\n",
      "    accuracy                           0.85      9917\n",
      "   macro avg       0.85      0.85      0.85      9917\n",
      "weighted avg       0.85      0.85      0.85      9917\n",
      "\n"
     ]
    }
   ],
   "source": [
    "logit_cv = LogisticRegression(random_state=2022, max_iter=1000)\n",
    "logit_cv.fit(x_train,y_train)\n",
    "y_test_pred = logit_cv.predict(x_test)\n",
    "print('---Logistic Regression---')\n",
    "print(confusion_matrix(y_test,y_test_pred))\n",
    "print(classification_report(y_test,y_test_pred))\n",
    "\n",
    "rf_cv = RandomForestClassifier(random_state=2022)\n",
    "rf_cv.fit(x_train,y_train)\n",
    "y_test_pred = rf_cv.predict(x_test)\n",
    "print('---Random Forest---')\n",
    "print(confusion_matrix(y_test,y_test_pred))\n",
    "print(classification_report(y_test,y_test_pred))\n",
    "\n",
    "nb_cv = MultinomialNB()\n",
    "nb_cv.fit(x_train,y_train)\n",
    "y_test_pred = nb_cv.predict(x_test)\n",
    "print('---Naive Bayes---')\n",
    "print(confusion_matrix(y_test,y_test_pred))\n",
    "print(classification_report(y_test,y_test_pred))"
   ]
  },
  {
   "cell_type": "markdown",
   "metadata": {},
   "source": [
    "### 2.2. Hyperparameter Tuning"
   ]
  },
  {
   "cell_type": "code",
   "execution_count": 24,
   "metadata": {},
   "outputs": [
    {
     "name": "stdout",
     "output_type": "stream",
     "text": [
      "best score: 0.8802541453730118\n",
      "best parameters:  {'C': 0.1, 'penalty': 'l1', 'solver': 'liblinear'}\n"
     ]
    }
   ],
   "source": [
    "logit_cv_tune = LogisticRegression(random_state=2022, max_iter=2000) #increase max_iter to converge\n",
    "param_logit = {\"penalty\": [\"l1\", \"l2\"],\n",
    "              'C': [0.01, 0.1, 1, 10],\n",
    "               'solver': ['liblinear', 'lbfgs', 'newton-cg’']\n",
    "              }\n",
    "\n",
    "logit_cv_gs = GridSearchCV(logit_cv_tune, param_logit, scoring='f1', cv=StratifiedKFold(n_splits=5), n_jobs= -1)\n",
    "logit_cv_gs.fit(x_train, y_train)\n",
    "logit_cv_bst = logit_cv_gs.best_estimator_\n",
    "print('best score:', logit_cv_gs.best_score_)  # score of best_estimator on the left out data \n",
    "print('best parameters: ', logit_cv_gs.best_params_)"
   ]
  },
  {
   "cell_type": "code",
   "execution_count": 25,
   "metadata": {},
   "outputs": [
    {
     "name": "stdout",
     "output_type": "stream",
     "text": [
      "best score: 0.8645386157221984\n",
      "best parameters:  {'n_estimators': 400, 'max_features': 'log2', 'max_depth': 60, 'criterion': 'gini', 'bootstrap': True}\n"
     ]
    }
   ],
   "source": [
    "rf_cv_tune = RandomForestClassifier(random_state=2022)\n",
    "param_rf = {\"criterion\": [\"gini\", \"entropy\"],\n",
    "              'n_estimators': list(range(100, 500, 100)),\n",
    "              'max_depth': list(range(50, 80, 10)),\n",
    "              'max_features': ['log2', 'sqrt'],\n",
    "              'bootstrap': [True, False]}\n",
    "\n",
    "rf_cv_gs = RandomizedSearchCV(rf_cv_tune, param_rf, scoring='f1', cv=StratifiedKFold(n_splits=5), n_jobs= -1)\n",
    "rf_cv_gs.fit(x_train, y_train)\n",
    "rf_cv_bst = rf_cv_gs.best_estimator_\n",
    "print('best score:', rf_cv_gs.best_score_)\n",
    "print('best parameters: ', rf_cv_gs.best_params_)"
   ]
  },
  {
   "cell_type": "code",
   "execution_count": 26,
   "metadata": {},
   "outputs": [
    {
     "name": "stdout",
     "output_type": "stream",
     "text": [
      "best score: 0.848673001755893\n",
      "best parameters:  {'alpha': 1.1}\n"
     ]
    }
   ],
   "source": [
    "nb_cv_tune = MultinomialNB()\n",
    "param_nb = {\"alpha\": list(np.arange(0.1, 2, 0.1)) # [0.01, 0.1, 1, 2, 4, 8, 10]\n",
    "            }\n",
    "\n",
    "nb_cv_gs = GridSearchCV(nb_cv_tune, param_nb, scoring='f1', cv=StratifiedKFold(n_splits=5), n_jobs= -1)\n",
    "nb_cv_gs.fit(x_train, y_train)\n",
    "nb_cv_bst = nb_cv_gs.best_estimator_\n",
    "print('best score:', nb_cv_gs.best_score_)\n",
    "print('best parameters: ', nb_cv_gs.best_params_)"
   ]
  },
  {
   "cell_type": "code",
   "execution_count": 27,
   "metadata": {},
   "outputs": [
    {
     "data": {
      "text/html": [
       "<div>\n",
       "<style scoped>\n",
       "    .dataframe tbody tr th:only-of-type {\n",
       "        vertical-align: middle;\n",
       "    }\n",
       "\n",
       "    .dataframe tbody tr th {\n",
       "        vertical-align: top;\n",
       "    }\n",
       "\n",
       "    .dataframe thead th {\n",
       "        text-align: right;\n",
       "    }\n",
       "</style>\n",
       "<table border=\"1\" class=\"dataframe\">\n",
       "  <thead>\n",
       "    <tr style=\"text-align: right;\">\n",
       "      <th></th>\n",
       "      <th>model</th>\n",
       "      <th>train_accuracy</th>\n",
       "      <th>test_accuracy</th>\n",
       "      <th>train_precision</th>\n",
       "      <th>test_precision</th>\n",
       "      <th>train_recall</th>\n",
       "      <th>test_recall</th>\n",
       "      <th>train_f1</th>\n",
       "      <th>test_f1</th>\n",
       "      <th>train_auc</th>\n",
       "      <th>test_auc</th>\n",
       "    </tr>\n",
       "  </thead>\n",
       "  <tbody>\n",
       "    <tr>\n",
       "      <th>0</th>\n",
       "      <td>Logistic</td>\n",
       "      <td>0.913702</td>\n",
       "      <td>0.869719</td>\n",
       "      <td>0.909927</td>\n",
       "      <td>0.859934</td>\n",
       "      <td>0.919023</td>\n",
       "      <td>0.884469</td>\n",
       "      <td>0.914453</td>\n",
       "      <td>0.872029</td>\n",
       "      <td>0.971883</td>\n",
       "      <td>0.942427</td>\n",
       "    </tr>\n",
       "    <tr>\n",
       "      <th>1</th>\n",
       "      <td>Random Forest</td>\n",
       "      <td>1.000000</td>\n",
       "      <td>0.845921</td>\n",
       "      <td>1.000000</td>\n",
       "      <td>0.844555</td>\n",
       "      <td>1.000000</td>\n",
       "      <td>0.849307</td>\n",
       "      <td>1.000000</td>\n",
       "      <td>0.846924</td>\n",
       "      <td>1.000000</td>\n",
       "      <td>0.919761</td>\n",
       "    </tr>\n",
       "    <tr>\n",
       "      <th>2</th>\n",
       "      <td>Naive Bayes</td>\n",
       "      <td>0.851859</td>\n",
       "      <td>0.848039</td>\n",
       "      <td>0.849465</td>\n",
       "      <td>0.841535</td>\n",
       "      <td>0.856633</td>\n",
       "      <td>0.858951</td>\n",
       "      <td>0.853034</td>\n",
       "      <td>0.850154</td>\n",
       "      <td>0.919021</td>\n",
       "      <td>0.917753</td>\n",
       "    </tr>\n",
       "    <tr>\n",
       "      <th>3</th>\n",
       "      <td>Logistic Tuned</td>\n",
       "      <td>0.897290</td>\n",
       "      <td>0.881517</td>\n",
       "      <td>0.888845</td>\n",
       "      <td>0.868840</td>\n",
       "      <td>0.909027</td>\n",
       "      <td>0.899739</td>\n",
       "      <td>0.898823</td>\n",
       "      <td>0.884019</td>\n",
       "      <td>0.960403</td>\n",
       "      <td>0.950899</td>\n",
       "    </tr>\n",
       "    <tr>\n",
       "      <th>4</th>\n",
       "      <td>RF Tuned</td>\n",
       "      <td>0.992865</td>\n",
       "      <td>0.861954</td>\n",
       "      <td>0.986900</td>\n",
       "      <td>0.845594</td>\n",
       "      <td>0.999046</td>\n",
       "      <td>0.886880</td>\n",
       "      <td>0.992935</td>\n",
       "      <td>0.865745</td>\n",
       "      <td>0.999908</td>\n",
       "      <td>0.939138</td>\n",
       "    </tr>\n",
       "    <tr>\n",
       "      <th>5</th>\n",
       "      <td>Naive Bayes Tuned</td>\n",
       "      <td>0.851859</td>\n",
       "      <td>0.848039</td>\n",
       "      <td>0.849465</td>\n",
       "      <td>0.841535</td>\n",
       "      <td>0.856633</td>\n",
       "      <td>0.858951</td>\n",
       "      <td>0.853034</td>\n",
       "      <td>0.850154</td>\n",
       "      <td>0.919017</td>\n",
       "      <td>0.917749</td>\n",
       "    </tr>\n",
       "  </tbody>\n",
       "</table>\n",
       "</div>"
      ],
      "text/plain": [
       "               model  train_accuracy  test_accuracy  train_precision  \\\n",
       "0           Logistic        0.913702       0.869719         0.909927   \n",
       "1      Random Forest        1.000000       0.845921         1.000000   \n",
       "2        Naive Bayes        0.851859       0.848039         0.849465   \n",
       "3     Logistic Tuned        0.897290       0.881517         0.888845   \n",
       "4           RF Tuned        0.992865       0.861954         0.986900   \n",
       "5  Naive Bayes Tuned        0.851859       0.848039         0.849465   \n",
       "\n",
       "   test_precision  train_recall  test_recall  train_f1   test_f1  train_auc  \\\n",
       "0        0.859934      0.919023     0.884469  0.914453  0.872029   0.971883   \n",
       "1        0.844555      1.000000     0.849307  1.000000  0.846924   1.000000   \n",
       "2        0.841535      0.856633     0.858951  0.853034  0.850154   0.919021   \n",
       "3        0.868840      0.909027     0.899739  0.898823  0.884019   0.960403   \n",
       "4        0.845594      0.999046     0.886880  0.992935  0.865745   0.999908   \n",
       "5        0.841535      0.856633     0.858951  0.853034  0.850154   0.919017   \n",
       "\n",
       "   test_auc  \n",
       "0  0.942427  \n",
       "1  0.919761  \n",
       "2  0.917753  \n",
       "3  0.950899  \n",
       "4  0.939138  \n",
       "5  0.917749  "
      ]
     },
     "execution_count": 27,
     "metadata": {},
     "output_type": "execute_result"
    }
   ],
   "source": [
    "model_list = {'Logistic':logit_cv, 'Random Forest':rf_cv, 'Naive Bayes':nb_cv, 'Logistic Tuned':logit_cv_bst, 'RF Tuned':rf_cv_bst, 'Naive Bayes Tuned':nb_cv_bst}\n",
    "tabulate_perf(model_list,x_train,y_train,x_test,y_test)"
   ]
  },
  {
   "cell_type": "code",
   "execution_count": 28,
   "metadata": {},
   "outputs": [
    {
     "data": {
      "image/png": "[encoded data removed]",
      "text/plain": [
       "<Figure size 800x600 with 1 Axes>"
      ]
     },
     "metadata": {},
     "output_type": "display_data"
    }
   ],
   "source": [
    "plot_roc(model_list,x_test,y_test)"
   ]
  },
  {
   "cell_type": "code",
   "execution_count": 29,
   "metadata": {},
   "outputs": [],
   "source": [
    "#dump trained vectorizers and models\n",
    "pickle.dump(cv, open('../models/cv.sav', 'wb'))\n",
    "pickle.dump(logit_cv_bst, open('../models/logit_cv_bst.sav', 'wb'))\n",
    "pickle.dump(rf_cv_bst, open('../models/rf_cv_bst.sav', 'wb'))\n",
    "pickle.dump(nb_cv_bst, open('../models/nb_cv_bst.sav', 'wb'))"
   ]
  },
  {
   "cell_type": "markdown",
   "metadata": {},
   "source": [
    "## 3. TF-IDF Vectorizer"
   ]
  },
  {
   "cell_type": "markdown",
   "metadata": {},
   "source": [
    "### 3.1. Fit models"
   ]
  },
  {
   "cell_type": "code",
   "execution_count": 30,
   "metadata": {},
   "outputs": [],
   "source": [
    "# TfidfVectorizer is equivalent to CountVectorizer followed by TfidfTransformer.\n",
    "tfidf = TfidfVectorizer(ngram_range=(1,2), min_df = 0.005)\n",
    "x_train = tfidf.fit_transform(x_train_orig)\n",
    "x_test = tfidf.transform(x_test_orig)"
   ]
  },
  {
   "cell_type": "code",
   "execution_count": 31,
   "metadata": {},
   "outputs": [
    {
     "name": "stdout",
     "output_type": "stream",
     "text": [
      "---Logistic Regression---\n",
      "[[4274  666]\n",
      " [ 498 4479]]\n",
      "              precision    recall  f1-score   support\n",
      "\n",
      "           0       0.90      0.87      0.88      4940\n",
      "           1       0.87      0.90      0.89      4977\n",
      "\n",
      "    accuracy                           0.88      9917\n",
      "   macro avg       0.88      0.88      0.88      9917\n",
      "weighted avg       0.88      0.88      0.88      9917\n",
      "\n",
      "---Random Forest---\n",
      "[[4206  734]\n",
      " [ 759 4218]]\n",
      "              precision    recall  f1-score   support\n",
      "\n",
      "           0       0.85      0.85      0.85      4940\n",
      "           1       0.85      0.85      0.85      4977\n",
      "\n",
      "    accuracy                           0.85      9917\n",
      "   macro avg       0.85      0.85      0.85      9917\n",
      "weighted avg       0.85      0.85      0.85      9917\n",
      "\n",
      "---Naive Bayes---\n",
      "[[4096  844]\n",
      " [ 598 4379]]\n",
      "              precision    recall  f1-score   support\n",
      "\n",
      "           0       0.87      0.83      0.85      4940\n",
      "           1       0.84      0.88      0.86      4977\n",
      "\n",
      "    accuracy                           0.85      9917\n",
      "   macro avg       0.86      0.85      0.85      9917\n",
      "weighted avg       0.86      0.85      0.85      9917\n",
      "\n"
     ]
    }
   ],
   "source": [
    "logit_tfidf = LogisticRegression(random_state=2022, max_iter=1000)\n",
    "logit_tfidf.fit(x_train,y_train)\n",
    "y_test_pred = logit_tfidf.predict(x_test)\n",
    "print('---Logistic Regression---')\n",
    "print(confusion_matrix(y_test,y_test_pred))\n",
    "print(classification_report(y_test,y_test_pred))\n",
    "\n",
    "rf_tfidf = RandomForestClassifier(random_state=2022)\n",
    "rf_tfidf.fit(x_train,y_train)\n",
    "y_test_pred = rf_tfidf.predict(x_test)\n",
    "print('---Random Forest---')\n",
    "print(confusion_matrix(y_test,y_test_pred))\n",
    "print(classification_report(y_test,y_test_pred))\n",
    "\n",
    "nb_tfidf = MultinomialNB()\n",
    "nb_tfidf.fit(x_train,y_train)\n",
    "y_test_pred = nb_tfidf.predict(x_test)\n",
    "print('---Naive Bayes---')\n",
    "print(confusion_matrix(y_test,y_test_pred))\n",
    "print(classification_report(y_test,y_test_pred))"
   ]
  },
  {
   "cell_type": "markdown",
   "metadata": {},
   "source": [
    "### 3.2. Hyperparameter Tuning"
   ]
  },
  {
   "cell_type": "code",
   "execution_count": 32,
   "metadata": {},
   "outputs": [
    {
     "name": "stdout",
     "output_type": "stream",
     "text": [
      "best score: 0.88388776816849\n",
      "best parameters:  {'C': 1, 'penalty': 'l2', 'solver': 'liblinear'}\n"
     ]
    }
   ],
   "source": [
    "logit_tfidf_tune = LogisticRegression(random_state=2022, max_iter=2000) #increase max_iter to converge\n",
    "logit_tfidf_gs = GridSearchCV(logit_tfidf_tune, param_logit, scoring='f1', cv=StratifiedKFold(n_splits=5), n_jobs= -1)\n",
    "logit_tfidf_gs.fit(x_train, y_train)\n",
    "logit_tfidf_bst = logit_tfidf_gs.best_estimator_\n",
    "print('best score:', logit_tfidf_gs.best_score_)  # score of best_estimator on the left out data \n",
    "print('best parameters: ', logit_tfidf_gs.best_params_)"
   ]
  },
  {
   "cell_type": "code",
   "execution_count": 33,
   "metadata": {},
   "outputs": [
    {
     "name": "stdout",
     "output_type": "stream",
     "text": [
      "best score: 0.8650874001024308\n",
      "best parameters:  {'n_estimators': 400, 'max_features': 'log2', 'max_depth': 50, 'criterion': 'entropy', 'bootstrap': False}\n"
     ]
    }
   ],
   "source": [
    "rf_tfidf_tune = RandomForestClassifier(random_state=2022)\n",
    "rf_tfidf_gs = RandomizedSearchCV(rf_tfidf_tune, param_rf, scoring='f1', cv=StratifiedKFold(n_splits=5), n_jobs= -1)\n",
    "rf_tfidf_gs.fit(x_train, y_train)\n",
    "rf_tfidf_bst = rf_tfidf_gs.best_estimator_\n",
    "print('best score:', rf_tfidf_gs.best_score_)\n",
    "print('best parameters: ', rf_tfidf_gs.best_params_)"
   ]
  },
  {
   "cell_type": "code",
   "execution_count": 34,
   "metadata": {},
   "outputs": [
    {
     "name": "stdout",
     "output_type": "stream",
     "text": [
      "best score: 0.8552450892336013\n",
      "best parameters:  {'alpha': 1.9000000000000001}\n"
     ]
    }
   ],
   "source": [
    "nb_tfidf_tune = MultinomialNB()\n",
    "nb_tfidf_gs = GridSearchCV(nb_tfidf_tune, param_nb, scoring='f1', cv=StratifiedKFold(n_splits=5), n_jobs= -1)\n",
    "nb_tfidf_gs.fit(x_train, y_train)\n",
    "nb_tfidf_bst = nb_tfidf_gs.best_estimator_\n",
    "print('best score:', nb_tfidf_gs.best_score_)\n",
    "print('best parameters: ', nb_tfidf_gs.best_params_)"
   ]
  },
  {
   "cell_type": "code",
   "execution_count": 35,
   "metadata": {},
   "outputs": [
    {
     "data": {
      "text/html": [
       "<div>\n",
       "<style scoped>\n",
       "    .dataframe tbody tr th:only-of-type {\n",
       "        vertical-align: middle;\n",
       "    }\n",
       "\n",
       "    .dataframe tbody tr th {\n",
       "        vertical-align: top;\n",
       "    }\n",
       "\n",
       "    .dataframe thead th {\n",
       "        text-align: right;\n",
       "    }\n",
       "</style>\n",
       "<table border=\"1\" class=\"dataframe\">\n",
       "  <thead>\n",
       "    <tr style=\"text-align: right;\">\n",
       "      <th></th>\n",
       "      <th>model</th>\n",
       "      <th>train_accuracy</th>\n",
       "      <th>test_accuracy</th>\n",
       "      <th>train_precision</th>\n",
       "      <th>test_precision</th>\n",
       "      <th>train_recall</th>\n",
       "      <th>test_recall</th>\n",
       "      <th>train_f1</th>\n",
       "      <th>test_f1</th>\n",
       "      <th>train_auc</th>\n",
       "      <th>test_auc</th>\n",
       "    </tr>\n",
       "  </thead>\n",
       "  <tbody>\n",
       "    <tr>\n",
       "      <th>0</th>\n",
       "      <td>Logistic</td>\n",
       "      <td>0.903441</td>\n",
       "      <td>0.882626</td>\n",
       "      <td>0.896904</td>\n",
       "      <td>0.870554</td>\n",
       "      <td>0.912493</td>\n",
       "      <td>0.899940</td>\n",
       "      <td>0.904631</td>\n",
       "      <td>0.885003</td>\n",
       "      <td>0.966026</td>\n",
       "      <td>0.954422</td>\n",
       "    </tr>\n",
       "    <tr>\n",
       "      <th>1</th>\n",
       "      <td>Random Forest</td>\n",
       "      <td>1.000000</td>\n",
       "      <td>0.849450</td>\n",
       "      <td>1.000000</td>\n",
       "      <td>0.851777</td>\n",
       "      <td>1.000000</td>\n",
       "      <td>0.847498</td>\n",
       "      <td>1.000000</td>\n",
       "      <td>0.849632</td>\n",
       "      <td>1.000000</td>\n",
       "      <td>0.925327</td>\n",
       "    </tr>\n",
       "    <tr>\n",
       "      <th>2</th>\n",
       "      <td>Naive Bayes</td>\n",
       "      <td>0.857885</td>\n",
       "      <td>0.854593</td>\n",
       "      <td>0.847033</td>\n",
       "      <td>0.838407</td>\n",
       "      <td>0.874818</td>\n",
       "      <td>0.879847</td>\n",
       "      <td>0.860701</td>\n",
       "      <td>0.858627</td>\n",
       "      <td>0.933601</td>\n",
       "      <td>0.930655</td>\n",
       "    </tr>\n",
       "    <tr>\n",
       "      <th>3</th>\n",
       "      <td>Logistic Tuned</td>\n",
       "      <td>0.903416</td>\n",
       "      <td>0.882525</td>\n",
       "      <td>0.896860</td>\n",
       "      <td>0.870385</td>\n",
       "      <td>0.912493</td>\n",
       "      <td>0.899940</td>\n",
       "      <td>0.904609</td>\n",
       "      <td>0.884916</td>\n",
       "      <td>0.966026</td>\n",
       "      <td>0.954422</td>\n",
       "    </tr>\n",
       "    <tr>\n",
       "      <th>4</th>\n",
       "      <td>RF Tuned</td>\n",
       "      <td>0.994428</td>\n",
       "      <td>0.862358</td>\n",
       "      <td>0.989069</td>\n",
       "      <td>0.839857</td>\n",
       "      <td>0.999950</td>\n",
       "      <td>0.896725</td>\n",
       "      <td>0.994480</td>\n",
       "      <td>0.867360</td>\n",
       "      <td>0.999989</td>\n",
       "      <td>0.939925</td>\n",
       "    </tr>\n",
       "    <tr>\n",
       "      <th>5</th>\n",
       "      <td>Naive Bayes Tuned</td>\n",
       "      <td>0.857734</td>\n",
       "      <td>0.854492</td>\n",
       "      <td>0.847090</td>\n",
       "      <td>0.838376</td>\n",
       "      <td>0.874366</td>\n",
       "      <td>0.879646</td>\n",
       "      <td>0.860512</td>\n",
       "      <td>0.858516</td>\n",
       "      <td>0.933565</td>\n",
       "      <td>0.930649</td>\n",
       "    </tr>\n",
       "  </tbody>\n",
       "</table>\n",
       "</div>"
      ],
      "text/plain": [
       "               model  train_accuracy  test_accuracy  train_precision  \\\n",
       "0           Logistic        0.903441       0.882626         0.896904   \n",
       "1      Random Forest        1.000000       0.849450         1.000000   \n",
       "2        Naive Bayes        0.857885       0.854593         0.847033   \n",
       "3     Logistic Tuned        0.903416       0.882525         0.896860   \n",
       "4           RF Tuned        0.994428       0.862358         0.989069   \n",
       "5  Naive Bayes Tuned        0.857734       0.854492         0.847090   \n",
       "\n",
       "   test_precision  train_recall  test_recall  train_f1   test_f1  train_auc  \\\n",
       "0        0.870554      0.912493     0.899940  0.904631  0.885003   0.966026   \n",
       "1        0.851777      1.000000     0.847498  1.000000  0.849632   1.000000   \n",
       "2        0.838407      0.874818     0.879847  0.860701  0.858627   0.933601   \n",
       "3        0.870385      0.912493     0.899940  0.904609  0.884916   0.966026   \n",
       "4        0.839857      0.999950     0.896725  0.994480  0.867360   0.999989   \n",
       "5        0.838376      0.874366     0.879646  0.860512  0.858516   0.933565   \n",
       "\n",
       "   test_auc  \n",
       "0  0.954422  \n",
       "1  0.925327  \n",
       "2  0.930655  \n",
       "3  0.954422  \n",
       "4  0.939925  \n",
       "5  0.930649  "
      ]
     },
     "execution_count": 35,
     "metadata": {},
     "output_type": "execute_result"
    }
   ],
   "source": [
    "model_list = {'Logistic':logit_tfidf, 'Random Forest':rf_tfidf, 'Naive Bayes':nb_tfidf, 'Logistic Tuned':logit_tfidf_bst, \n",
    "        'RF Tuned':rf_tfidf_bst, 'Naive Bayes Tuned':nb_tfidf_bst}\n",
    "tabulate_perf(model_list,x_train,y_train,x_test,y_test)"
   ]
  },
  {
   "cell_type": "code",
   "execution_count": 36,
   "metadata": {},
   "outputs": [
    {
     "data": {
      "image/png": "[encoded data removed]",
      "text/plain": [
       "<Figure size 800x600 with 1 Axes>"
      ]
     },
     "metadata": {},
     "output_type": "display_data"
    }
   ],
   "source": [
    "plot_roc(model_list,x_test,y_test)"
   ]
  },
  {
   "cell_type": "code",
   "execution_count": 37,
   "metadata": {},
   "outputs": [],
   "source": [
    "#dump trained vectorizers and models\n",
    "pickle.dump(tfidf, open('../models/tfidf.sav', 'wb'))\n",
    "pickle.dump(logit_tfidf_bst, open('../models/logit_tfidf_bst.sav', 'wb'))\n",
    "pickle.dump(rf_tfidf_bst, open('../models/rf_tfidf_bst.sav', 'wb'))\n",
    "pickle.dump(nb_tfidf_bst, open('../models/nb_tfidf_bst.sav', 'wb'))"
   ]
  },
  {
   "cell_type": "markdown",
   "metadata": {},
   "source": [
    "## 4. Feature importance"
   ]
  },
  {
   "cell_type": "code",
   "execution_count": 38,
   "metadata": {},
   "outputs": [
    {
     "name": "stdout",
     "output_type": "stream",
     "text": [
      "3032\n",
      "3032\n"
     ]
    }
   ],
   "source": [
    "print(len(cv.vocabulary_))\n",
    "print(len(tfidf.vocabulary_))"
   ]
  },
  {
   "cell_type": "code",
   "execution_count": 39,
   "metadata": {},
   "outputs": [],
   "source": [
    "def get_top_n_gram(vec,data,n=None):\n",
    "    sum_words = data.sum(axis=0) \n",
    "    words_freq = [(word, sum_words[0, idx]) for word, idx in vec.vocabulary_.items()]\n",
    "    words_freq = sorted(words_freq, key = lambda x: x[1], reverse=True)\n",
    "    return words_freq[:n]\n",
    "    \n",
    "x_train_cv = cv.fit_transform(x_train_orig)\n",
    "x_train_tfidf = tfidf.fit_transform(x_train_orig)"
   ]
  },
  {
   "cell_type": "code",
   "execution_count": 40,
   "metadata": {},
   "outputs": [
    {
     "data": {
      "text/plain": [
       "[('one', 42705),\n",
       " ('like', 34895),\n",
       " ('time', 24292),\n",
       " ('make', 23482),\n",
       " ('good', 23346),\n",
       " ('charact', 22148),\n",
       " ('get', 22104),\n",
       " ('see', 21838),\n",
       " ('watch', 21826),\n",
       " ('even', 19892)]"
      ]
     },
     "execution_count": 40,
     "metadata": {},
     "output_type": "execute_result"
    }
   ],
   "source": [
    "get_top_n_gram(cv,x_train_cv,10)"
   ]
  },
  {
   "cell_type": "code",
   "execution_count": 41,
   "metadata": {},
   "outputs": [
    {
     "data": {
      "text/plain": [
       "[('one', 1401.3285132699561),\n",
       " ('like', 1264.6705805749523),\n",
       " ('good', 1040.6815202491266),\n",
       " ('watch', 1032.4333192635863),\n",
       " ('time', 993.564483886688),\n",
       " ('see', 956.9896213395212),\n",
       " ('charact', 956.78163967184),\n",
       " ('make', 954.0478924153625),\n",
       " ('stori', 921.6241377406063),\n",
       " ('get', 915.1002177874492)]"
      ]
     },
     "execution_count": 41,
     "metadata": {},
     "output_type": "execute_result"
    }
   ],
   "source": [
    "get_top_n_gram(tfidf,x_train_tfidf,10)"
   ]
  },
  {
   "cell_type": "code",
   "execution_count": 42,
   "metadata": {},
   "outputs": [
    {
     "data": {
      "text/html": [
       "<div>\n",
       "<style scoped>\n",
       "    .dataframe tbody tr th:only-of-type {\n",
       "        vertical-align: middle;\n",
       "    }\n",
       "\n",
       "    .dataframe tbody tr th {\n",
       "        vertical-align: top;\n",
       "    }\n",
       "\n",
       "    .dataframe thead th {\n",
       "        text-align: right;\n",
       "    }\n",
       "</style>\n",
       "<table border=\"1\" class=\"dataframe\">\n",
       "  <thead>\n",
       "    <tr style=\"text-align: right;\">\n",
       "      <th></th>\n",
       "      <th>coef</th>\n",
       "      <th>feature</th>\n",
       "    </tr>\n",
       "  </thead>\n",
       "  <tbody>\n",
       "    <tr>\n",
       "      <th>2913</th>\n",
       "      <td>1.332083</td>\n",
       "      <td>well worth</td>\n",
       "    </tr>\n",
       "    <tr>\n",
       "      <th>2972</th>\n",
       "      <td>-1.259894</td>\n",
       "      <td>worst</td>\n",
       "    </tr>\n",
       "    <tr>\n",
       "      <th>2885</th>\n",
       "      <td>-1.221901</td>\n",
       "      <td>wast</td>\n",
       "    </tr>\n",
       "    <tr>\n",
       "      <th>186</th>\n",
       "      <td>-1.206357</td>\n",
       "      <td>aw</td>\n",
       "    </tr>\n",
       "    <tr>\n",
       "      <th>1249</th>\n",
       "      <td>1.165154</td>\n",
       "      <td>highli recommend</td>\n",
       "    </tr>\n",
       "    <tr>\n",
       "      <th>1990</th>\n",
       "      <td>-1.072530</td>\n",
       "      <td>poorli</td>\n",
       "    </tr>\n",
       "    <tr>\n",
       "      <th>2803</th>\n",
       "      <td>-1.052912</td>\n",
       "      <td>unfunni</td>\n",
       "    </tr>\n",
       "    <tr>\n",
       "      <th>1034</th>\n",
       "      <td>-1.013933</td>\n",
       "      <td>forgett</td>\n",
       "    </tr>\n",
       "    <tr>\n",
       "      <th>2149</th>\n",
       "      <td>0.999568</td>\n",
       "      <td>refresh</td>\n",
       "    </tr>\n",
       "    <tr>\n",
       "      <th>1659</th>\n",
       "      <td>-0.995251</td>\n",
       "      <td>mediocr</td>\n",
       "    </tr>\n",
       "    <tr>\n",
       "      <th>899</th>\n",
       "      <td>0.956670</td>\n",
       "      <td>excel</td>\n",
       "    </tr>\n",
       "    <tr>\n",
       "      <th>1697</th>\n",
       "      <td>-0.948569</td>\n",
       "      <td>miscast</td>\n",
       "    </tr>\n",
       "    <tr>\n",
       "      <th>1488</th>\n",
       "      <td>-0.946490</td>\n",
       "      <td>laughabl</td>\n",
       "    </tr>\n",
       "    <tr>\n",
       "      <th>786</th>\n",
       "      <td>-0.932565</td>\n",
       "      <td>dull</td>\n",
       "    </tr>\n",
       "    <tr>\n",
       "      <th>1741</th>\n",
       "      <td>0.922124</td>\n",
       "      <td>must see</td>\n",
       "    </tr>\n",
       "    <tr>\n",
       "      <th>2579</th>\n",
       "      <td>0.875019</td>\n",
       "      <td>superb</td>\n",
       "    </tr>\n",
       "    <tr>\n",
       "      <th>1844</th>\n",
       "      <td>0.824730</td>\n",
       "      <td>one best</td>\n",
       "    </tr>\n",
       "    <tr>\n",
       "      <th>1684</th>\n",
       "      <td>-0.822479</td>\n",
       "      <td>mildli</td>\n",
       "    </tr>\n",
       "    <tr>\n",
       "      <th>822</th>\n",
       "      <td>-0.819789</td>\n",
       "      <td>embarrass</td>\n",
       "    </tr>\n",
       "    <tr>\n",
       "      <th>292</th>\n",
       "      <td>-0.814215</td>\n",
       "      <td>bore</td>\n",
       "    </tr>\n",
       "  </tbody>\n",
       "</table>\n",
       "</div>"
      ],
      "text/plain": [
       "          coef           feature\n",
       "2913  1.332083        well worth\n",
       "2972 -1.259894             worst\n",
       "2885 -1.221901              wast\n",
       "186  -1.206357                aw\n",
       "1249  1.165154  highli recommend\n",
       "1990 -1.072530            poorli\n",
       "2803 -1.052912           unfunni\n",
       "1034 -1.013933           forgett\n",
       "2149  0.999568           refresh\n",
       "1659 -0.995251           mediocr\n",
       "899   0.956670             excel\n",
       "1697 -0.948569           miscast\n",
       "1488 -0.946490          laughabl\n",
       "786  -0.932565              dull\n",
       "1741  0.922124          must see\n",
       "2579  0.875019            superb\n",
       "1844  0.824730          one best\n",
       "1684 -0.822479            mildli\n",
       "822  -0.819789         embarrass\n",
       "292  -0.814215              bore"
      ]
     },
     "execution_count": 42,
     "metadata": {},
     "output_type": "execute_result"
    }
   ],
   "source": [
    "logit_cv_feature=pd.DataFrame({'coef':logit_cv_bst.coef_[0], 'feature':cv.get_feature_names_out()})\n",
    "logit_cv_feature.sort_values('coef',key=abs, ascending=False)[:20]"
   ]
  },
  {
   "cell_type": "code",
   "execution_count": 43,
   "metadata": {},
   "outputs": [
    {
     "data": {
      "text/html": [
       "<div>\n",
       "<style scoped>\n",
       "    .dataframe tbody tr th:only-of-type {\n",
       "        vertical-align: middle;\n",
       "    }\n",
       "\n",
       "    .dataframe tbody tr th {\n",
       "        vertical-align: top;\n",
       "    }\n",
       "\n",
       "    .dataframe thead th {\n",
       "        text-align: right;\n",
       "    }\n",
       "</style>\n",
       "<table border=\"1\" class=\"dataframe\">\n",
       "  <thead>\n",
       "    <tr style=\"text-align: right;\">\n",
       "      <th></th>\n",
       "      <th>coef</th>\n",
       "      <th>feature</th>\n",
       "    </tr>\n",
       "  </thead>\n",
       "  <tbody>\n",
       "    <tr>\n",
       "      <th>2972</th>\n",
       "      <td>-8.897363</td>\n",
       "      <td>worst</td>\n",
       "    </tr>\n",
       "    <tr>\n",
       "      <th>2885</th>\n",
       "      <td>-7.830962</td>\n",
       "      <td>wast</td>\n",
       "    </tr>\n",
       "    <tr>\n",
       "      <th>186</th>\n",
       "      <td>-7.583673</td>\n",
       "      <td>aw</td>\n",
       "    </tr>\n",
       "    <tr>\n",
       "      <th>196</th>\n",
       "      <td>-7.202862</td>\n",
       "      <td>bad</td>\n",
       "    </tr>\n",
       "    <tr>\n",
       "      <th>899</th>\n",
       "      <td>7.176605</td>\n",
       "      <td>excel</td>\n",
       "    </tr>\n",
       "    <tr>\n",
       "      <th>292</th>\n",
       "      <td>-6.903600</td>\n",
       "      <td>bore</td>\n",
       "    </tr>\n",
       "    <tr>\n",
       "      <th>1167</th>\n",
       "      <td>6.714627</td>\n",
       "      <td>great</td>\n",
       "    </tr>\n",
       "    <tr>\n",
       "      <th>710</th>\n",
       "      <td>-5.735074</td>\n",
       "      <td>disappoint</td>\n",
       "    </tr>\n",
       "    <tr>\n",
       "      <th>2645</th>\n",
       "      <td>-5.367386</td>\n",
       "      <td>terribl</td>\n",
       "    </tr>\n",
       "    <tr>\n",
       "      <th>1937</th>\n",
       "      <td>5.294091</td>\n",
       "      <td>perfect</td>\n",
       "    </tr>\n",
       "    <tr>\n",
       "      <th>1801</th>\n",
       "      <td>-5.164314</td>\n",
       "      <td>noth</td>\n",
       "    </tr>\n",
       "    <tr>\n",
       "      <th>1989</th>\n",
       "      <td>-5.111430</td>\n",
       "      <td>poor</td>\n",
       "    </tr>\n",
       "    <tr>\n",
       "      <th>1273</th>\n",
       "      <td>-4.922591</td>\n",
       "      <td>horribl</td>\n",
       "    </tr>\n",
       "    <tr>\n",
       "      <th>786</th>\n",
       "      <td>-4.902084</td>\n",
       "      <td>dull</td>\n",
       "    </tr>\n",
       "    <tr>\n",
       "      <th>1990</th>\n",
       "      <td>-4.704931</td>\n",
       "      <td>poorli</td>\n",
       "    </tr>\n",
       "    <tr>\n",
       "      <th>840</th>\n",
       "      <td>4.680616</td>\n",
       "      <td>enjoy</td>\n",
       "    </tr>\n",
       "    <tr>\n",
       "      <th>2971</th>\n",
       "      <td>-4.611950</td>\n",
       "      <td>wors</td>\n",
       "    </tr>\n",
       "    <tr>\n",
       "      <th>934</th>\n",
       "      <td>-4.528009</td>\n",
       "      <td>fail</td>\n",
       "    </tr>\n",
       "    <tr>\n",
       "      <th>965</th>\n",
       "      <td>4.505310</td>\n",
       "      <td>favorit</td>\n",
       "    </tr>\n",
       "    <tr>\n",
       "      <th>1575</th>\n",
       "      <td>4.487227</td>\n",
       "      <td>love</td>\n",
       "    </tr>\n",
       "  </tbody>\n",
       "</table>\n",
       "</div>"
      ],
      "text/plain": [
       "          coef     feature\n",
       "2972 -8.897363       worst\n",
       "2885 -7.830962        wast\n",
       "186  -7.583673          aw\n",
       "196  -7.202862         bad\n",
       "899   7.176605       excel\n",
       "292  -6.903600        bore\n",
       "1167  6.714627       great\n",
       "710  -5.735074  disappoint\n",
       "2645 -5.367386     terribl\n",
       "1937  5.294091     perfect\n",
       "1801 -5.164314        noth\n",
       "1989 -5.111430        poor\n",
       "1273 -4.922591     horribl\n",
       "786  -4.902084        dull\n",
       "1990 -4.704931      poorli\n",
       "840   4.680616       enjoy\n",
       "2971 -4.611950        wors\n",
       "934  -4.528009        fail\n",
       "965   4.505310     favorit\n",
       "1575  4.487227        love"
      ]
     },
     "execution_count": 43,
     "metadata": {},
     "output_type": "execute_result"
    }
   ],
   "source": [
    "logit_tfidf_feature=pd.DataFrame({'coef':logit_tfidf_bst.coef_[0], 'feature':tfidf.get_feature_names_out()})\n",
    "logit_tfidf_feature.sort_values('coef',key=abs, ascending=False)[:20]"
   ]
  },
  {
   "cell_type": "code",
   "execution_count": 44,
   "metadata": {},
   "outputs": [
    {
     "data": {
      "text/plain": [
       "Text(0.5, 0, 'Random Forest Feature Importance')"
      ]
     },
     "execution_count": 44,
     "metadata": {},
     "output_type": "execute_result"
    },
    {
     "data": {
      "image/png": "[encoded data removed]",
      "text/plain": [
       "<Figure size 640x480 with 1 Axes>"
      ]
     },
     "metadata": {},
     "output_type": "display_data"
    }
   ],
   "source": [
    "sorted_idx = rf_cv_bst.feature_importances_.argsort()[-10:]\n",
    "plt.barh(cv.get_feature_names_out()[sorted_idx], rf_cv_bst.feature_importances_[sorted_idx])\n",
    "plt.xlabel(\"Random Forest Feature Importance\")"
   ]
  },
  {
   "cell_type": "code",
   "execution_count": 45,
   "metadata": {},
   "outputs": [
    {
     "data": {
      "text/plain": [
       "Text(0.5, 0, 'Random Forest Feature Importance')"
      ]
     },
     "execution_count": 45,
     "metadata": {},
     "output_type": "execute_result"
    },
    {
     "data": {
      "image/png": "[encoded data removed]",
      "text/plain": [
       "<Figure size 640x480 with 1 Axes>"
      ]
     },
     "metadata": {},
     "output_type": "display_data"
    }
   ],
   "source": [
    "sorted_idx = rf_tfidf_bst.feature_importances_.argsort()[-10:]\n",
    "plt.barh(tfidf.get_feature_names_out()[sorted_idx], rf_tfidf_bst.feature_importances_[sorted_idx])\n",
    "plt.xlabel(\"Random Forest Feature Importance\")"
   ]
  },
  {
   "cell_type": "code",
   "execution_count": 46,
   "metadata": {},
   "outputs": [
    {
     "name": "stdout",
     "output_type": "stream",
     "text": [
      "Top 10 most predictive tokens of negative reviews \n",
      " ['worst ive' 'avoid cost' 'worst ever' 'one worst' 'piec crap'\n",
      " 'wast money' 'dont wast' 'time money' 'bad bad' 'wast time']\n",
      "Top 10 most predictive tokens of positive reviews \n",
      " ['well worth' 'highli recommend' 'underr' 'one best' 'must see'\n",
      " 'great job' 'unforgett' 'superb' 'brilliantli' 'definit worth']\n"
     ]
    }
   ],
   "source": [
    "# calculate Count(xi| class)\n",
    "count_feature_neg = nb_cv_bst.feature_count_[0]\n",
    "count_feature_pos = nb_cv_bst.feature_count_[1]\n",
    "\n",
    "# calculate Count(xi)\n",
    "count_feature = [sum(x) for x in zip(nb_cv_bst.feature_count_[0], nb_cv_bst.feature_count_[1])]\n",
    "\n",
    "# calculate Count(xi| class)) / Count(xi)\n",
    "predictive_neg = count_feature_neg/count_feature\n",
    "predictive_pos = count_feature_pos/count_feature\n",
    "\n",
    "# get the rank of predictiveness, if same predictiveness then sort by count in the class\n",
    "rank_neg = np.lexsort((count_feature_neg,predictive_neg))[::-1] # sort by predictiveness and then by count in negative reviews\n",
    "rank_pos = np.lexsort((count_feature_pos,predictive_pos))[::-1] # sort by predictiveness and then by count in positive reviews\n",
    "\n",
    "# print top 10 tokens based on sorted value of P(xi| class) / P(xi)\n",
    "print('Top 10 most predictive tokens of negative reviews \\n',cv.get_feature_names_out()[rank_neg[:10]])\n",
    "print('Top 10 most predictive tokens of positive reviews \\n',cv.get_feature_names_out()[rank_pos[:10]])"
   ]
  },
  {
   "cell_type": "code",
   "execution_count": 47,
   "metadata": {},
   "outputs": [
    {
     "name": "stdout",
     "output_type": "stream",
     "text": [
      "Top 10 most predictive tokens of negative reviews \n",
      " ['worst ive' 'avoid cost' 'worst ever' 'wast money' 'one worst'\n",
      " 'dont wast' 'piec crap' 'bad bad' 'wast time' 'time money']\n",
      "Top 10 most predictive tokens of positive reviews \n",
      " ['well worth' 'highli recommend' 'underr' 'unforgett' 'must see'\n",
      " 'great job' 'one best' 'superb' 'brilliantli' 'refresh']\n"
     ]
    }
   ],
   "source": [
    "# calculate Count(xi| class)\n",
    "count_feature_neg = nb_tfidf_bst.feature_count_[0]\n",
    "count_feature_pos = nb_tfidf_bst.feature_count_[1]\n",
    "\n",
    "# calculate Count(xi)\n",
    "count_feature = [sum(x) for x in zip(nb_tfidf_bst.feature_count_[0], nb_tfidf_bst.feature_count_[1])]\n",
    "\n",
    "# calculate Count(xi| class)) / Count(xi)\n",
    "predictive_neg = count_feature_neg/count_feature\n",
    "predictive_pos = count_feature_pos/count_feature\n",
    "\n",
    "# get the rank of predictiveness, if same predictiveness then sort by count in the class\n",
    "rank_neg = np.lexsort((count_feature_neg,predictive_neg))[::-1] # sort by predictiveness and then by count in negative reviews\n",
    "rank_pos = np.lexsort((count_feature_pos,predictive_pos))[::-1] # sort by predictiveness and then by count in positive reviews\n",
    "\n",
    "# print top 10 tokens based on sorted value of P(xi| class) / P(xi)\n",
    "print('Top 10 most predictive tokens of negative reviews \\n',tfidf.get_feature_names_out()[rank_neg[:10]])\n",
    "print('Top 10 most predictive tokens of positive reviews \\n',tfidf.get_feature_names_out()[rank_pos[:10]])"
   ]
  },
  {
   "cell_type": "markdown",
   "metadata": {},
   "source": [
    "## 5. Error Analysis on final model "
   ]
  },
  {
   "cell_type": "code",
   "execution_count": 48,
   "metadata": {},
   "outputs": [],
   "source": [
    "def error_check(name, model):\n",
    "    print('-----', name, '-----')\n",
    "    # get predicted probability of positive\n",
    "    pred_proba = pd.DataFrame({'pred_proba_pos':model.predict_proba(x_test)[:,1],'pred_sentiment':model.predict(x_test),\n",
    "                'class':y_test,'review':df.loc[y_test.index,'review'], 'cleaned':x_test_orig,'length':df.loc[y_test.index,'length']})\n",
    "    # get FP cases (predicted as positve but actually negative) and sort the predicted positive probability in descending order\n",
    "    FP = pred_proba[(pred_proba['pred_sentiment']==1) & (pred_proba['class']==0)].sort_values('pred_proba_pos', ascending=False)\n",
    "    print('FP cases')\n",
    "    display(FP[:3])\n",
    "    # get FN cases (predicted as negative but actually positive) and sort the predicted positive probability in ascending order\n",
    "    FN = pred_proba[(pred_proba['pred_sentiment']==0) & (pred_proba['class']==1)].sort_values('pred_proba_pos')\n",
    "    print('FN cases')\n",
    "    display(FN[:3])\n",
    "\n",
    "    return FP[:3], FN[:3]"
   ]
  },
  {
   "cell_type": "code",
   "execution_count": 49,
   "metadata": {},
   "outputs": [],
   "source": [
    "def error_analysis(error_df):\n",
    "    for i in range(len(error_df)):    \n",
    "        ea_df = pd.DataFrame({'feature':error_df['cleaned'].iloc[i].split()}).explode('feature')\n",
    "        ea_df = pd.merge(ea_df, logit_tfidf_feature, \"inner\", on = 'feature')\n",
    "        ea_df.sort_values('coef',key=abs, ascending=False, inplace=True)\n",
    "        print('--------------------------------------')\n",
    "        print(ea_df.head(20))"
   ]
  },
  {
   "cell_type": "code",
   "execution_count": 50,
   "metadata": {},
   "outputs": [
    {
     "name": "stdout",
     "output_type": "stream",
     "text": [
      "----- Logistic TFIDF Tuned -----\n",
      "FP cases\n"
     ]
    },
    {
     "data": {
      "text/html": [
       "<div>\n",
       "<style scoped>\n",
       "    .dataframe tbody tr th:only-of-type {\n",
       "        vertical-align: middle;\n",
       "    }\n",
       "\n",
       "    .dataframe tbody tr th {\n",
       "        vertical-align: top;\n",
       "    }\n",
       "\n",
       "    .dataframe thead th {\n",
       "        text-align: right;\n",
       "    }\n",
       "</style>\n",
       "<table border=\"1\" class=\"dataframe\">\n",
       "  <thead>\n",
       "    <tr style=\"text-align: right;\">\n",
       "      <th></th>\n",
       "      <th>pred_proba_pos</th>\n",
       "      <th>pred_sentiment</th>\n",
       "      <th>class</th>\n",
       "      <th>review</th>\n",
       "      <th>cleaned</th>\n",
       "      <th>length</th>\n",
       "    </tr>\n",
       "  </thead>\n",
       "  <tbody>\n",
       "    <tr>\n",
       "      <th>1216</th>\n",
       "      <td>0.992903</td>\n",
       "      <td>1</td>\n",
       "      <td>0</td>\n",
       "      <td>Mickey Rourke hunts Diane Lane in Elmore Leonard's Killshot It is not like Mickey Rourke ever really disappeared. He has had a steady string of appearances before he burst back on the scene. He was memorable in: Domino, Sin City, Man on Fire, Once Upon a Time in Mexico, and Get Carter. But in his powerful dramatic performance in The Wrestler (2008), we see a full blown presentation of the character only hinted at in Get Carter. Whenever we get to know him, Rourke remains a cool, but sleazy, muscle bound slim ball.  This is an Elmore Leonard story, and production. Leonard wrote such notable movies as taunt western thriller 3:10 to Yuma, Be Cool, Jackie Brown, Get Shorty, 52 Pick-Up, and Joe Kidd. This means that we get tough guys, some good, some not so good.  It also means we get tight, realistic plots with characters doing what is best for them in each situation, weaving complications into violent conclusions. Killshot is no different. Tough, slim ball killer Rourke stalks unhappily married witness Lane. Think History of Violence meets No Country for Old Men. It is not as intense, bloody or gory as those two, but it is almost as good. If you like those two, including David Croneberg's equally wonderful Eastern Promises, you will like Killshot also.  Director John Madden has not done a lot of movies. His last few were enjoyable, if not successful: Proof, Captain Corelli's Mandolin and Shakespeare in Love.  Diana Lane hasn't had a powerful movie role since she and Richard Gere gave incredible performances in Unfaithful. Lately she is charming and appealing in romantic stories such as Nights in Rodanthe, Must Love Dogs, and Under the Tuscan Sun. Here she is right on mark, balancing her sexy appeal with reserved tension.  This is a small part for Rosario Dawson. Yet Dawson does a good job with it. You see a lot more of Lane, including an underwear scene to rival Sigourney Weaver in Aliens and Nicole Kidman in Eyes Wide Shut.  While you are in the crime drama section, also pick up Kiss, Kiss, Bang, Bang, and Gone Baby Gone, and Before the Devil Knows Your Dead. The last has wonderful performances by Phillip Seymour Hoffman, Ethan Hawke, Marisa Tomei and Albert Finney.  Killshot flopped at the box office. More is our luck. It is certainly worth a 3-4 dollar rental, if you like this genre. 6/20/2009</td>\n",
       "      <td>mickey rourk hunt dian lane elmor leonard killshot like mickey rourk ever realli disappear steadi string appear burst back scene memor domino sin citi man fire upon time mexico get carter power dramat perform wrestler see full blown present charact hint get carter whenev get know rourk remain cool sleazi muscl bound slim ball elmor leonard stori product leonard wrote notabl taunt western thriller yuma cool jacki brown get shorti pickup joe kidd mean get tough guy good good also mean get tight realist plot charact best situat weav complic violent conclus killshot differ tough slim ball killer rourk stalk unhappili marri wit lane think histori violenc meet countri old men intens bloodi gori two almost good like two includ david croneberg equal wonder eastern promis like killshot also director john madden done lot last enjoy success proof captain corelli mandolin shakespear love diana lane hasnt power role sinc richard gere gave incred perform unfaith late charm appeal romant stori night rodanth must love dog tuscan sun right mark balanc sexi appeal reserv tension small part rosario dawson yet dawson good job see lot lane includ underwear scene rival sigourney weaver alien nicol kidman eye wide shut crime drama section also pick kiss kiss bang bang gone babi gone devil know dead last wonder perform phillip seymour hoffman ethan hawk marisa tomei albert finney killshot flop box offic luck certainli worth dollar rental like genr</td>\n",
       "      <td>1447</td>\n",
       "    </tr>\n",
       "    <tr>\n",
       "      <th>12073</th>\n",
       "      <td>0.983536</td>\n",
       "      <td>1</td>\n",
       "      <td>0</td>\n",
       "      <td>I went to see this 3 nights ago here in Cork, Ireland. It was the world premiere of it, in the tiny cinema in the Triskel Arts Centre as part of the Cork Film Festival.  I found \"Strange Fruit\" to be an excellent movie. It is a bit rough around the edges, but for a low-budget movie that is to be expected! In general the acting (particularly from the main lead Kent Faulcon) is wonderful, the cinematography and direction excellent, and the script hugely entertaining and thought-provoking, with some nice set-ups and witty dialogue.  The ending was a bit sudden, with no conclusion given to characters and events once the finale came to its gripping end ... but perhaps that's what the filmmakers were going for? It certainly did make the movie more unsettling. I did like the fact that the main character never came to terms with his mother on screen: it leaves you wondering whether or not he ever will, as in real-life sometimes these things are never settled. This was a good choice, to leave it unresolved rather than sentimentally wrapping it up!  Taut and suspenseful throughout, \"Strange Fruit\" is a hugely ambitious debut and I have high hopes for what the writer/director Kyle Schickner will unleash next. He - and his colleagues - are a talent worth watching.  I hope \"Strange Fruit\" gets a wider release soon, as more people deserve to see this movie, an above-average thriller with some original and insightful twists on homophobia and racism in America's Deep South.  Highly Recommended: 7/10</td>\n",
       "      <td>went see night ago cork ireland world premier tini cinema triskel art centr part cork festiv found strang fruit excel bit rough around edg lowbudget expect gener act particularli main lead kent faulcon wonder cinematographi direct excel script huge entertain thoughtprovok nice setup witti dialogu end bit sudden conclus given charact event final came grip end perhap that maker go certainli make unsettl like fact main charact never came term mother screen leav wonder whether ever reallif sometim thing never settl good choic leav unresolv rather sentiment wrap taut suspens throughout strang fruit huge ambiti debut high hope writerdirector kyle schickner unleash next colleagu talent worth watch hope strang fruit get wider releas soon peopl deserv see aboveaverag thriller origin insight twist homophobia racism america deep south highli recommend</td>\n",
       "      <td>852</td>\n",
       "    </tr>\n",
       "    <tr>\n",
       "      <th>15106</th>\n",
       "      <td>0.979145</td>\n",
       "      <td>1</td>\n",
       "      <td>0</td>\n",
       "      <td>One of Frances Farmer's earliest movies; at 22, she is absolutely beautiful. Bing Crosby is in great voice, but the songs are not his best. Martha Raye and Bob Burns are interesting, but their comedy, probably great in its time, is really corny today. Roy Rogers also appears- in a singing role. In my view only worth watching if you are a Frances Farmer fan, and possibly a Bing Crosby fan.</td>\n",
       "      <td>one franc farmer earliest absolut beauti bing crosbi great voic song best martha ray bob burn interest comedi probabl great time realli corni today roy roger also appear sing role view worth watch franc farmer fan possibl bing crosbi fan</td>\n",
       "      <td>237</td>\n",
       "    </tr>\n",
       "  </tbody>\n",
       "</table>\n",
       "</div>"
      ],
      "text/plain": [
       "       pred_proba_pos  pred_sentiment  class  \\\n",
       "1216         0.992903               1      0   \n",
       "12073        0.983536               1      0   \n",
       "15106        0.979145               1      0   \n",
       "\n",
       "                                                                                                                                                                                                                                                                                                                                                                                                                                                                                                                                                                                                                                                                                                                                                                                                                                                                                                                                                                                                                                                                                                                                                                                                                                                                                                                                                                                                                                                                                                                                                                                                                                                                                                                                                                                                                                                                                                                                                                                                                                                                                                                                                                                                                                                                                                                                                                                                                               review  \\\n",
       "1216   Mickey Rourke hunts Diane Lane in Elmore Leonard's Killshot It is not like Mickey Rourke ever really disappeared. He has had a steady string of appearances before he burst back on the scene. He was memorable in: Domino, Sin City, Man on Fire, Once Upon a Time in Mexico, and Get Carter. But in his powerful dramatic performance in The Wrestler (2008), we see a full blown presentation of the character only hinted at in Get Carter. Whenever we get to know him, Rourke remains a cool, but sleazy, muscle bound slim ball.  This is an Elmore Leonard story, and production. Leonard wrote such notable movies as taunt western thriller 3:10 to Yuma, Be Cool, Jackie Brown, Get Shorty, 52 Pick-Up, and Joe Kidd. This means that we get tough guys, some good, some not so good.  It also means we get tight, realistic plots with characters doing what is best for them in each situation, weaving complications into violent conclusions. Killshot is no different. Tough, slim ball killer Rourke stalks unhappily married witness Lane. Think History of Violence meets No Country for Old Men. It is not as intense, bloody or gory as those two, but it is almost as good. If you like those two, including David Croneberg's equally wonderful Eastern Promises, you will like Killshot also.  Director John Madden has not done a lot of movies. His last few were enjoyable, if not successful: Proof, Captain Corelli's Mandolin and Shakespeare in Love.  Diana Lane hasn't had a powerful movie role since she and Richard Gere gave incredible performances in Unfaithful. Lately she is charming and appealing in romantic stories such as Nights in Rodanthe, Must Love Dogs, and Under the Tuscan Sun. Here she is right on mark, balancing her sexy appeal with reserved tension.  This is a small part for Rosario Dawson. Yet Dawson does a good job with it. You see a lot more of Lane, including an underwear scene to rival Sigourney Weaver in Aliens and Nicole Kidman in Eyes Wide Shut.  While you are in the crime drama section, also pick up Kiss, Kiss, Bang, Bang, and Gone Baby Gone, and Before the Devil Knows Your Dead. The last has wonderful performances by Phillip Seymour Hoffman, Ethan Hawke, Marisa Tomei and Albert Finney.  Killshot flopped at the box office. More is our luck. It is certainly worth a 3-4 dollar rental, if you like this genre. 6/20/2009   \n",
       "12073                                                                                                                                                                                                                                                                                                                                                                                                                                                                                                                                                                                                                                                                                                                                                                                                                                                            I went to see this 3 nights ago here in Cork, Ireland. It was the world premiere of it, in the tiny cinema in the Triskel Arts Centre as part of the Cork Film Festival.  I found \"Strange Fruit\" to be an excellent movie. It is a bit rough around the edges, but for a low-budget movie that is to be expected! In general the acting (particularly from the main lead Kent Faulcon) is wonderful, the cinematography and direction excellent, and the script hugely entertaining and thought-provoking, with some nice set-ups and witty dialogue.  The ending was a bit sudden, with no conclusion given to characters and events once the finale came to its gripping end ... but perhaps that's what the filmmakers were going for? It certainly did make the movie more unsettling. I did like the fact that the main character never came to terms with his mother on screen: it leaves you wondering whether or not he ever will, as in real-life sometimes these things are never settled. This was a good choice, to leave it unresolved rather than sentimentally wrapping it up!  Taut and suspenseful throughout, \"Strange Fruit\" is a hugely ambitious debut and I have high hopes for what the writer/director Kyle Schickner will unleash next. He - and his colleagues - are a talent worth watching.  I hope \"Strange Fruit\" gets a wider release soon, as more people deserve to see this movie, an above-average thriller with some original and insightful twists on homophobia and racism in America's Deep South.  Highly Recommended: 7/10   \n",
       "15106                                                                                                                                                                                                                                                                                                                                                                                                                                                                                                                                                                                                                                                                                                                                                                                                                                                                                                                                                                                                                                                                                                                                                                                                                                                                                                                                                                                                                                                                                                                                                                                                                                                                                                                                                                                                                                                                                                                                                                                                                         One of Frances Farmer's earliest movies; at 22, she is absolutely beautiful. Bing Crosby is in great voice, but the songs are not his best. Martha Raye and Bob Burns are interesting, but their comedy, probably great in its time, is really corny today. Roy Rogers also appears- in a singing role. In my view only worth watching if you are a Frances Farmer fan, and possibly a Bing Crosby fan.   \n",
       "\n",
       "                                                                                                                                                                                                                                                                                                                                                                                                                                                                                                                                                                                                                                                                                                                                                                                                                                                                                                                                                                                                                                                                                                                                                                                                                                                                                                                                                                                                                                                                                                       cleaned  \\\n",
       "1216   mickey rourk hunt dian lane elmor leonard killshot like mickey rourk ever realli disappear steadi string appear burst back scene memor domino sin citi man fire upon time mexico get carter power dramat perform wrestler see full blown present charact hint get carter whenev get know rourk remain cool sleazi muscl bound slim ball elmor leonard stori product leonard wrote notabl taunt western thriller yuma cool jacki brown get shorti pickup joe kidd mean get tough guy good good also mean get tight realist plot charact best situat weav complic violent conclus killshot differ tough slim ball killer rourk stalk unhappili marri wit lane think histori violenc meet countri old men intens bloodi gori two almost good like two includ david croneberg equal wonder eastern promis like killshot also director john madden done lot last enjoy success proof captain corelli mandolin shakespear love diana lane hasnt power role sinc richard gere gave incred perform unfaith late charm appeal romant stori night rodanth must love dog tuscan sun right mark balanc sexi appeal reserv tension small part rosario dawson yet dawson good job see lot lane includ underwear scene rival sigourney weaver alien nicol kidman eye wide shut crime drama section also pick kiss kiss bang bang gone babi gone devil know dead last wonder perform phillip seymour hoffman ethan hawk marisa tomei albert finney killshot flop box offic luck certainli worth dollar rental like genr   \n",
       "12073                                                                                                                                                                                                                                                                                                                                                                                                                                                                                                                                                                                                                     went see night ago cork ireland world premier tini cinema triskel art centr part cork festiv found strang fruit excel bit rough around edg lowbudget expect gener act particularli main lead kent faulcon wonder cinematographi direct excel script huge entertain thoughtprovok nice setup witti dialogu end bit sudden conclus given charact event final came grip end perhap that maker go certainli make unsettl like fact main charact never came term mother screen leav wonder whether ever reallif sometim thing never settl good choic leav unresolv rather sentiment wrap taut suspens throughout strang fruit huge ambiti debut high hope writerdirector kyle schickner unleash next colleagu talent worth watch hope strang fruit get wider releas soon peopl deserv see aboveaverag thriller origin insight twist homophobia racism america deep south highli recommend   \n",
       "15106                                                                                                                                                                                                                                                                                                                                                                                                                                                                                                                                                                                                                                                                                                                                                                                                                                                                                                                                                                                                                                                                                                                                                                                                                                                            one franc farmer earliest absolut beauti bing crosbi great voic song best martha ray bob burn interest comedi probabl great time realli corni today roy roger also appear sing role view worth watch franc farmer fan possibl bing crosbi fan   \n",
       "\n",
       "       length  \n",
       "1216     1447  \n",
       "12073     852  \n",
       "15106     237  "
      ]
     },
     "metadata": {},
     "output_type": "display_data"
    },
    {
     "name": "stdout",
     "output_type": "stream",
     "text": [
      "FN cases\n"
     ]
    },
    {
     "data": {
      "text/html": [
       "<div>\n",
       "<style scoped>\n",
       "    .dataframe tbody tr th:only-of-type {\n",
       "        vertical-align: middle;\n",
       "    }\n",
       "\n",
       "    .dataframe tbody tr th {\n",
       "        vertical-align: top;\n",
       "    }\n",
       "\n",
       "    .dataframe thead th {\n",
       "        text-align: right;\n",
       "    }\n",
       "</style>\n",
       "<table border=\"1\" class=\"dataframe\">\n",
       "  <thead>\n",
       "    <tr style=\"text-align: right;\">\n",
       "      <th></th>\n",
       "      <th>pred_proba_pos</th>\n",
       "      <th>pred_sentiment</th>\n",
       "      <th>class</th>\n",
       "      <th>review</th>\n",
       "      <th>cleaned</th>\n",
       "      <th>length</th>\n",
       "    </tr>\n",
       "  </thead>\n",
       "  <tbody>\n",
       "    <tr>\n",
       "      <th>14081</th>\n",
       "      <td>0.002785</td>\n",
       "      <td>0</td>\n",
       "      <td>1</td>\n",
       "      <td>I wouldn't go so far as to not recommend this movie, since the only problems I have with it are due to an overexposure to the plot devices used in the movie - the sort of things common to every kids movie ever made it seems. That doesn't make it bad, just not something I'd go far.  It is a little saccharine, so I might say that for the most part anyone looking for something with a little more wit could be disappointed in an obviously for-kids movie like this.  However, all of that goes out the window when that squirrel (the one in all the trailers) comes on-screen. His time is limited, but it seems apparent that the decision makers had the wisdom to tell these guys 'hey, could you stick in a little more squirrel?' every time it's getting intolerably dull. That doesn't save the movie, but you can leave saying 'at least there was one aspect where I couldn't stop laughing.'  And of course, visually it won't disappoint, but that's almost a given with Pixar flicks. Of all of their stuff, I'd put this at the bottom...but that isn't in itself bad.</td>\n",
       "      <td>wouldnt go far recommend sinc problem due overexposur plot devic use sort thing common everi kid ever made seem doesnt make bad someth id go far littl saccharin might say part anyon look someth littl wit could disappoint obvious forkid like howev goe window squirrel one trailer come onscreen time limit seem appar decis maker wisdom tell guy hey could stick littl squirrel everi time get intoler dull doesnt save leav say least one aspect couldnt stop laugh cours visual wont disappoint that almost given pixar flick stuff id put bottombut isnt bad</td>\n",
       "      <td>549</td>\n",
       "    </tr>\n",
       "    <tr>\n",
       "      <th>35783</th>\n",
       "      <td>0.003605</td>\n",
       "      <td>0</td>\n",
       "      <td>1</td>\n",
       "      <td>This low-budget erotic thriller that has some good points, but a lot more bad one. The plot revolves around a female lawyer trying to clear her lover who is accused of murdering his wife. Being a soft-core film, that entails her going undercover at a strip club and having sex with possible suspects. As plots go for this type of genre, not to bad. The script is okay, and the story makes enough sense for someone up at 2 AM watching this not to notice too many plot holes. But everything else in the film seems cheap. The lead actors aren't that bad, but pretty much all the supporting ones are unbelievably bad (one girl seems like she is drunk and/or high). The cinematography is badly lit, with everything looking grainy and ugly. The sound is so terrible that you can barely hear what people are saying. The worst thing in this movie is the reason you're watching it-the sex. The reason people watch these things is for hot sex scenes featuring really hot girls in Red Shoe Diary situations. The sex scenes aren't hot they're sleazy, shot in that porno style where everything is just a master shot of two people going at it. The woman also look like they are refuges from a porn shoot. I'm not trying to be rude or mean here, but they all have that breast implants and a burned out/weathered look. Even the title, \"Deviant Obsession\", sounds like a Hardcore flick. Not that I don't have anything against porn - in fact I love it. But I want my soft-core and my hard-core separate. What ever happened to actresses like Shannon Tweed, Jacqueline Lovell, Shannon Whirry and Kim Dawson? Women that could act and who would totally arouse you? And what happened to B erotic thrillers like Body Chemistry, Nighteyes and even Stripped to Kill. Sure, none of these where masterpieces, but at least they felt like movies. Plus, they were pushing the envelope, going beyond Hollywood's relatively prude stance on sex, sexual obsessions and perversions. Now they just make hard-core films without the hard-core sex.</td>\n",
       "      <td>lowbudget erot thriller good point lot bad one plot revolv around femal lawyer tri clear lover accus murder wife softcor entail go undercov strip club sex possibl suspect plot go type genr bad script okay stori make enough sens someon watch notic mani plot hole everyth els seem cheap lead actor arent bad pretti much support one unbeliev bad one girl seem like drunk andor high cinematographi badli lit everyth look graini ugli sound terribl bare hear peopl say worst thing reason your watch itth sex reason peopl watch thing hot sex scene featur realli hot girl red shoe diari situat sex scene arent hot theyr sleazi shot porno style everyth master shot two peopl go woman also look like refug porn shoot im tri rude mean breast implant burn outweath look even titl deviant obsess sound like hardcor flick dont anyth porn fact love want softcor hardcor separ ever happen actress like shannon tweed jacquelin lovel shannon whirri kim dawson women could act would total arous happen b erot thriller like bodi chemistri nightey even strip kill sure none masterpiec least felt like plu push envelop go beyond hollywood rel prude stanc sex sexual obsess pervers make hardcor without hardcor sex</td>\n",
       "      <td>1191</td>\n",
       "    </tr>\n",
       "    <tr>\n",
       "      <th>25161</th>\n",
       "      <td>0.004262</td>\n",
       "      <td>0</td>\n",
       "      <td>1</td>\n",
       "      <td>This flick is sterling example of the state of erotic B-movies: bad porn movies without the hardcore sex. The plot in this one isn't so bad as these things go; it involves a female lawyer trying to prove her lover is innocent of killing his wife. The rest of the movie, however, leaves something to be desired. Bad acting, bad direction, bad looking woman, bad sets, bad cinematography, bad sound and bad sex scenes. The filmmakers should learn the difference between raunchy and erotic. They don't even have the common sense to have Gabriella Hall naked or in a love scene.   How dumb is that?</td>\n",
       "      <td>flick sterl exampl state erot bs bad porn without hardcor sex plot one isnt bad thing go involv femal lawyer tri prove lover innoc kill wife rest howev leav someth desir bad act bad direct bad look woman bad set bad cinematographi bad sound bad sex scene maker learn differ raunchi erot dont even common sens gabriella hall nake love scene dumb</td>\n",
       "      <td>344</td>\n",
       "    </tr>\n",
       "  </tbody>\n",
       "</table>\n",
       "</div>"
      ],
      "text/plain": [
       "       pred_proba_pos  pred_sentiment  class  \\\n",
       "14081        0.002785               0      1   \n",
       "35783        0.003605               0      1   \n",
       "25161        0.004262               0      1   \n",
       "\n",
       "                                                                                                                                                                                                                                                                                                                                                                                                                                                                                                                                                                                                                                                                                                                                                                                                                                                                                                                                                                                                                                                                                                                                                                                                                                                                                                                                                                                                                                                                                                                                                                                                                                                                                                                                                                                                                                                                                                                                                                                                                                                                                         review  \\\n",
       "14081                                                                                                                                                                                                                                                                                                                                                                                                                                                                                                                                                                                                                                                                                                                                                                                                                                                                                                                                                                                          I wouldn't go so far as to not recommend this movie, since the only problems I have with it are due to an overexposure to the plot devices used in the movie - the sort of things common to every kids movie ever made it seems. That doesn't make it bad, just not something I'd go far.  It is a little saccharine, so I might say that for the most part anyone looking for something with a little more wit could be disappointed in an obviously for-kids movie like this.  However, all of that goes out the window when that squirrel (the one in all the trailers) comes on-screen. His time is limited, but it seems apparent that the decision makers had the wisdom to tell these guys 'hey, could you stick in a little more squirrel?' every time it's getting intolerably dull. That doesn't save the movie, but you can leave saying 'at least there was one aspect where I couldn't stop laughing.'  And of course, visually it won't disappoint, but that's almost a given with Pixar flicks. Of all of their stuff, I'd put this at the bottom...but that isn't in itself bad.   \n",
       "35783  This low-budget erotic thriller that has some good points, but a lot more bad one. The plot revolves around a female lawyer trying to clear her lover who is accused of murdering his wife. Being a soft-core film, that entails her going undercover at a strip club and having sex with possible suspects. As plots go for this type of genre, not to bad. The script is okay, and the story makes enough sense for someone up at 2 AM watching this not to notice too many plot holes. But everything else in the film seems cheap. The lead actors aren't that bad, but pretty much all the supporting ones are unbelievably bad (one girl seems like she is drunk and/or high). The cinematography is badly lit, with everything looking grainy and ugly. The sound is so terrible that you can barely hear what people are saying. The worst thing in this movie is the reason you're watching it-the sex. The reason people watch these things is for hot sex scenes featuring really hot girls in Red Shoe Diary situations. The sex scenes aren't hot they're sleazy, shot in that porno style where everything is just a master shot of two people going at it. The woman also look like they are refuges from a porn shoot. I'm not trying to be rude or mean here, but they all have that breast implants and a burned out/weathered look. Even the title, \"Deviant Obsession\", sounds like a Hardcore flick. Not that I don't have anything against porn - in fact I love it. But I want my soft-core and my hard-core separate. What ever happened to actresses like Shannon Tweed, Jacqueline Lovell, Shannon Whirry and Kim Dawson? Women that could act and who would totally arouse you? And what happened to B erotic thrillers like Body Chemistry, Nighteyes and even Stripped to Kill. Sure, none of these where masterpieces, but at least they felt like movies. Plus, they were pushing the envelope, going beyond Hollywood's relatively prude stance on sex, sexual obsessions and perversions. Now they just make hard-core films without the hard-core sex.   \n",
       "25161                                                                                                                                                                                                                                                                                                                                                                                                                                                                                                                                                                                                                                                                                                                                                                                                                                                                                                                                                                                                                                                                                                                                                                                                                                                                                                                                                                                                                                                                        This flick is sterling example of the state of erotic B-movies: bad porn movies without the hardcore sex. The plot in this one isn't so bad as these things go; it involves a female lawyer trying to prove her lover is innocent of killing his wife. The rest of the movie, however, leaves something to be desired. Bad acting, bad direction, bad looking woman, bad sets, bad cinematography, bad sound and bad sex scenes. The filmmakers should learn the difference between raunchy and erotic. They don't even have the common sense to have Gabriella Hall naked or in a love scene.   How dumb is that?   \n",
       "\n",
       "                                                                                                                                                                                                                                                                                                                                                                                                                                                                                                                                                                                                                                                                                                                                                                                                                                                                                                                                                                                                                                                                                                                                                                                                                                       cleaned  \\\n",
       "14081                                                                                                                                                                                                                                                                                                                                                                                                                                                                                                                                                                                                                                                                    wouldnt go far recommend sinc problem due overexposur plot devic use sort thing common everi kid ever made seem doesnt make bad someth id go far littl saccharin might say part anyon look someth littl wit could disappoint obvious forkid like howev goe window squirrel one trailer come onscreen time limit seem appar decis maker wisdom tell guy hey could stick littl squirrel everi time get intoler dull doesnt save leav say least one aspect couldnt stop laugh cours visual wont disappoint that almost given pixar flick stuff id put bottombut isnt bad   \n",
       "35783  lowbudget erot thriller good point lot bad one plot revolv around femal lawyer tri clear lover accus murder wife softcor entail go undercov strip club sex possibl suspect plot go type genr bad script okay stori make enough sens someon watch notic mani plot hole everyth els seem cheap lead actor arent bad pretti much support one unbeliev bad one girl seem like drunk andor high cinematographi badli lit everyth look graini ugli sound terribl bare hear peopl say worst thing reason your watch itth sex reason peopl watch thing hot sex scene featur realli hot girl red shoe diari situat sex scene arent hot theyr sleazi shot porno style everyth master shot two peopl go woman also look like refug porn shoot im tri rude mean breast implant burn outweath look even titl deviant obsess sound like hardcor flick dont anyth porn fact love want softcor hardcor separ ever happen actress like shannon tweed jacquelin lovel shannon whirri kim dawson women could act would total arous happen b erot thriller like bodi chemistri nightey even strip kill sure none masterpiec least felt like plu push envelop go beyond hollywood rel prude stanc sex sexual obsess pervers make hardcor without hardcor sex   \n",
       "25161                                                                                                                                                                                                                                                                                                                                                                                                                                                                                                                                                                                                                                                                                                                                                                                                                                                                                 flick sterl exampl state erot bs bad porn without hardcor sex plot one isnt bad thing go involv femal lawyer tri prove lover innoc kill wife rest howev leav someth desir bad act bad direct bad look woman bad set bad cinematographi bad sound bad sex scene maker learn differ raunchi erot dont even common sens gabriella hall nake love scene dumb   \n",
       "\n",
       "       length  \n",
       "14081     549  \n",
       "35783    1191  \n",
       "25161     344  "
      ]
     },
     "metadata": {},
     "output_type": "display_data"
    }
   ],
   "source": [
    "FP, FN = error_check('Logistic TFIDF Tuned', logit_tfidf_bst)"
   ]
  },
  {
   "cell_type": "code",
   "execution_count": 51,
   "metadata": {},
   "outputs": [
    {
     "data": {
      "text/html": [
       "<div>\n",
       "<style scoped>\n",
       "    .dataframe tbody tr th:only-of-type {\n",
       "        vertical-align: middle;\n",
       "    }\n",
       "\n",
       "    .dataframe tbody tr th {\n",
       "        vertical-align: top;\n",
       "    }\n",
       "\n",
       "    .dataframe thead th {\n",
       "        text-align: right;\n",
       "    }\n",
       "</style>\n",
       "<table border=\"1\" class=\"dataframe\">\n",
       "  <thead>\n",
       "    <tr style=\"text-align: right;\">\n",
       "      <th></th>\n",
       "      <th>coef</th>\n",
       "      <th>feature</th>\n",
       "    </tr>\n",
       "  </thead>\n",
       "  <tbody>\n",
       "    <tr>\n",
       "      <th>0</th>\n",
       "      <td>0.140448</td>\n",
       "      <td>abandon</td>\n",
       "    </tr>\n",
       "    <tr>\n",
       "      <th>1</th>\n",
       "      <td>-0.243161</td>\n",
       "      <td>abil</td>\n",
       "    </tr>\n",
       "    <tr>\n",
       "      <th>2</th>\n",
       "      <td>1.084466</td>\n",
       "      <td>abl</td>\n",
       "    </tr>\n",
       "    <tr>\n",
       "      <th>3</th>\n",
       "      <td>-0.140503</td>\n",
       "      <td>absolut</td>\n",
       "    </tr>\n",
       "    <tr>\n",
       "      <th>4</th>\n",
       "      <td>-1.582590</td>\n",
       "      <td>absolut noth</td>\n",
       "    </tr>\n",
       "    <tr>\n",
       "      <th>5</th>\n",
       "      <td>-1.467832</td>\n",
       "      <td>absurd</td>\n",
       "    </tr>\n",
       "    <tr>\n",
       "      <th>6</th>\n",
       "      <td>-0.221740</td>\n",
       "      <td>abus</td>\n",
       "    </tr>\n",
       "    <tr>\n",
       "      <th>7</th>\n",
       "      <td>0.051112</td>\n",
       "      <td>academi</td>\n",
       "    </tr>\n",
       "    <tr>\n",
       "      <th>8</th>\n",
       "      <td>0.495741</td>\n",
       "      <td>academi award</td>\n",
       "    </tr>\n",
       "    <tr>\n",
       "      <th>9</th>\n",
       "      <td>-1.466925</td>\n",
       "      <td>accent</td>\n",
       "    </tr>\n",
       "  </tbody>\n",
       "</table>\n",
       "</div>"
      ],
      "text/plain": [
       "       coef        feature\n",
       "0  0.140448        abandon\n",
       "1 -0.243161           abil\n",
       "2  1.084466            abl\n",
       "3 -0.140503        absolut\n",
       "4 -1.582590   absolut noth\n",
       "5 -1.467832         absurd\n",
       "6 -0.221740           abus\n",
       "7  0.051112        academi\n",
       "8  0.495741  academi award\n",
       "9 -1.466925         accent"
      ]
     },
     "execution_count": 51,
     "metadata": {},
     "output_type": "execute_result"
    }
   ],
   "source": [
    "logit_tfidf_feature=pd.DataFrame({'coef':logit_tfidf_bst.coef_[0], 'feature':tfidf.get_feature_names_out()})\n",
    "logit_tfidf_feature.head(10)"
   ]
  },
  {
   "cell_type": "code",
   "execution_count": 52,
   "metadata": {},
   "outputs": [
    {
     "name": "stdout",
     "output_type": "stream",
     "text": [
      "--------------------------------------\n",
      "      feature      coef\n",
      "111     enjoy  4.680616\n",
      "116      love  4.487227\n",
      "117      love  4.487227\n",
      "74       best  4.151497\n",
      "72    realist  2.839297\n",
      "68       also  2.481701\n",
      "69       also  2.481701\n",
      "70       also  2.481701\n",
      "33        see  2.298696\n",
      "32        see  2.298696\n",
      "64       good  2.297230\n",
      "67       good  2.297230\n",
      "65       good  2.297230\n",
      "66       good  2.297230\n",
      "104  director -2.243179\n",
      "29    perform  2.118208\n",
      "30    perform  2.118208\n",
      "31    perform  2.118208\n",
      "91     intens  2.105578\n",
      "123    incred  2.096689\n",
      "--------------------------------------\n",
      "       feature      coef\n",
      "16       excel  7.176605\n",
      "17       excel  7.176605\n",
      "38   entertain  3.365814\n",
      "35      script -3.236601\n",
      "103     highli  2.612315\n",
      "2          see  2.298696\n",
      "1          see  2.298696\n",
      "75        good  2.297230\n",
      "19         bit  2.227213\n",
      "18         bit  2.227213\n",
      "104  recommend  2.086494\n",
      "72     sometim  1.984794\n",
      "32      wonder  1.923107\n",
      "31      wonder  1.923107\n",
      "5        world  1.745844\n",
      "26         act -1.710913\n",
      "57       maker -1.682669\n",
      "92      releas  1.668875\n",
      "97      origin -1.634459\n",
      "39        nice  1.632164\n",
      "--------------------------------------\n",
      "     feature      coef\n",
      "5      great  6.714627\n",
      "6      great  6.714627\n",
      "9       best  4.151497\n",
      "4     beauti  4.086651\n",
      "19     today  3.974561\n",
      "21      also  2.481701\n",
      "13  interest -1.787104\n",
      "16      time  1.646048\n",
      "25      view  1.293541\n",
      "26     worth  1.060331\n",
      "2      franc  1.006158\n",
      "1      franc  1.006158\n",
      "22    appear -0.984632\n",
      "30   possibl -0.858375\n",
      "24      role  0.747676\n",
      "14    comedi  0.727240\n",
      "20     roger -0.577520\n",
      "17    realli  0.494588\n",
      "18     corni -0.403150\n",
      "12      burn -0.389116\n"
     ]
    }
   ],
   "source": [
    "error_analysis(FP)"
   ]
  },
  {
   "cell_type": "code",
   "execution_count": 53,
   "metadata": {},
   "outputs": [
    {
     "name": "stdout",
     "output_type": "stream",
     "text": [
      "--------------------------------------\n",
      "       feature      coef\n",
      "26         bad -7.202862\n",
      "25         bad -7.202862\n",
      "43  disappoint -5.735074\n",
      "44  disappoint -5.735074\n",
      "65        dull -4.902084\n",
      "66        save -4.108838\n",
      "68       least -2.980039\n",
      "70     couldnt -2.507432\n",
      "5    recommend  2.086494\n",
      "9         plot -2.070636\n",
      "42       could -2.024567\n",
      "41       could -2.024567\n",
      "20        seem -1.983579\n",
      "21        seem -1.983579\n",
      "39        look -1.974997\n",
      "4          far -1.952906\n",
      "3          far -1.952906\n",
      "7      problem -1.836641\n",
      "57       appar -1.836502\n",
      "59       maker -1.682669\n",
      "--------------------------------------\n",
      "        feature      coef\n",
      "101       worst -8.897363\n",
      "11          bad -7.202862\n",
      "8           bad -7.202862\n",
      "9           bad -7.202862\n",
      "10          bad -7.202862\n",
      "94      terribl -5.367386\n",
      "142        love  4.487227\n",
      "87        badli -3.320523\n",
      "46       script -3.236601\n",
      "161       least -2.980039\n",
      "153       would -2.970652\n",
      "66        cheap -2.852730\n",
      "159        none -2.689761\n",
      "160  masterpiec  2.654404\n",
      "23          tri -2.576366\n",
      "22          tri -2.576366\n",
      "125        also  2.481701\n",
      "104      reason -2.404081\n",
      "105      reason -2.404081\n",
      "47         okay -2.306092\n",
      "--------------------------------------\n",
      "   feature      coef\n",
      "13     bad -7.202862\n",
      "10     bad -7.202862\n",
      "12     bad -7.202862\n",
      "11     bad -7.202862\n",
      "5      bad -7.202862\n",
      "6      bad -7.202862\n",
      "7      bad -7.202862\n",
      "8      bad -7.202862\n",
      "9      bad -7.202862\n",
      "55    love  4.487227\n",
      "26     tri -2.576366\n",
      "50    even -2.265457\n",
      "18    plot -2.070636\n",
      "1   exampl -2.050569\n",
      "56    dumb -2.029625\n",
      "29   innoc  2.001418\n",
      "39    look -1.974997\n",
      "37     act -1.710913\n",
      "46   maker -1.682669\n",
      "48  differ  1.593750\n"
     ]
    }
   ],
   "source": [
    "error_analysis(FN)"
   ]
  }
 ],
 "metadata": {
  "kernelspec": {
   "display_name": "Python 3.8.8 ('base')",
   "language": "python",
   "name": "python3"
  },
  "language_info": {
   "codemirror_mode": {
    "name": "ipython",
    "version": 3
   },
   "file_extension": ".py",
   "mimetype": "text/x-python",
   "name": "python",
   "nbconvert_exporter": "python",
   "pygments_lexer": "ipython3",
   "version": "3.8.8"
  },
  "orig_nbformat": 4,
  "vscode": {
   "interpreter": {
    "hash": "c13d69c397d2de6a9cad7616001f1ca9dadfc7579438a900a26d61d34a4c908e"
   }
  }
 },
 "nbformat": 4,
 "nbformat_minor": 2
}
