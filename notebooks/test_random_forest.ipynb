{
 "cells": [
  {
   "cell_type": "code",
   "execution_count": 7,
   "metadata": {},
   "outputs": [],
   "source": [
    "from text_analytics.sentiment_analysis.random_forest import RandomForest\n",
    "import pandas as pd \n",
    "import xgboost as xgb\n",
    "from sklearn.model_selection import train_test_split\n",
    "from sklearn.feature_extraction.text import CountVectorizer, TfidfVectorizer\n",
    "from text_analytics.config import RAW_DATA_PATH, SENTIMENT_CLEANED_DATA_PATH, RANDOM_STATE\n"
   ]
  },
  {
   "cell_type": "code",
   "execution_count": 8,
   "metadata": {},
   "outputs": [
    {
     "data": {
      "text/plain": [
       "0.5018756806905732"
      ]
     },
     "execution_count": 8,
     "metadata": {},
     "output_type": "execute_result"
    }
   ],
   "source": [
    "df = pd.read_csv(SENTIMENT_CLEANED_DATA_PATH)\n",
    "X = df['preprocessed_review']\n",
    "y = df['class']\n",
    "sum(y==1)/len(y)  #class balanced\n"
   ]
  },
  {
   "cell_type": "code",
   "execution_count": 9,
   "metadata": {},
   "outputs": [],
   "source": [
    "X_train, X_test, y_train, y_test = train_test_split(X, y, test_size=0.2, stratify=y, random_state=RANDOM_STATE)"
   ]
  },
  {
   "cell_type": "code",
   "execution_count": 10,
   "metadata": {},
   "outputs": [],
   "source": [
    "count_vectorizer = CountVectorizer(ngram_range=(1,2), min_df=10) \n",
    "\n",
    "X_train = count_vectorizer.fit_transform(X_train)\n",
    "X_test = count_vectorizer.transform(X_test)"
   ]
  },
  {
   "cell_type": "code",
   "execution_count": 11,
   "metadata": {},
   "outputs": [
    {
     "name": "stdout",
     "output_type": "stream",
     "text": [
      "[(39665, 61088), (9917, 61088)]\n"
     ]
    }
   ],
   "source": [
    "print([file.shape for file in (X_train, X_test)])"
   ]
  },
  {
   "cell_type": "code",
   "execution_count": 12,
   "metadata": {},
   "outputs": [],
   "source": [
    "rf = RandomForest(\n",
    "    X_train=X_train,\n",
    "    y_train=y_train,\n",
    "    X_test=X_test,\n",
    "    y_test=y_test\n",
    ")"
   ]
  },
  {
   "cell_type": "code",
   "execution_count": 14,
   "metadata": {},
   "outputs": [
    {
     "name": "stdout",
     "output_type": "stream",
     "text": [
      "Fitting must be done before evaluating of hyperparameter tuning process\n"
     ]
    },
    {
     "ename": "AttributeError",
     "evalue": "'NoneType' object has no attribute 'estimator'",
     "output_type": "error",
     "traceback": [
      "\u001b[0;31m---------------------------------------------------------------------------\u001b[0m",
      "\u001b[0;31mAttributeError\u001b[0m                            Traceback (most recent call last)",
      "Cell \u001b[0;32mIn [14], line 1\u001b[0m\n\u001b[0;32m----> 1\u001b[0m rf\u001b[39m.\u001b[39mevaluate()\n",
      "File \u001b[0;32m~/Documents/git/text_analytics/text_analytics/sentiment_analysis/random_forest.py:100\u001b[0m, in \u001b[0;36mRandomForest.evaluate\u001b[0;34m(self)\u001b[0m\n\u001b[1;32m     98\u001b[0m \u001b[39mdef\u001b[39;00m \u001b[39mevaluate\u001b[39m(\u001b[39mself\u001b[39m) \u001b[39m-\u001b[39m\u001b[39m>\u001b[39m \u001b[39mNone\u001b[39;00m:\n\u001b[1;32m     99\u001b[0m     \u001b[39mtry\u001b[39;00m:\n\u001b[0;32m--> 100\u001b[0m         evaluate_tuning(tuner\u001b[39m=\u001b[39;49m\u001b[39mself\u001b[39;49m\u001b[39m.\u001b[39;49mtrainer)\n\u001b[1;32m    101\u001b[0m     \u001b[39mexcept\u001b[39;00m \u001b[39mAttributeError\u001b[39;00m \u001b[39mas\u001b[39;00m err:\n\u001b[1;32m    102\u001b[0m         \u001b[39mprint\u001b[39m(\n\u001b[1;32m    103\u001b[0m             \u001b[39m\"\u001b[39m\u001b[39mFitting must be done before evaluating of hyperparameter tuning process\u001b[39m\u001b[39m\"\u001b[39m\n\u001b[1;32m    104\u001b[0m         )\n",
      "File \u001b[0;32m~/Documents/git/text_analytics/text_analytics/helpers.py:29\u001b[0m, in \u001b[0;36mevaluate_tuning\u001b[0;34m(tuner)\u001b[0m\n\u001b[1;32m     23\u001b[0m \u001b[39mdef\u001b[39;00m \u001b[39mevaluate_tuning\u001b[39m(tuner: Union[Type[RandomizedSearchCV], Type[GridSearchCV]]) \u001b[39m-\u001b[39m\u001b[39m>\u001b[39m \u001b[39mNone\u001b[39;00m:\n\u001b[1;32m     24\u001b[0m     \u001b[39mprint\u001b[39m(\n\u001b[1;32m     25\u001b[0m         \u001b[39mf\u001b[39m\u001b[39m\"\"\"\u001b[39m\n\u001b[1;32m     26\u001b[0m \u001b[39m    --------------\u001b[39m\n\u001b[1;32m     27\u001b[0m \u001b[39m    TUNING RESULTS\u001b[39m\n\u001b[1;32m     28\u001b[0m \u001b[39m    --------------\u001b[39m\n\u001b[0;32m---> 29\u001b[0m \u001b[39m    ESTIMATOR: \u001b[39m\u001b[39m{\u001b[39;00mtuner\u001b[39m.\u001b[39mestimator\u001b[39m}\u001b[39;00m\n\u001b[1;32m     30\u001b[0m \u001b[39m    BEST SCORE: \u001b[39m\u001b[39m{\u001b[39;00mtuner\u001b[39m.\u001b[39mbest_score_\u001b[39m:\u001b[39;00m\u001b[39m.2%\u001b[39m\u001b[39m}\u001b[39;00m\n\u001b[1;32m     31\u001b[0m \u001b[39m    BEST PARAMS: \u001b[39m\u001b[39m{\u001b[39;00mtuner\u001b[39m.\u001b[39mbest_params_\u001b[39m}\u001b[39;00m\n\u001b[1;32m     32\u001b[0m \u001b[39m    TRAIN AUC: \u001b[39m\u001b[39m{\u001b[39;00mtuner\u001b[39m.\u001b[39mcv_results_[\u001b[39m\"\u001b[39m\u001b[39mmean_train_AUC\u001b[39m\u001b[39m\"\u001b[39m][tuner\u001b[39m.\u001b[39mbest_index_]\u001b[39m:\u001b[39;00m\u001b[39m.2%\u001b[39m\u001b[39m}\u001b[39;00m\n\u001b[1;32m     33\u001b[0m \u001b[39m    TRAIN AUC SD: \u001b[39m\u001b[39m{\u001b[39;00mtuner\u001b[39m.\u001b[39mcv_results_[\u001b[39m\"\u001b[39m\u001b[39mstd_train_AUC\u001b[39m\u001b[39m\"\u001b[39m][tuner\u001b[39m.\u001b[39mbest_index_]\u001b[39m:\u001b[39;00m\u001b[39m.2%\u001b[39m\u001b[39m}\u001b[39;00m\n\u001b[1;32m     34\u001b[0m \u001b[39m    TEST AUC: \u001b[39m\u001b[39m{\u001b[39;00mtuner\u001b[39m.\u001b[39mcv_results_[\u001b[39m\"\u001b[39m\u001b[39mmean_test_AUC\u001b[39m\u001b[39m\"\u001b[39m][tuner\u001b[39m.\u001b[39mbest_index_]\u001b[39m:\u001b[39;00m\u001b[39m.2%\u001b[39m\u001b[39m}\u001b[39;00m\n\u001b[1;32m     35\u001b[0m \u001b[39m    TEST AUC SD: \u001b[39m\u001b[39m{\u001b[39;00mtuner\u001b[39m.\u001b[39mcv_results_[\u001b[39m\"\u001b[39m\u001b[39mstd_test_AUC\u001b[39m\u001b[39m\"\u001b[39m][tuner\u001b[39m.\u001b[39mbest_index_]\u001b[39m:\u001b[39;00m\u001b[39m.2%\u001b[39m\u001b[39m}\u001b[39;00m\n\u001b[1;32m     36\u001b[0m \u001b[39m    TRAIN F_score: \u001b[39m\u001b[39m{\u001b[39;00mtuner\u001b[39m.\u001b[39mcv_results_[\u001b[39m'\u001b[39m\u001b[39mmean_train_F_score\u001b[39m\u001b[39m'\u001b[39m][tuner\u001b[39m.\u001b[39mbest_index_]\u001b[39m:\u001b[39;00m\u001b[39m.2%\u001b[39m\u001b[39m}\u001b[39;00m\n\u001b[1;32m     37\u001b[0m \u001b[39m    TEST F_score: \u001b[39m\u001b[39m{\u001b[39;00mtuner\u001b[39m.\u001b[39mcv_results_[\u001b[39m'\u001b[39m\u001b[39mmean_test_F_score\u001b[39m\u001b[39m'\u001b[39m][tuner\u001b[39m.\u001b[39mbest_index_]\u001b[39m:\u001b[39;00m\u001b[39m.2%\u001b[39m\u001b[39m}\u001b[39;00m\u001b[39m  \u001b[39m\n\u001b[1;32m     38\u001b[0m \u001b[39m    \u001b[39m\u001b[39m\"\"\"\u001b[39m\n\u001b[1;32m     39\u001b[0m     )\n",
      "\u001b[0;31mAttributeError\u001b[0m: 'NoneType' object has no attribute 'estimator'"
     ]
    }
   ],
   "source": [
    "rf.evaluate() "
   ]
  },
  {
   "cell_type": "code",
   "execution_count": 8,
   "metadata": {},
   "outputs": [
    {
     "name": "stdout",
     "output_type": "stream",
     "text": [
      "Fitting 5 folds for each of 1 candidates, totalling 5 fits\n",
      "[CV 3/5; 1/1] START rf__colsample_bynode=0.675, rf__learning_rate=1.0, rf__max_depth=7, rf__n_estimators=100, rf__reg_lambda=0.875, rf__subsample=0.7\n",
      "[CV 5/5; 1/1] START rf__colsample_bynode=0.675, rf__learning_rate=1.0, rf__max_depth=7, rf__n_estimators=100, rf__reg_lambda=0.875, rf__subsample=0.7[CV 4/5; 1/1] START rf__colsample_bynode=0.675, rf__learning_rate=1.0, rf__max_depth=7, rf__n_estimators=100, rf__reg_lambda=0.875, rf__subsample=0.7\n",
      "[CV 2/5; 1/1] START rf__colsample_bynode=0.675, rf__learning_rate=1.0, rf__max_depth=7, rf__n_estimators=100, rf__reg_lambda=0.875, rf__subsample=0.7\n",
      "\n",
      "[CV 1/5; 1/1] START rf__colsample_bynode=0.675, rf__learning_rate=1.0, rf__max_depth=7, rf__n_estimators=100, rf__reg_lambda=0.875, rf__subsample=0.7\n",
      "[CV 5/5; 1/1] END rf__colsample_bynode=0.675, rf__learning_rate=1.0, rf__max_depth=7, rf__n_estimators=100, rf__reg_lambda=0.875, rf__subsample=0.7; AUC: (train=0.812, test=0.792) F_score: (train=0.759, test=0.751) total time= 1.3min\n",
      "[CV 3/5; 1/1] END rf__colsample_bynode=0.675, rf__learning_rate=1.0, rf__max_depth=7, rf__n_estimators=100, rf__reg_lambda=0.875, rf__subsample=0.7; AUC: (train=0.813, test=0.800) F_score: (train=0.761, test=0.754) total time= 1.3min\n",
      "[CV 4/5; 1/1] END rf__colsample_bynode=0.675, rf__learning_rate=1.0, rf__max_depth=7, rf__n_estimators=100, rf__reg_lambda=0.875, rf__subsample=0.7; AUC: (train=0.814, test=0.802) F_score: (train=0.765, test=0.756) total time= 1.3min\n",
      "[CV 1/5; 1/1] END rf__colsample_bynode=0.675, rf__learning_rate=1.0, rf__max_depth=7, rf__n_estimators=100, rf__reg_lambda=0.875, rf__subsample=0.7; AUC: (train=0.816, test=0.802) F_score: (train=0.759, test=0.753) total time= 1.3min\n",
      "[CV 2/5; 1/1] END rf__colsample_bynode=0.675, rf__learning_rate=1.0, rf__max_depth=7, rf__n_estimators=100, rf__reg_lambda=0.875, rf__subsample=0.7; AUC: (train=0.815, test=0.795) F_score: (train=0.761, test=0.751) total time= 1.3min\n"
     ]
    }
   ],
   "source": [
    "# ~ 30 mins to run \n",
    "tuner, bst_model = rf.train() "
   ]
  },
  {
   "cell_type": "code",
   "execution_count": 12,
   "metadata": {},
   "outputs": [
    {
     "name": "stdout",
     "output_type": "stream",
     "text": [
      "\n",
      "    -----------\n",
      "    PERFORMANCE\n",
      "    -----------\n",
      "    ACCURACY: 71.35%\n",
      "    PRECISION: 66.12%\n",
      "    RECALL: 88.00%\n",
      "    F1: 75.51%\n",
      "    ROC AUC: 79.70%\n",
      "    \n"
     ]
    }
   ],
   "source": [
    "y_pred = rf.best_model.predict(rf.X_test)\n",
    "y_pred_proba = rf.best_model.predict_proba(rf.X_test)[:, 1]\n",
    "\n",
    "report = calculate_report_metrics(\n",
    "    y_test=rf.y_test, y_pred=y_pred, y_pred_prob=y_pred_proba\n",
    ")"
   ]
  },
  {
   "cell_type": "code",
   "execution_count": 41,
   "metadata": {},
   "outputs": [],
   "source": [
    "import numpy.typing as npt \n",
    "import matplotlib.pyplot as plt \n",
    "import seaborn as sns \n",
    "import numpy as np \n",
    "from text_analytics.config import ARTIFACTS_PATH\n",
    "def save_confusion_matrix(cf_matrix: npt.ArrayLike, model_name: str) -> None:\n",
    "    _, ax = plt.subplots(figsize=(12, 8))\n",
    "\n",
    "    sns.heatmap(\n",
    "        np.eye(2),\n",
    "        annot=cf_matrix,\n",
    "        fmt=\".2%\",\n",
    "        annot_kws={\"size\": 50},\n",
    "        cmap=\"YlGnBu\",\n",
    "        cbar=False,\n",
    "        xticklabels=[\"Negative\", \"Positive\"],\n",
    "        yticklabels=[\"Negative\", \"Positive\"],\n",
    "        ax=ax,\n",
    "    )\n",
    "\n",
    "    ax.set_xlabel(\"Predicted Sentiment\", size=20)\n",
    "    ax.set_ylabel(\"Actual Sentiment\", size=20)\n",
    "    plt.savefig(f\"{ARTIFACTS_PATH}/confusion_matrix/{model_name}.jpeg\")\n",
    "    plt.clf()"
   ]
  },
  {
   "cell_type": "code",
   "execution_count": 30,
   "metadata": {},
   "outputs": [],
   "source": [
    "rf.load_model(file_name=\"sentiment_xgb_rf_12_13_13\")"
   ]
  },
  {
   "cell_type": "code",
   "execution_count": 8,
   "metadata": {},
   "outputs": [
    {
     "data": {
      "text/plain": [
       "array([1, 1, 0, ..., 0, 1, 1])"
      ]
     },
     "execution_count": 8,
     "metadata": {},
     "output_type": "execute_result"
    }
   ],
   "source": [
    "rf.best_model.predict(X_test)"
   ]
  },
  {
   "cell_type": "code",
   "execution_count": 9,
   "metadata": {},
   "outputs": [],
   "source": [
    "from text_analytics.helpers import calculate_report_metrics"
   ]
  },
  {
   "cell_type": "code",
   "execution_count": 11,
   "metadata": {},
   "outputs": [
    {
     "ename": "AttributeError",
     "evalue": "'NoneType' object has no attribute 'estimator'",
     "output_type": "error",
     "traceback": [
      "\u001b[0;31m---------------------------------------------------------------------------\u001b[0m",
      "\u001b[0;31mAttributeError\u001b[0m                            Traceback (most recent call last)",
      "Cell \u001b[0;32mIn [11], line 1\u001b[0m\n\u001b[0;32m----> 1\u001b[0m rf\u001b[39m.\u001b[39mevaluate()\n",
      "File \u001b[0;32m~/Documents/git/text_analytics/text_analytics/random_forest.py:100\u001b[0m, in \u001b[0;36mRandomForest.evaluate\u001b[0;34m(self)\u001b[0m\n\u001b[1;32m     98\u001b[0m \u001b[39mdef\u001b[39;00m \u001b[39mevaluate\u001b[39m(\u001b[39mself\u001b[39m) \u001b[39m-\u001b[39m\u001b[39m>\u001b[39m \u001b[39mNone\u001b[39;00m:\n\u001b[0;32m--> 100\u001b[0m     evaluate_tuning(tuner\u001b[39m=\u001b[39;49m\u001b[39mself\u001b[39;49m\u001b[39m.\u001b[39;49mtrainer)\n\u001b[1;32m    102\u001b[0m     y_pred \u001b[39m=\u001b[39m \u001b[39mself\u001b[39m\u001b[39m.\u001b[39mbest_model\u001b[39m.\u001b[39mpredict(\u001b[39mself\u001b[39m\u001b[39m.\u001b[39mX_test)\n\u001b[1;32m    103\u001b[0m     y_pred_proba \u001b[39m=\u001b[39m \u001b[39mself\u001b[39m\u001b[39m.\u001b[39mbest_model\u001b[39m.\u001b[39mpredict_proba(\u001b[39mself\u001b[39m\u001b[39m.\u001b[39mX_test)[:, \u001b[39m1\u001b[39m]\n",
      "File \u001b[0;32m~/Documents/git/text_analytics/text_analytics/helpers.py:29\u001b[0m, in \u001b[0;36mevaluate_tuning\u001b[0;34m(tuner)\u001b[0m\n\u001b[1;32m     23\u001b[0m \u001b[39mdef\u001b[39;00m \u001b[39mevaluate_tuning\u001b[39m(tuner: Union[Type[RandomizedSearchCV], Type[GridSearchCV]]) \u001b[39m-\u001b[39m\u001b[39m>\u001b[39m \u001b[39mNone\u001b[39;00m:\n\u001b[1;32m     24\u001b[0m     \u001b[39mprint\u001b[39m(\n\u001b[1;32m     25\u001b[0m         \u001b[39mf\u001b[39m\u001b[39m\"\"\"\u001b[39m\n\u001b[1;32m     26\u001b[0m \u001b[39m    --------------\u001b[39m\n\u001b[1;32m     27\u001b[0m \u001b[39m    TUNING RESULTS\u001b[39m\n\u001b[1;32m     28\u001b[0m \u001b[39m    --------------\u001b[39m\n\u001b[0;32m---> 29\u001b[0m \u001b[39m    ESTIMATOR: \u001b[39m\u001b[39m{\u001b[39;00mtuner\u001b[39m.\u001b[39mestimator\u001b[39m}\u001b[39;00m\n\u001b[1;32m     30\u001b[0m \u001b[39m    BEST SCORE: \u001b[39m\u001b[39m{\u001b[39;00mtuner\u001b[39m.\u001b[39mbest_score_\u001b[39m:\u001b[39;00m\u001b[39m.2%\u001b[39m\u001b[39m}\u001b[39;00m\n\u001b[1;32m     31\u001b[0m \u001b[39m    BEST PARAMS: \u001b[39m\u001b[39m{\u001b[39;00mtuner\u001b[39m.\u001b[39mbest_params_\u001b[39m}\u001b[39;00m\n\u001b[1;32m     32\u001b[0m \u001b[39m    TRAIN AUC: \u001b[39m\u001b[39m{\u001b[39;00mtuner\u001b[39m.\u001b[39mcv_results_[\u001b[39m\"\u001b[39m\u001b[39mmean_train_AUC\u001b[39m\u001b[39m\"\u001b[39m][tuner\u001b[39m.\u001b[39mbest_index_]\u001b[39m:\u001b[39;00m\u001b[39m.2%\u001b[39m\u001b[39m}\u001b[39;00m\n\u001b[1;32m     33\u001b[0m \u001b[39m    TRAIN AUC SD: \u001b[39m\u001b[39m{\u001b[39;00mtuner\u001b[39m.\u001b[39mcv_results_[\u001b[39m\"\u001b[39m\u001b[39mstd_train_AUC\u001b[39m\u001b[39m\"\u001b[39m][tuner\u001b[39m.\u001b[39mbest_index_]\u001b[39m:\u001b[39;00m\u001b[39m.2%\u001b[39m\u001b[39m}\u001b[39;00m\n\u001b[1;32m     34\u001b[0m \u001b[39m    TEST AUC: \u001b[39m\u001b[39m{\u001b[39;00mtuner\u001b[39m.\u001b[39mcv_results_[\u001b[39m\"\u001b[39m\u001b[39mmean_test_AUC\u001b[39m\u001b[39m\"\u001b[39m][tuner\u001b[39m.\u001b[39mbest_index_]\u001b[39m:\u001b[39;00m\u001b[39m.2%\u001b[39m\u001b[39m}\u001b[39;00m\n\u001b[1;32m     35\u001b[0m \u001b[39m    TEST AUC SD: \u001b[39m\u001b[39m{\u001b[39;00mtuner\u001b[39m.\u001b[39mcv_results_[\u001b[39m\"\u001b[39m\u001b[39mstd_test_AUC\u001b[39m\u001b[39m\"\u001b[39m][tuner\u001b[39m.\u001b[39mbest_index_]\u001b[39m:\u001b[39;00m\u001b[39m.2%\u001b[39m\u001b[39m}\u001b[39;00m\n\u001b[1;32m     36\u001b[0m \u001b[39m    TRAIN F_score: \u001b[39m\u001b[39m{\u001b[39;00mtuner\u001b[39m.\u001b[39mcv_results_[\u001b[39m'\u001b[39m\u001b[39mmean_train_F_score\u001b[39m\u001b[39m'\u001b[39m][tuner\u001b[39m.\u001b[39mbest_index_]\u001b[39m:\u001b[39;00m\u001b[39m.2%\u001b[39m\u001b[39m}\u001b[39;00m\n\u001b[1;32m     37\u001b[0m \u001b[39m    TEST F_score: \u001b[39m\u001b[39m{\u001b[39;00mtuner\u001b[39m.\u001b[39mcv_results_[\u001b[39m'\u001b[39m\u001b[39mmean_test_F_score\u001b[39m\u001b[39m'\u001b[39m][tuner\u001b[39m.\u001b[39mbest_index_]\u001b[39m:\u001b[39;00m\u001b[39m.2%\u001b[39m\u001b[39m}\u001b[39;00m\u001b[39m  \u001b[39m\n\u001b[1;32m     38\u001b[0m \u001b[39m    \u001b[39m\u001b[39m\"\"\"\u001b[39m\n\u001b[1;32m     39\u001b[0m     )\n",
      "\u001b[0;31mAttributeError\u001b[0m: 'NoneType' object has no attribute 'estimator'"
     ]
    }
   ],
   "source": [
    "rf.evaluate()"
   ]
  },
  {
   "cell_type": "code",
   "execution_count": 10,
   "metadata": {},
   "outputs": [
    {
     "name": "stdout",
     "output_type": "stream",
     "text": [
      "\n",
      "    -----------\n",
      "    PERFORMANCE\n",
      "    -----------\n",
      "    ACCURACY: 71.23%\n",
      "    PRECISION: 65.96%\n",
      "    RECALL: 88.21%\n",
      "    F1: 75.47%\n",
      "    ROC AUC: 79.82%\n",
      "    \n"
     ]
    }
   ],
   "source": [
    "y_pred = rf.best_model.predict(rf.X_test)\n",
    "y_pred_proba = rf.best_model.predict_proba(rf.X_test)[:, 1]\n",
    "\n",
    "report = calculate_report_metrics(\n",
    "    y_test=rf.y_test, y_pred=y_pred, y_pred_prob=y_pred_proba\n",
    ")"
   ]
  },
  {
   "cell_type": "code",
   "execution_count": null,
   "metadata": {},
   "outputs": [],
   "source": []
  }
 ],
 "metadata": {
  "kernelspec": {
   "display_name": "Python 3.9.13 ('ta22')",
   "language": "python",
   "name": "python3"
  },
  "language_info": {
   "codemirror_mode": {
    "name": "ipython",
    "version": 3
   },
   "file_extension": ".py",
   "mimetype": "text/x-python",
   "name": "python",
   "nbconvert_exporter": "python",
   "pygments_lexer": "ipython3",
   "version": "3.9.13"
  },
  "orig_nbformat": 4,
  "vscode": {
   "interpreter": {
    "hash": "37e987721a07d9a801a65e99628dc1f05d14dfb697773d267e80d3ef33c8e70f"
   }
  }
 },
 "nbformat": 4,
 "nbformat_minor": 2
}
