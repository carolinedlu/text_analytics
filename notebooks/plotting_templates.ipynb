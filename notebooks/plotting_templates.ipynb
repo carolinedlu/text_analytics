{
 "cells": [
  {
   "cell_type": "code",
   "execution_count": null,
   "metadata": {},
   "outputs": [],
   "source": [
    "import random\n",
    "\n",
    "import matplotlib.pyplot as plt\n",
    "import pandas as pd\n",
    "import seaborn as sns\n",
    "from wordcloud import STOPWORDS, WordCloud\n",
    "\n",
    "# define the path to the style sheet\n",
    "style_sheet = \"../styles/base.mplstyle\"\n",
    "plt.style.use(style_sheet)\n",
    "\n",
    "# display option to 30 columns - same can be done for rows\n",
    "pd.set_option(\"display.max_columns\", 30)\n",
    "\n",
    "%matplotlib inline"
   ]
  },
  {
   "cell_type": "markdown",
   "metadata": {},
   "source": [
    "#### Show the colourmap scheme\n",
    "\n",
    "- Feel free to pick from these colours"
   ]
  },
  {
   "cell_type": "code",
   "execution_count": null,
   "metadata": {},
   "outputs": [],
   "source": [
    "pal = sns.color_palette(\n",
    "    [\n",
    "        \"#E31A1C\",\n",
    "        \"#33A02C\",\n",
    "        \"#FF7F00\",\n",
    "        \"#1F78B4\",\n",
    "        \"#6A3D9A\",\n",
    "        \"#FB9A99\",\n",
    "        \"#B2DF8A\",\n",
    "        \"#FDBF6F\",\n",
    "        \"#A6CEE3\",\n",
    "        \"#CAB2D6\",\n",
    "    ]\n",
    ")\n",
    "sns.palplot(pal)\n",
    "print(pal.as_hex())"
   ]
  },
  {
   "cell_type": "markdown",
   "metadata": {},
   "source": [
    "#### Load in example data\n",
    "- Will just do up histograms, barcharts, and wordclouds for now - don't think there are any other vizzes for textual analysis"
   ]
  },
  {
   "cell_type": "code",
   "execution_count": null,
   "metadata": {},
   "outputs": [],
   "source": [
    "example_data = sns.load_dataset(\"titanic\")"
   ]
  },
  {
   "cell_type": "code",
   "execution_count": null,
   "metadata": {},
   "outputs": [],
   "source": [
    "example_data.columns"
   ]
  },
  {
   "cell_type": "markdown",
   "metadata": {},
   "source": [
    "#### Example bar chart"
   ]
  },
  {
   "cell_type": "code",
   "execution_count": null,
   "metadata": {},
   "outputs": [],
   "source": [
    "fig, ax = plt.subplots(1, 1)\n",
    "\n",
    "# take any of the colours from above\n",
    "sns.barplot(\n",
    "    data=example_data,\n",
    "    x=\"pclass\",\n",
    "    y=\"survived\",\n",
    "    hue=\"sex\",\n",
    "    ax=ax,\n",
    "    ci=None,\n",
    "    palette=pal.as_hex()[2:4],\n",
    ")\n",
    "ax.set_title(\"Example of a bar plot\", fontsize=15)\n",
    "ax.set_xlabel(\"Class of passengers\")\n",
    "ax.set_ylabel(\"Number of survivors\")\n",
    "ax.set_ylim(bottom=0, top=1.2)\n",
    "plt.tight_layout()"
   ]
  },
  {
   "cell_type": "markdown",
   "metadata": {},
   "source": [
    "#### Example histogram chart"
   ]
  },
  {
   "cell_type": "code",
   "execution_count": null,
   "metadata": {},
   "outputs": [],
   "source": [
    "fig, ax = plt.subplots(1, 1)\n",
    "\n",
    "sns.histplot(\n",
    "    data=example_data,\n",
    "    x=\"age\",\n",
    "    ax=ax,\n",
    "    edgecolor=None,\n",
    "    element=\"step\",\n",
    "    kde=True,\n",
    "    alpha=0.3,\n",
    ")\n",
    "\n",
    "ax.set_title(\"Example of a Histogram plot\", fontsize=15)\n",
    "\n",
    "ax.set_xlabel(\"Age\")\n",
    "ax.set_ylabel(\"Distribution of values\")\n",
    "plt.tight_layout()"
   ]
  },
  {
   "cell_type": "code",
   "execution_count": null,
   "metadata": {},
   "outputs": [],
   "source": [
    "example_data.columns"
   ]
  },
  {
   "cell_type": "markdown",
   "metadata": {},
   "source": [
    "#### Wordcloud"
   ]
  },
  {
   "cell_type": "code",
   "execution_count": null,
   "metadata": {},
   "outputs": [],
   "source": [
    "text = \"Lorem ipsum dolor sit amet, consectetur adipiscing elit. Suspendisse auctor enim libero, at convallis orci luctus et. Sed finibus metus eu fringilla laoreet. Integer posuere pulvinar facilisis. Nam tempor libero quis dictum tempus. Nam tempor id sapien vel sollicitudin. Aenean nec dignissim mi. Vestibulum convallis pellentesque nisi eu elementum. Vestibulum ante ipsum primis in faucibus orci luctus et ultrices posuere cubilia curae; In malesuada eros ut risus tincidunt auctor. Maecenas arcu elit, sodales non bibendum eu, rhoncus at augue. Quisque a est arcu. Mauris neque justo, lacinia ut fermentum a, tincidunt in felis. Aenean a gravida enim, in volutpat libero. Mauris vel sapien a augue semper aliquet ut quis massa.\"\n",
    "stopwords = set(STOPWORDS)\n",
    "\n",
    "wc = WordCloud(\n",
    "    width=1600,\n",
    "    height=800,\n",
    "    max_words=100,\n",
    "    stopwords=stopwords,\n",
    "    margin=10,\n",
    "    random_state=123,\n",
    ").generate(text)\n",
    "\n",
    "\n",
    "def grey_color_func(\n",
    "    word, font_size, position, orientation, random_state=None, **kwargs\n",
    "):\n",
    "    return \"hsl(0, 0%%, %d%%)\" % random.randint(60, 100)\n",
    "\n",
    "\n",
    "default_colors = wc.to_array()\n",
    "plt.figure(figsize=(20, 10))\n",
    "plt.axis(\"off\")\n",
    "plt.title(\"Word cloud example with custom colouring\")\n",
    "plt.imshow(wc, interpolation=\"bilinear\")\n",
    "plt.tight_layout(pad=0)"
   ]
  }
 ],
 "metadata": {
  "kernelspec": {
   "display_name": "Python 3.9.13 ('ta22')",
   "language": "python",
   "name": "python3"
  },
  "language_info": {
   "codemirror_mode": {
    "name": "ipython",
    "version": 3
   },
   "file_extension": ".py",
   "mimetype": "text/x-python",
   "name": "python",
   "nbconvert_exporter": "python",
   "pygments_lexer": "ipython3",
   "version": "3.9.13"
  },
  "vscode": {
   "interpreter": {
    "hash": "37e987721a07d9a801a65e99628dc1f05d14dfb697773d267e80d3ef33c8e70f"
   }
  }
 },
 "nbformat": 4,
 "nbformat_minor": 2
}
